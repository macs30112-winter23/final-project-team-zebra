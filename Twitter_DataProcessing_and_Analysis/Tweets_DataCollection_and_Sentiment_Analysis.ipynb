{
  "cells": [
    {
      "cell_type": "markdown",
      "metadata": {
        "id": "V0eJsS93O9ZL"
      },
      "source": [
        "# **Part I: Twitter Data Collection and Sentiment Analysis**"
      ]
    },
    {
      "cell_type": "markdown",
      "metadata": {},
      "source": [
        "This Jupyter Notebook includes the code for the data collection (using web-scraping methods), data cleaning, data wrangling, and sentiment analysis (using a pre-trained Natural Language Processing model) aspects of the Twitter (social media) data for our project. It represents the first part of the complete data processing tasks we undertook to analyse the Twitter data, with the Part II notebook including the ensuing steps. This code scrapes the required Tweets using the `snscrape` library in Python for four key cities, merges the dataframes, pre-processes the text scraped, cleans it, and stores it in dataframes. Then, the sentiment analysis is carried out on it using the pre-trained RoBERTa-Base Model."
      ]
    },
    {
      "cell_type": "markdown",
      "metadata": {
        "id": "a4kGEe7mO5mN"
      },
      "source": [
        "## Libraries"
      ]
    },
    {
      "cell_type": "code",
      "execution_count": null,
      "metadata": {
        "id": "6IibLTeYNGwI"
      },
      "outputs": [],
      "source": [
        "# installing libraries if required (uncomment the next two lines)\n",
        "\n",
        "# !pip install snscrape \n",
        "# !pip install transformers\n",
        "\n",
        "# importing required functionalities \n",
        "import numpy as np              \n",
        "import pandas as pd\n",
        "from transformers import AutoTokenizer, AutoModelForSequenceClassification       # imports two classes from the transformers module of the Hugging Face NLP library\n",
        "from scipy.special import softmax                                                 # importing the final 'activation function'   \n",
        "import time\n",
        "import snscrape.modules.twitter as sntwitter                                        # import the module for web-scraping Tweets from Twitter\n",
        "from datetime import datetime"
      ]
    },
    {
      "cell_type": "markdown",
      "metadata": {
        "id": "xg5lKUKMO5mY"
      },
      "source": [
        "## Data Collection"
      ]
    },
    {
      "cell_type": "markdown",
      "metadata": {
        "id": "MbpQrGY9O5mY"
      },
      "source": [
        "### 1. Scraping the Twitter data"
      ]
    },
    {
      "cell_type": "code",
      "execution_count": null,
      "metadata": {
        "id": "khY_FYTHO5mZ"
      },
      "outputs": [],
      "source": [
        "# define a function to collect tweets with specified location, time and limit\n",
        "def get_tweet_per_month(loc, start, end, limit, tweets):\n",
        "    '''\n",
        "    Takes coordinates, starting and ending of the time period, maximum Tweets collected, the list of Tweets \n",
        "    Returns the list of Tweets scraped\n",
        "    Inputs:\n",
        "        loc: location coordinates of the city for which we are scraping relevant Tweets\n",
        "        start: starting of the time period for which we are scraping relevant Tweets\n",
        "        limit: the maximum number of Tweets to be scraped with the specified characteristics\n",
        "        tweets: name of the list in which the scraped Tweets will be stored\n",
        "    Output:\n",
        "        tweets: list of Tweets scraped\n",
        "    '''\n",
        "    for i, tweet in enumerate(sntwitter.TwitterSearchScraper('abortion geocode:\"{}\" since:\"{}\" until:\"{}\"'.format(loc, start, end)).get_items()):\n",
        "        if i > limit:\n",
        "            break\n",
        "        else:\n",
        "            tweets.append([tweet.date, tweet.user.username, tweet.content])\n",
        "    return tweets"
      ]
    },
    {
      "cell_type": "markdown",
      "metadata": {
        "id": "at0wSwiAO5ma"
      },
      "source": [
        "In order to collect representative data, we choose to collect about 300 tweets using the key word: \"abortion\" around similar dates for each month.\n",
        "We realize this by iterating over the starting dates and ending dates of each month from 2022-01-01 to 2023-01-01. We use the same keyword for scraping synchronous textual data from the New York Times for the other data source of the project.\n",
        "\n",
        "Then, we set the coordinates to be ones representing New York, Chicago, Los Angeles and Seattle to collect data from these cities respectively.\n",
        "Here the code only collects Tweets in New York and Los Angeles.\n",
        "\n",
        "We set a cap on the maximum number of Tweets from per region and per smaller time period (month) in order to ensure that we do not have a sample that is very skewed in terms of the geographical region or the time period. Further, it allowed us to cluster on the regional/time basis and visualize the changes in the number and type of Tweets in a representative manner."
      ]
    },
    {
      "cell_type": "code",
      "execution_count": null,
      "metadata": {
        "id": "RkARI2dmO5mb"
      },
      "outputs": [],
      "source": [
        "# initialize the list\n",
        "tweets = []\n",
        "\n",
        "# initialize the list of time periods (months) for which we wanted the data to be scraped\n",
        "lst_date = [('2022-01-01', '2022-02-01'),\n",
        "            ('2022-02-01', '2022-03-01'),\n",
        "            ('2022-03-01', '2022-04-01'),\n",
        "            ('2022-04-01', '2022-05-01'),\n",
        "            ('2022-05-01', '2022-06-01'),\n",
        "            ('2022-06-01', '2022-07-01'),\n",
        "            ('2022-07-01', '2022-08-01'),\n",
        "            ('2022-08-01', '2022-09-01'),\n",
        "            ('2022-09-01', '2022-10-01'),\n",
        "            ('2022-10-01', '2022-11-01'),\n",
        "            ('2022-11-01', '2022-12-01'),\n",
        "            ('2022-12-01', '2023-01-01')]"
      ]
    },
    {
      "cell_type": "markdown",
      "metadata": {
        "id": "rBH39YXpO5mc"
      },
      "source": [
        "* Scrape Tweets from New York City"
      ]
    },
    {
      "cell_type": "code",
      "execution_count": null,
      "metadata": {
        "id": "8WrxYhh8O5md"
      },
      "outputs": [],
      "source": [
        "# scrape tweets in New York City\n",
        "loc = '40.7128, -74.0060, 50km'\n",
        "for start, end in lst_date:\n",
        "    get_tweet_per_month(loc, start, end, 250, tweets)\n",
        "\n",
        "# convert the list to a pandas dataframe\n",
        "df_nyc = pd.DataFrame(tweets, columns = ['Date', 'User', 'Tweet'])\n",
        "\n",
        "# add city column and the coordinates\n",
        "df_nyc['city'] = 'New York City'\n",
        "df_nyc['latitude'] = '40.7128'\n",
        "df_nyc['longitude'] = '-74.0060'\n",
        "\n",
        "# save the dataframe to a csv file\n",
        "df_nyc.to_csv('tweet_nyc.csv')"
      ]
    },
    {
      "cell_type": "markdown",
      "metadata": {
        "id": "UI5KOm9uO5mf"
      },
      "source": [
        "* Scrape Tweets from Chicago"
      ]
    },
    {
      "cell_type": "code",
      "execution_count": null,
      "metadata": {
        "id": "zyx1wl8wO5mf"
      },
      "outputs": [],
      "source": [
        "# get tweets in Chicago\n",
        "loc = '41.8781, -87.6298, 50km'\n",
        "tweets = []\n",
        "for start, end in lst_date:\n",
        "    get_tweet_per_month(loc, start, end, 350, tweets)\n",
        "\n",
        "# convert the list to a pandas dataframe\n",
        "df_chi = pd.DataFrame(tweets, columns = ['Date', 'User', 'Tweet'])\n",
        "\n",
        "# add city column and the coordinates\n",
        "df_chi['city'] = 'Chicago'\n",
        "df_chi['latitude'] = '41.8781'\n",
        "df_chi['longitude'] = '-87.6298'\n",
        "\n",
        "# save the dataframe to a csv file\n",
        "df_chi.to_csv('tweet_chicago.csv')"
      ]
    },
    {
      "cell_type": "markdown",
      "metadata": {
        "id": "axsGbDizO5mg"
      },
      "source": [
        "* Scrape Tweets from Los Angeles\n",
        "\n",
        "The following data from LA and Seattle is scraped using a different method since (this part of the code was merged afterwards) but the logic is the same. This is because Bhavya and Xiaowei were working on this task in parallel."
      ]
    },
    {
      "cell_type": "code",
      "execution_count": null,
      "metadata": {
        "colab": {
          "base_uri": "https://localhost:8080/",
          "height": 411
        },
        "id": "kWSHvxbwQ-EK",
        "outputId": "7b32ddc5-a602-46c5-a00f-1a0158127a3e"
      },
      "outputs": [
        {
          "name": "stderr",
          "output_type": "stream",
          "text": [
            "<ipython-input-40-cedf64626d4f>:15: FutureWarning: content is deprecated, use rawContent instead\n",
            "  tweets_list.append([tweet.date, tweet.content, tweet.user.location])\n"
          ]
        },
        {
          "name": "stdout",
          "output_type": "stream",
          "text": [
            "2328\n"
          ]
        },
        {
          "data": {
            "text/html": [
              "\n",
              "  <div id=\"df-688af41c-e0ec-41d6-aff9-c3d5ec7f72a9\">\n",
              "    <div class=\"colab-df-container\">\n",
              "      <div>\n",
              "<style scoped>\n",
              "    .dataframe tbody tr th:only-of-type {\n",
              "        vertical-align: middle;\n",
              "    }\n",
              "\n",
              "    .dataframe tbody tr th {\n",
              "        vertical-align: top;\n",
              "    }\n",
              "\n",
              "    .dataframe thead th {\n",
              "        text-align: right;\n",
              "    }\n",
              "</style>\n",
              "<table border=\"1\" class=\"dataframe\">\n",
              "  <thead>\n",
              "    <tr style=\"text-align: right;\">\n",
              "      <th></th>\n",
              "      <th>Date</th>\n",
              "      <th>Text</th>\n",
              "      <th>Location</th>\n",
              "    </tr>\n",
              "  </thead>\n",
              "  <tbody>\n",
              "    <tr>\n",
              "      <th>0</th>\n",
              "      <td>2022-01-29 22:44:44+00:00</td>\n",
              "      <td>@Billfisher1219 @MarTheResister @RepSwalwell Y...</td>\n",
              "      <td>West Hollywood, CA</td>\n",
              "    </tr>\n",
              "    <tr>\n",
              "      <th>1</th>\n",
              "      <td>2022-01-28 13:30:00+00:00</td>\n",
              "      <td>@EmeGeDice That's why I believe in abortion.</td>\n",
              "      <td>Los Angeles, CA</td>\n",
              "    </tr>\n",
              "    <tr>\n",
              "      <th>2</th>\n",
              "      <td>2022-01-27 22:14:12+00:00</td>\n",
              "      <td>Ahh, and here Lilly links a pro-choice abortio...</td>\n",
              "      <td>Studio City, CA</td>\n",
              "    </tr>\n",
              "    <tr>\n",
              "      <th>3</th>\n",
              "      <td>2022-01-27 21:05:32+00:00</td>\n",
              "      <td>@aonetwothreefor @ghowell69 @covie_93 I was wo...</td>\n",
              "      <td></td>\n",
              "    </tr>\n",
              "    <tr>\n",
              "      <th>4</th>\n",
              "      <td>2022-01-27 20:29:40+00:00</td>\n",
              "      <td>Honduras’ first female President Xiomara Castr...</td>\n",
              "      <td>Los Angeles, CA</td>\n",
              "    </tr>\n",
              "  </tbody>\n",
              "</table>\n",
              "</div>\n",
              "      <button class=\"colab-df-convert\" onclick=\"convertToInteractive('df-688af41c-e0ec-41d6-aff9-c3d5ec7f72a9')\"\n",
              "              title=\"Convert this dataframe to an interactive table.\"\n",
              "              style=\"display:none;\">\n",
              "        \n",
              "  <svg xmlns=\"http://www.w3.org/2000/svg\" height=\"24px\"viewBox=\"0 0 24 24\"\n",
              "       width=\"24px\">\n",
              "    <path d=\"M0 0h24v24H0V0z\" fill=\"none\"/>\n",
              "    <path d=\"M18.56 5.44l.94 2.06.94-2.06 2.06-.94-2.06-.94-.94-2.06-.94 2.06-2.06.94zm-11 1L8.5 8.5l.94-2.06 2.06-.94-2.06-.94L8.5 2.5l-.94 2.06-2.06.94zm10 10l.94 2.06.94-2.06 2.06-.94-2.06-.94-.94-2.06-.94 2.06-2.06.94z\"/><path d=\"M17.41 7.96l-1.37-1.37c-.4-.4-.92-.59-1.43-.59-.52 0-1.04.2-1.43.59L10.3 9.45l-7.72 7.72c-.78.78-.78 2.05 0 2.83L4 21.41c.39.39.9.59 1.41.59.51 0 1.02-.2 1.41-.59l7.78-7.78 2.81-2.81c.8-.78.8-2.07 0-2.86zM5.41 20L4 18.59l7.72-7.72 1.47 1.35L5.41 20z\"/>\n",
              "  </svg>\n",
              "      </button>\n",
              "      \n",
              "  <style>\n",
              "    .colab-df-container {\n",
              "      display:flex;\n",
              "      flex-wrap:wrap;\n",
              "      gap: 12px;\n",
              "    }\n",
              "\n",
              "    .colab-df-convert {\n",
              "      background-color: #E8F0FE;\n",
              "      border: none;\n",
              "      border-radius: 50%;\n",
              "      cursor: pointer;\n",
              "      display: none;\n",
              "      fill: #1967D2;\n",
              "      height: 32px;\n",
              "      padding: 0 0 0 0;\n",
              "      width: 32px;\n",
              "    }\n",
              "\n",
              "    .colab-df-convert:hover {\n",
              "      background-color: #E2EBFA;\n",
              "      box-shadow: 0px 1px 2px rgba(60, 64, 67, 0.3), 0px 1px 3px 1px rgba(60, 64, 67, 0.15);\n",
              "      fill: #174EA6;\n",
              "    }\n",
              "\n",
              "    [theme=dark] .colab-df-convert {\n",
              "      background-color: #3B4455;\n",
              "      fill: #D2E3FC;\n",
              "    }\n",
              "\n",
              "    [theme=dark] .colab-df-convert:hover {\n",
              "      background-color: #434B5C;\n",
              "      box-shadow: 0px 1px 3px 1px rgba(0, 0, 0, 0.15);\n",
              "      filter: drop-shadow(0px 1px 2px rgba(0, 0, 0, 0.3));\n",
              "      fill: #FFFFFF;\n",
              "    }\n",
              "  </style>\n",
              "\n",
              "      <script>\n",
              "        const buttonEl =\n",
              "          document.querySelector('#df-688af41c-e0ec-41d6-aff9-c3d5ec7f72a9 button.colab-df-convert');\n",
              "        buttonEl.style.display =\n",
              "          google.colab.kernel.accessAllowed ? 'block' : 'none';\n",
              "\n",
              "        async function convertToInteractive(key) {\n",
              "          const element = document.querySelector('#df-688af41c-e0ec-41d6-aff9-c3d5ec7f72a9');\n",
              "          const dataTable =\n",
              "            await google.colab.kernel.invokeFunction('convertToInteractive',\n",
              "                                                     [key], {});\n",
              "          if (!dataTable) return;\n",
              "\n",
              "          const docLinkHtml = 'Like what you see? Visit the ' +\n",
              "            '<a target=\"_blank\" href=https://colab.research.google.com/notebooks/data_table.ipynb>data table notebook</a>'\n",
              "            + ' to learn more about interactive tables.';\n",
              "          element.innerHTML = '';\n",
              "          dataTable['output_type'] = 'display_data';\n",
              "          await google.colab.output.renderOutput(dataTable, element);\n",
              "          const docLink = document.createElement('div');\n",
              "          docLink.innerHTML = docLinkHtml;\n",
              "          element.appendChild(docLink);\n",
              "        }\n",
              "      </script>\n",
              "    </div>\n",
              "  </div>\n",
              "  "
            ],
            "text/plain": [
              "                       Date  \\\n",
              "0 2022-01-29 22:44:44+00:00   \n",
              "1 2022-01-28 13:30:00+00:00   \n",
              "2 2022-01-27 22:14:12+00:00   \n",
              "3 2022-01-27 21:05:32+00:00   \n",
              "4 2022-01-27 20:29:40+00:00   \n",
              "\n",
              "                                                Text            Location  \n",
              "0  @Billfisher1219 @MarTheResister @RepSwalwell Y...  West Hollywood, CA  \n",
              "1       @EmeGeDice That's why I believe in abortion.     Los Angeles, CA  \n",
              "2  Ahh, and here Lilly links a pro-choice abortio...     Studio City, CA  \n",
              "3  @aonetwothreefor @ghowell69 @covie_93 I was wo...                      \n",
              "4  Honduras’ first female President Xiomara Castr...     Los Angeles, CA  "
            ]
          },
          "execution_count": 40,
          "metadata": {},
          "output_type": "execute_result"
        }
      ],
      "source": [
        "inputs_list = ['abortion geocode:\"{}\" since:2022-01-01 until:2022-02-01', 'abortion geocode:\"{}\" since:2022-02-01 until:2022-03-01', 'abortion geocode:\"{}\" since:2022-03-01 until:2022-04-01',\n",
        "                'abortion geocode:\"{}\" since:2022-04-01 until:2022-05-01', 'abortion geocode:\"{}\" since:2022-05-01 until:2022-06-01', 'abortion geocode:\"{}\" since:2022-06-01 until:2022-07-01',\n",
        "               'abortion geocode:\"{}\" since:2022-07-01 until:2022-08-01', 'abortion geocode:\"{}\" since:2022-08-01 until:2022-09-01', 'abortion geocode:\"{}\" since:2022-09-01 until:2022-10-01', \n",
        "               'abortion geocode:\"{}\" since:2022-10-01 until:2022-11-01', 'abortion geocode:\"{}\" since:2022-11-01 until:2022-12-01', 'abortion geocode:\"{}\" since:2022-12-01 until:2023-01-01', \n",
        "                'abortion geocode:\"{}\" since:2023-01-01 until:2023-02-01']\n",
        "    \n",
        "tweets_list = []\n",
        "\n",
        "loc = '34.052235, -118.243683, 50km' #LA\n",
        "# Using TwitterSearchScraper to scrape data and append tweets to list\n",
        "for item in inputs_list:\n",
        "  for i,tweet in enumerate(sntwitter.TwitterSearchScraper(item.format(loc)).get_items()):\n",
        "      if i>250:\n",
        "          break\n",
        "      tweets_list.append([tweet.date, tweet.content, tweet.user.location])\n",
        "print(len(tweets_list))\n",
        "\n",
        "# Creating a dataframe from the tweets list above\n",
        "tweets_df = pd.DataFrame(tweets_list, columns=['Date', 'Text', 'Location'])\n",
        "tweets_df.head()"
      ]
    },
    {
      "cell_type": "markdown",
      "metadata": {
        "id": "O7aPBh5IO5mj"
      },
      "source": [
        "* Scrape Tweets from Seattle"
      ]
    },
    {
      "cell_type": "code",
      "execution_count": null,
      "metadata": {
        "colab": {
          "base_uri": "https://localhost:8080/",
          "height": 411
        },
        "id": "2uY9WaD9nHk7",
        "outputId": "c95c5cce-46ec-43bd-9576-0a1f3b6aaf67"
      },
      "outputs": [
        {
          "name": "stderr",
          "output_type": "stream",
          "text": [
            "<ipython-input-41-c49fe3f9b005>:15: FutureWarning: content is deprecated, use rawContent instead\n",
            "  tweets_list2.append([tweet.date, tweet.content, tweet.user.location])\n"
          ]
        },
        {
          "name": "stdout",
          "output_type": "stream",
          "text": [
            "1655\n"
          ]
        },
        {
          "data": {
            "text/html": [
              "\n",
              "  <div id=\"df-e0163573-53cd-407c-b967-9b08c7112edd\">\n",
              "    <div class=\"colab-df-container\">\n",
              "      <div>\n",
              "<style scoped>\n",
              "    .dataframe tbody tr th:only-of-type {\n",
              "        vertical-align: middle;\n",
              "    }\n",
              "\n",
              "    .dataframe tbody tr th {\n",
              "        vertical-align: top;\n",
              "    }\n",
              "\n",
              "    .dataframe thead th {\n",
              "        text-align: right;\n",
              "    }\n",
              "</style>\n",
              "<table border=\"1\" class=\"dataframe\">\n",
              "  <thead>\n",
              "    <tr style=\"text-align: right;\">\n",
              "      <th></th>\n",
              "      <th>Date</th>\n",
              "      <th>Text</th>\n",
              "      <th>Location</th>\n",
              "    </tr>\n",
              "  </thead>\n",
              "  <tbody>\n",
              "    <tr>\n",
              "      <th>0</th>\n",
              "      <td>2022-01-28 00:18:30+00:00</td>\n",
              "      <td>@HeartlandSignal Want government over-reach an...</td>\n",
              "      <td></td>\n",
              "    </tr>\n",
              "    <tr>\n",
              "      <th>1</th>\n",
              "      <td>2022-01-25 14:33:33+00:00</td>\n",
              "      <td>@SenatorCantwell Could you get Democrat suppor...</td>\n",
              "      <td>WA</td>\n",
              "    </tr>\n",
              "    <tr>\n",
              "      <th>2</th>\n",
              "      <td>2022-01-23 18:35:15+00:00</td>\n",
              "      <td>@MaryMargOlohan @johnbeagle @DailySignal Prett...</td>\n",
              "      <td>Puyallup, WA</td>\n",
              "    </tr>\n",
              "    <tr>\n",
              "      <th>3</th>\n",
              "      <td>2022-01-20 04:30:26+00:00</td>\n",
              "      <td>Correct. The filibuster can’t be permanently s...</td>\n",
              "      <td>Seattle, WA</td>\n",
              "    </tr>\n",
              "    <tr>\n",
              "      <th>4</th>\n",
              "      <td>2022-01-16 17:42:00+00:00</td>\n",
              "      <td>@RebeccaforWA Codifying Roe would make it even...</td>\n",
              "      <td>Tacoma, WA</td>\n",
              "    </tr>\n",
              "  </tbody>\n",
              "</table>\n",
              "</div>\n",
              "      <button class=\"colab-df-convert\" onclick=\"convertToInteractive('df-e0163573-53cd-407c-b967-9b08c7112edd')\"\n",
              "              title=\"Convert this dataframe to an interactive table.\"\n",
              "              style=\"display:none;\">\n",
              "        \n",
              "  <svg xmlns=\"http://www.w3.org/2000/svg\" height=\"24px\"viewBox=\"0 0 24 24\"\n",
              "       width=\"24px\">\n",
              "    <path d=\"M0 0h24v24H0V0z\" fill=\"none\"/>\n",
              "    <path d=\"M18.56 5.44l.94 2.06.94-2.06 2.06-.94-2.06-.94-.94-2.06-.94 2.06-2.06.94zm-11 1L8.5 8.5l.94-2.06 2.06-.94-2.06-.94L8.5 2.5l-.94 2.06-2.06.94zm10 10l.94 2.06.94-2.06 2.06-.94-2.06-.94-.94-2.06-.94 2.06-2.06.94z\"/><path d=\"M17.41 7.96l-1.37-1.37c-.4-.4-.92-.59-1.43-.59-.52 0-1.04.2-1.43.59L10.3 9.45l-7.72 7.72c-.78.78-.78 2.05 0 2.83L4 21.41c.39.39.9.59 1.41.59.51 0 1.02-.2 1.41-.59l7.78-7.78 2.81-2.81c.8-.78.8-2.07 0-2.86zM5.41 20L4 18.59l7.72-7.72 1.47 1.35L5.41 20z\"/>\n",
              "  </svg>\n",
              "      </button>\n",
              "      \n",
              "  <style>\n",
              "    .colab-df-container {\n",
              "      display:flex;\n",
              "      flex-wrap:wrap;\n",
              "      gap: 12px;\n",
              "    }\n",
              "\n",
              "    .colab-df-convert {\n",
              "      background-color: #E8F0FE;\n",
              "      border: none;\n",
              "      border-radius: 50%;\n",
              "      cursor: pointer;\n",
              "      display: none;\n",
              "      fill: #1967D2;\n",
              "      height: 32px;\n",
              "      padding: 0 0 0 0;\n",
              "      width: 32px;\n",
              "    }\n",
              "\n",
              "    .colab-df-convert:hover {\n",
              "      background-color: #E2EBFA;\n",
              "      box-shadow: 0px 1px 2px rgba(60, 64, 67, 0.3), 0px 1px 3px 1px rgba(60, 64, 67, 0.15);\n",
              "      fill: #174EA6;\n",
              "    }\n",
              "\n",
              "    [theme=dark] .colab-df-convert {\n",
              "      background-color: #3B4455;\n",
              "      fill: #D2E3FC;\n",
              "    }\n",
              "\n",
              "    [theme=dark] .colab-df-convert:hover {\n",
              "      background-color: #434B5C;\n",
              "      box-shadow: 0px 1px 3px 1px rgba(0, 0, 0, 0.15);\n",
              "      filter: drop-shadow(0px 1px 2px rgba(0, 0, 0, 0.3));\n",
              "      fill: #FFFFFF;\n",
              "    }\n",
              "  </style>\n",
              "\n",
              "      <script>\n",
              "        const buttonEl =\n",
              "          document.querySelector('#df-e0163573-53cd-407c-b967-9b08c7112edd button.colab-df-convert');\n",
              "        buttonEl.style.display =\n",
              "          google.colab.kernel.accessAllowed ? 'block' : 'none';\n",
              "\n",
              "        async function convertToInteractive(key) {\n",
              "          const element = document.querySelector('#df-e0163573-53cd-407c-b967-9b08c7112edd');\n",
              "          const dataTable =\n",
              "            await google.colab.kernel.invokeFunction('convertToInteractive',\n",
              "                                                     [key], {});\n",
              "          if (!dataTable) return;\n",
              "\n",
              "          const docLinkHtml = 'Like what you see? Visit the ' +\n",
              "            '<a target=\"_blank\" href=https://colab.research.google.com/notebooks/data_table.ipynb>data table notebook</a>'\n",
              "            + ' to learn more about interactive tables.';\n",
              "          element.innerHTML = '';\n",
              "          dataTable['output_type'] = 'display_data';\n",
              "          await google.colab.output.renderOutput(dataTable, element);\n",
              "          const docLink = document.createElement('div');\n",
              "          docLink.innerHTML = docLinkHtml;\n",
              "          element.appendChild(docLink);\n",
              "        }\n",
              "      </script>\n",
              "    </div>\n",
              "  </div>\n",
              "  "
            ],
            "text/plain": [
              "                       Date  \\\n",
              "0 2022-01-28 00:18:30+00:00   \n",
              "1 2022-01-25 14:33:33+00:00   \n",
              "2 2022-01-23 18:35:15+00:00   \n",
              "3 2022-01-20 04:30:26+00:00   \n",
              "4 2022-01-16 17:42:00+00:00   \n",
              "\n",
              "                                                Text      Location  \n",
              "0  @HeartlandSignal Want government over-reach an...                \n",
              "1  @SenatorCantwell Could you get Democrat suppor...            WA  \n",
              "2  @MaryMargOlohan @johnbeagle @DailySignal Prett...  Puyallup, WA  \n",
              "3  Correct. The filibuster can’t be permanently s...  Seattle, WA   \n",
              "4  @RebeccaforWA Codifying Roe would make it even...    Tacoma, WA  "
            ]
          },
          "execution_count": 41,
          "metadata": {},
          "output_type": "execute_result"
        }
      ],
      "source": [
        "inputs_list = ['abortion geocode:\"{}\" since:2022-01-01 until:2022-02-01', 'abortion geocode:\"{}\" since:2022-02-01 until:2022-03-01', 'abortion geocode:\"{}\" since:2022-03-01 until:2022-04-01',\n",
        "                'abortion geocode:\"{}\" since:2022-04-01 until:2022-05-01', 'abortion geocode:\"{}\" since:2022-05-01 until:2022-06-01', 'abortion geocode:\"{}\" since:2022-06-01 until:2022-07-01',\n",
        "               'abortion geocode:\"{}\" since:2022-07-01 until:2022-08-01', 'abortion geocode:\"{}\" since:2022-08-01 until:2022-09-01', 'abortion geocode:\"{}\" since:2022-09-01 until:2022-10-01', \n",
        "               'abortion geocode:\"{}\" since:2022-10-01 until:2022-11-01', 'abortion geocode:\"{}\" since:2022-11-01 until:2022-12-01', 'abortion geocode:\"{}\" since:2022-12-01 until:2023-01-01', \n",
        "                'abortion geocode:\"{}\" since:2023-01-01 until:2023-02-01']\n",
        "    \n",
        "tweets_list2 = []\n",
        "\n",
        "loc = '47.608013, -122.335167, 50km' #Seattle\n",
        "# Using TwitterSearchScraper to scrape data and append tweets to list\n",
        "for item in inputs_list:\n",
        "  for i,tweet in enumerate(sntwitter.TwitterSearchScraper(item.format(loc)).get_items()):\n",
        "      if i>250:\n",
        "          break\n",
        "      tweets_list2.append([tweet.date, tweet.content, tweet.user.location])\n",
        "print(len(tweets_list2))\n",
        "\n",
        "# Creating a dataframe from the tweets list above\n",
        "tweets_df2 = pd.DataFrame(tweets_list2, columns=['Date', 'Text', 'Location'])\n",
        "tweets_df2.head()"
      ]
    },
    {
      "cell_type": "code",
      "execution_count": null,
      "metadata": {
        "colab": {
          "base_uri": "https://localhost:8080/",
          "height": 372
        },
        "id": "BqSGVvsLpptW",
        "outputId": "8e7ab203-1dba-4fd7-e656-952255515836"
      },
      "outputs": [
        {
          "data": {
            "text/html": [
              "\n",
              "  <div id=\"df-76a6c111-850f-4f16-916f-696369add9db\">\n",
              "    <div class=\"colab-df-container\">\n",
              "      <div>\n",
              "<style scoped>\n",
              "    .dataframe tbody tr th:only-of-type {\n",
              "        vertical-align: middle;\n",
              "    }\n",
              "\n",
              "    .dataframe tbody tr th {\n",
              "        vertical-align: top;\n",
              "    }\n",
              "\n",
              "    .dataframe thead th {\n",
              "        text-align: right;\n",
              "    }\n",
              "</style>\n",
              "<table border=\"1\" class=\"dataframe\">\n",
              "  <thead>\n",
              "    <tr style=\"text-align: right;\">\n",
              "      <th></th>\n",
              "      <th>Date</th>\n",
              "      <th>Text</th>\n",
              "      <th>Location</th>\n",
              "      <th>Latitude</th>\n",
              "      <th>Longitude</th>\n",
              "    </tr>\n",
              "  </thead>\n",
              "  <tbody>\n",
              "    <tr>\n",
              "      <th>0</th>\n",
              "      <td>2022-01-29 22:44:44+00:00</td>\n",
              "      <td>@Billfisher1219 @MarTheResister @RepSwalwell Y...</td>\n",
              "      <td>West Hollywood, CA</td>\n",
              "      <td>34.052235</td>\n",
              "      <td>-118.243683</td>\n",
              "    </tr>\n",
              "    <tr>\n",
              "      <th>1</th>\n",
              "      <td>2022-01-28 13:30:00+00:00</td>\n",
              "      <td>@EmeGeDice That's why I believe in abortion.</td>\n",
              "      <td>Los Angeles, CA</td>\n",
              "      <td>34.052235</td>\n",
              "      <td>-118.243683</td>\n",
              "    </tr>\n",
              "    <tr>\n",
              "      <th>2</th>\n",
              "      <td>2022-01-27 22:14:12+00:00</td>\n",
              "      <td>Ahh, and here Lilly links a pro-choice abortio...</td>\n",
              "      <td>Studio City, CA</td>\n",
              "      <td>34.052235</td>\n",
              "      <td>-118.243683</td>\n",
              "    </tr>\n",
              "    <tr>\n",
              "      <th>3</th>\n",
              "      <td>2022-01-27 21:05:32+00:00</td>\n",
              "      <td>@aonetwothreefor @ghowell69 @covie_93 I was wo...</td>\n",
              "      <td></td>\n",
              "      <td>34.052235</td>\n",
              "      <td>-118.243683</td>\n",
              "    </tr>\n",
              "    <tr>\n",
              "      <th>4</th>\n",
              "      <td>2022-01-27 20:29:40+00:00</td>\n",
              "      <td>Honduras’ first female President Xiomara Castr...</td>\n",
              "      <td>Los Angeles, CA</td>\n",
              "      <td>34.052235</td>\n",
              "      <td>-118.243683</td>\n",
              "    </tr>\n",
              "  </tbody>\n",
              "</table>\n",
              "</div>\n",
              "      <button class=\"colab-df-convert\" onclick=\"convertToInteractive('df-76a6c111-850f-4f16-916f-696369add9db')\"\n",
              "              title=\"Convert this dataframe to an interactive table.\"\n",
              "              style=\"display:none;\">\n",
              "        \n",
              "  <svg xmlns=\"http://www.w3.org/2000/svg\" height=\"24px\"viewBox=\"0 0 24 24\"\n",
              "       width=\"24px\">\n",
              "    <path d=\"M0 0h24v24H0V0z\" fill=\"none\"/>\n",
              "    <path d=\"M18.56 5.44l.94 2.06.94-2.06 2.06-.94-2.06-.94-.94-2.06-.94 2.06-2.06.94zm-11 1L8.5 8.5l.94-2.06 2.06-.94-2.06-.94L8.5 2.5l-.94 2.06-2.06.94zm10 10l.94 2.06.94-2.06 2.06-.94-2.06-.94-.94-2.06-.94 2.06-2.06.94z\"/><path d=\"M17.41 7.96l-1.37-1.37c-.4-.4-.92-.59-1.43-.59-.52 0-1.04.2-1.43.59L10.3 9.45l-7.72 7.72c-.78.78-.78 2.05 0 2.83L4 21.41c.39.39.9.59 1.41.59.51 0 1.02-.2 1.41-.59l7.78-7.78 2.81-2.81c.8-.78.8-2.07 0-2.86zM5.41 20L4 18.59l7.72-7.72 1.47 1.35L5.41 20z\"/>\n",
              "  </svg>\n",
              "      </button>\n",
              "      \n",
              "  <style>\n",
              "    .colab-df-container {\n",
              "      display:flex;\n",
              "      flex-wrap:wrap;\n",
              "      gap: 12px;\n",
              "    }\n",
              "\n",
              "    .colab-df-convert {\n",
              "      background-color: #E8F0FE;\n",
              "      border: none;\n",
              "      border-radius: 50%;\n",
              "      cursor: pointer;\n",
              "      display: none;\n",
              "      fill: #1967D2;\n",
              "      height: 32px;\n",
              "      padding: 0 0 0 0;\n",
              "      width: 32px;\n",
              "    }\n",
              "\n",
              "    .colab-df-convert:hover {\n",
              "      background-color: #E2EBFA;\n",
              "      box-shadow: 0px 1px 2px rgba(60, 64, 67, 0.3), 0px 1px 3px 1px rgba(60, 64, 67, 0.15);\n",
              "      fill: #174EA6;\n",
              "    }\n",
              "\n",
              "    [theme=dark] .colab-df-convert {\n",
              "      background-color: #3B4455;\n",
              "      fill: #D2E3FC;\n",
              "    }\n",
              "\n",
              "    [theme=dark] .colab-df-convert:hover {\n",
              "      background-color: #434B5C;\n",
              "      box-shadow: 0px 1px 3px 1px rgba(0, 0, 0, 0.15);\n",
              "      filter: drop-shadow(0px 1px 2px rgba(0, 0, 0, 0.3));\n",
              "      fill: #FFFFFF;\n",
              "    }\n",
              "  </style>\n",
              "\n",
              "      <script>\n",
              "        const buttonEl =\n",
              "          document.querySelector('#df-76a6c111-850f-4f16-916f-696369add9db button.colab-df-convert');\n",
              "        buttonEl.style.display =\n",
              "          google.colab.kernel.accessAllowed ? 'block' : 'none';\n",
              "\n",
              "        async function convertToInteractive(key) {\n",
              "          const element = document.querySelector('#df-76a6c111-850f-4f16-916f-696369add9db');\n",
              "          const dataTable =\n",
              "            await google.colab.kernel.invokeFunction('convertToInteractive',\n",
              "                                                     [key], {});\n",
              "          if (!dataTable) return;\n",
              "\n",
              "          const docLinkHtml = 'Like what you see? Visit the ' +\n",
              "            '<a target=\"_blank\" href=https://colab.research.google.com/notebooks/data_table.ipynb>data table notebook</a>'\n",
              "            + ' to learn more about interactive tables.';\n",
              "          element.innerHTML = '';\n",
              "          dataTable['output_type'] = 'display_data';\n",
              "          await google.colab.output.renderOutput(dataTable, element);\n",
              "          const docLink = document.createElement('div');\n",
              "          docLink.innerHTML = docLinkHtml;\n",
              "          element.appendChild(docLink);\n",
              "        }\n",
              "      </script>\n",
              "    </div>\n",
              "  </div>\n",
              "  "
            ],
            "text/plain": [
              "                       Date  \\\n",
              "0 2022-01-29 22:44:44+00:00   \n",
              "1 2022-01-28 13:30:00+00:00   \n",
              "2 2022-01-27 22:14:12+00:00   \n",
              "3 2022-01-27 21:05:32+00:00   \n",
              "4 2022-01-27 20:29:40+00:00   \n",
              "\n",
              "                                                Text            Location  \\\n",
              "0  @Billfisher1219 @MarTheResister @RepSwalwell Y...  West Hollywood, CA   \n",
              "1       @EmeGeDice That's why I believe in abortion.     Los Angeles, CA   \n",
              "2  Ahh, and here Lilly links a pro-choice abortio...     Studio City, CA   \n",
              "3  @aonetwothreefor @ghowell69 @covie_93 I was wo...                       \n",
              "4  Honduras’ first female President Xiomara Castr...     Los Angeles, CA   \n",
              "\n",
              "    Latitude    Longitude  \n",
              "0  34.052235  -118.243683  \n",
              "1  34.052235  -118.243683  \n",
              "2  34.052235  -118.243683  \n",
              "3  34.052235  -118.243683  \n",
              "4  34.052235  -118.243683  "
            ]
          },
          "execution_count": 44,
          "metadata": {},
          "output_type": "execute_result"
        }
      ],
      "source": [
        "# adding latitude and longitude columns to the dataframes\n",
        "tweets_df['Latitude'] = '34.052235'\n",
        "tweets_df['Longitude'] = '-118.243683'\n",
        "tweets_df.head()"
      ]
    },
    {
      "cell_type": "code",
      "execution_count": null,
      "metadata": {
        "colab": {
          "base_uri": "https://localhost:8080/",
          "height": 354
        },
        "id": "1yWjO8FLpwcm",
        "outputId": "f0487100-2950-4a89-edfc-b47cf539a2dd"
      },
      "outputs": [
        {
          "data": {
            "text/html": [
              "\n",
              "  <div id=\"df-8eeb7a29-17b5-4f8b-a96f-913aee9fbdb1\">\n",
              "    <div class=\"colab-df-container\">\n",
              "      <div>\n",
              "<style scoped>\n",
              "    .dataframe tbody tr th:only-of-type {\n",
              "        vertical-align: middle;\n",
              "    }\n",
              "\n",
              "    .dataframe tbody tr th {\n",
              "        vertical-align: top;\n",
              "    }\n",
              "\n",
              "    .dataframe thead th {\n",
              "        text-align: right;\n",
              "    }\n",
              "</style>\n",
              "<table border=\"1\" class=\"dataframe\">\n",
              "  <thead>\n",
              "    <tr style=\"text-align: right;\">\n",
              "      <th></th>\n",
              "      <th>Date</th>\n",
              "      <th>Text</th>\n",
              "      <th>Location</th>\n",
              "      <th>Latitude</th>\n",
              "      <th>Longitude</th>\n",
              "    </tr>\n",
              "  </thead>\n",
              "  <tbody>\n",
              "    <tr>\n",
              "      <th>0</th>\n",
              "      <td>2022-01-28 00:18:30+00:00</td>\n",
              "      <td>@HeartlandSignal Want government over-reach an...</td>\n",
              "      <td></td>\n",
              "      <td>47.608013</td>\n",
              "      <td>-122.335167</td>\n",
              "    </tr>\n",
              "    <tr>\n",
              "      <th>1</th>\n",
              "      <td>2022-01-25 14:33:33+00:00</td>\n",
              "      <td>@SenatorCantwell Could you get Democrat suppor...</td>\n",
              "      <td>WA</td>\n",
              "      <td>47.608013</td>\n",
              "      <td>-122.335167</td>\n",
              "    </tr>\n",
              "    <tr>\n",
              "      <th>2</th>\n",
              "      <td>2022-01-23 18:35:15+00:00</td>\n",
              "      <td>@MaryMargOlohan @johnbeagle @DailySignal Prett...</td>\n",
              "      <td>Puyallup, WA</td>\n",
              "      <td>47.608013</td>\n",
              "      <td>-122.335167</td>\n",
              "    </tr>\n",
              "    <tr>\n",
              "      <th>3</th>\n",
              "      <td>2022-01-20 04:30:26+00:00</td>\n",
              "      <td>Correct. The filibuster can’t be permanently s...</td>\n",
              "      <td>Seattle, WA</td>\n",
              "      <td>47.608013</td>\n",
              "      <td>-122.335167</td>\n",
              "    </tr>\n",
              "    <tr>\n",
              "      <th>4</th>\n",
              "      <td>2022-01-16 17:42:00+00:00</td>\n",
              "      <td>@RebeccaforWA Codifying Roe would make it even...</td>\n",
              "      <td>Tacoma, WA</td>\n",
              "      <td>47.608013</td>\n",
              "      <td>-122.335167</td>\n",
              "    </tr>\n",
              "  </tbody>\n",
              "</table>\n",
              "</div>\n",
              "      <button class=\"colab-df-convert\" onclick=\"convertToInteractive('df-8eeb7a29-17b5-4f8b-a96f-913aee9fbdb1')\"\n",
              "              title=\"Convert this dataframe to an interactive table.\"\n",
              "              style=\"display:none;\">\n",
              "        \n",
              "  <svg xmlns=\"http://www.w3.org/2000/svg\" height=\"24px\"viewBox=\"0 0 24 24\"\n",
              "       width=\"24px\">\n",
              "    <path d=\"M0 0h24v24H0V0z\" fill=\"none\"/>\n",
              "    <path d=\"M18.56 5.44l.94 2.06.94-2.06 2.06-.94-2.06-.94-.94-2.06-.94 2.06-2.06.94zm-11 1L8.5 8.5l.94-2.06 2.06-.94-2.06-.94L8.5 2.5l-.94 2.06-2.06.94zm10 10l.94 2.06.94-2.06 2.06-.94-2.06-.94-.94-2.06-.94 2.06-2.06.94z\"/><path d=\"M17.41 7.96l-1.37-1.37c-.4-.4-.92-.59-1.43-.59-.52 0-1.04.2-1.43.59L10.3 9.45l-7.72 7.72c-.78.78-.78 2.05 0 2.83L4 21.41c.39.39.9.59 1.41.59.51 0 1.02-.2 1.41-.59l7.78-7.78 2.81-2.81c.8-.78.8-2.07 0-2.86zM5.41 20L4 18.59l7.72-7.72 1.47 1.35L5.41 20z\"/>\n",
              "  </svg>\n",
              "      </button>\n",
              "      \n",
              "  <style>\n",
              "    .colab-df-container {\n",
              "      display:flex;\n",
              "      flex-wrap:wrap;\n",
              "      gap: 12px;\n",
              "    }\n",
              "\n",
              "    .colab-df-convert {\n",
              "      background-color: #E8F0FE;\n",
              "      border: none;\n",
              "      border-radius: 50%;\n",
              "      cursor: pointer;\n",
              "      display: none;\n",
              "      fill: #1967D2;\n",
              "      height: 32px;\n",
              "      padding: 0 0 0 0;\n",
              "      width: 32px;\n",
              "    }\n",
              "\n",
              "    .colab-df-convert:hover {\n",
              "      background-color: #E2EBFA;\n",
              "      box-shadow: 0px 1px 2px rgba(60, 64, 67, 0.3), 0px 1px 3px 1px rgba(60, 64, 67, 0.15);\n",
              "      fill: #174EA6;\n",
              "    }\n",
              "\n",
              "    [theme=dark] .colab-df-convert {\n",
              "      background-color: #3B4455;\n",
              "      fill: #D2E3FC;\n",
              "    }\n",
              "\n",
              "    [theme=dark] .colab-df-convert:hover {\n",
              "      background-color: #434B5C;\n",
              "      box-shadow: 0px 1px 3px 1px rgba(0, 0, 0, 0.15);\n",
              "      filter: drop-shadow(0px 1px 2px rgba(0, 0, 0, 0.3));\n",
              "      fill: #FFFFFF;\n",
              "    }\n",
              "  </style>\n",
              "\n",
              "      <script>\n",
              "        const buttonEl =\n",
              "          document.querySelector('#df-8eeb7a29-17b5-4f8b-a96f-913aee9fbdb1 button.colab-df-convert');\n",
              "        buttonEl.style.display =\n",
              "          google.colab.kernel.accessAllowed ? 'block' : 'none';\n",
              "\n",
              "        async function convertToInteractive(key) {\n",
              "          const element = document.querySelector('#df-8eeb7a29-17b5-4f8b-a96f-913aee9fbdb1');\n",
              "          const dataTable =\n",
              "            await google.colab.kernel.invokeFunction('convertToInteractive',\n",
              "                                                     [key], {});\n",
              "          if (!dataTable) return;\n",
              "\n",
              "          const docLinkHtml = 'Like what you see? Visit the ' +\n",
              "            '<a target=\"_blank\" href=https://colab.research.google.com/notebooks/data_table.ipynb>data table notebook</a>'\n",
              "            + ' to learn more about interactive tables.';\n",
              "          element.innerHTML = '';\n",
              "          dataTable['output_type'] = 'display_data';\n",
              "          await google.colab.output.renderOutput(dataTable, element);\n",
              "          const docLink = document.createElement('div');\n",
              "          docLink.innerHTML = docLinkHtml;\n",
              "          element.appendChild(docLink);\n",
              "        }\n",
              "      </script>\n",
              "    </div>\n",
              "  </div>\n",
              "  "
            ],
            "text/plain": [
              "                       Date  \\\n",
              "0 2022-01-28 00:18:30+00:00   \n",
              "1 2022-01-25 14:33:33+00:00   \n",
              "2 2022-01-23 18:35:15+00:00   \n",
              "3 2022-01-20 04:30:26+00:00   \n",
              "4 2022-01-16 17:42:00+00:00   \n",
              "\n",
              "                                                Text      Location   Latitude  \\\n",
              "0  @HeartlandSignal Want government over-reach an...                47.608013   \n",
              "1  @SenatorCantwell Could you get Democrat suppor...            WA  47.608013   \n",
              "2  @MaryMargOlohan @johnbeagle @DailySignal Prett...  Puyallup, WA  47.608013   \n",
              "3  Correct. The filibuster can’t be permanently s...  Seattle, WA   47.608013   \n",
              "4  @RebeccaforWA Codifying Roe would make it even...    Tacoma, WA  47.608013   \n",
              "\n",
              "     Longitude  \n",
              "0  -122.335167  \n",
              "1  -122.335167  \n",
              "2  -122.335167  \n",
              "3  -122.335167  \n",
              "4  -122.335167  "
            ]
          },
          "execution_count": 45,
          "metadata": {},
          "output_type": "execute_result"
        }
      ],
      "source": [
        "tweets_df2['Latitude'] = '47.608013'\n",
        "tweets_df2['Longitude'] = '-122.335167'\n",
        "tweets_df2.head()"
      ]
    },
    {
      "cell_type": "markdown",
      "metadata": {
        "id": "KEYqnRi0O5ml"
      },
      "source": [
        "### 2. Merge the collected data of four cities"
      ]
    },
    {
      "cell_type": "markdown",
      "metadata": {
        "id": "O8-0glNFO5mm"
      },
      "source": [
        "Merging the Tweet data from four cities and cleaning the dataset "
      ]
    },
    {
      "cell_type": "code",
      "execution_count": null,
      "metadata": {
        "id": "AkdIavdGO5mm"
      },
      "outputs": [],
      "source": [
        "# load in the la and seattle data\n",
        "df_la = pd.read_csv('twitter_LA_data.csv')\n",
        "df_sea = pd.read_csv('twitter_seattle_data.csv')\n",
        "\n",
        "# transform the dataset to be in consistency with chicago and new york data\n",
        "df_sea.drop(columns=['Unnamed: 0', 'Location'], inplace=True)\n",
        "df_la.drop(columns=['Unnamed: 0', 'Location'], inplace=True)\n",
        "\n",
        "# add city column \n",
        "df_sea['city'] = 'Seattle'\n",
        "df_la['city'] = 'Los Angeles'\n",
        "\n",
        "# change the columns of the nyc and chicago data to make them consistent\n",
        "df_nyc.drop(columns=['User', 'city'], inplace=True)\n",
        "df_nyc['city'] = 'New York City'\n",
        "\n",
        "df_chi.drop(columns=['User', 'city'], inplace=True)\n",
        "df_chi['city'] = 'Chicago'\n",
        "\n",
        "# append the dataframes\n",
        "df_1 = df_nyc.append(df_chi, ignore_index=True)\n",
        "df_2 = df_la.append(df_sea, ignore_index=True)\n",
        "# change the column names for df2 in alignment with df1\n",
        "df_2.columns = ['Date', 'Tweet', 'latitude', 'longitude', 'city']\n",
        "\n",
        "# append df2 to df1 to merge the dataframes\n",
        "df = df_1.append(df_2, ignore_index= True)"
      ]
    },
    {
      "cell_type": "code",
      "execution_count": null,
      "metadata": {
        "id": "5BC17arqO5mm"
      },
      "outputs": [],
      "source": [
        "# extract the date in the expected format using striptime \n",
        "df['Date'] = df[\"Date\"].apply(lambda x : datetime.strptime(str(x)[:10], \"%Y-%m-%d\"))\n",
        "\n",
        "# save the merged data to a csv file\n",
        "df.to_csv('tweets.csv')"
      ]
    },
    {
      "cell_type": "markdown",
      "metadata": {
        "id": "A3gE2m4mO5mn"
      },
      "source": [
        "## Sentiment Analysis: Pre-Processing, Analysis and Labeling"
      ]
    },
    {
      "cell_type": "markdown",
      "metadata": {},
      "source": [
        "After loading the required data collected, we carry out the pre-processing of the data. We do this to remove certain user identifiers (such as usernames like @xyz) and external links/urls so that this text in the Tweets does not interfere with the processing of the sentiment analysis model."
      ]
    },
    {
      "cell_type": "markdown",
      "metadata": {},
      "source": [
        "### 1. Pre-processing the Tweets"
      ]
    },
    {
      "cell_type": "code",
      "execution_count": null,
      "metadata": {
        "id": "vlCu4bMHroLx"
      },
      "outputs": [],
      "source": [
        "tweets_df2.to_csv(\"twitter_seattle_data.csv\")"
      ]
    },
    {
      "cell_type": "code",
      "execution_count": null,
      "metadata": {},
      "outputs": [],
      "source": [
        "# preprocessing tweets \n",
        "def preprocess(sentence):           #this function has been called in cells after this definition as well\n",
        "    '''\n",
        "    Takes a blurb of text (such as a Tweet), removes the usernames and external links, returns the processed text of the Tweet\n",
        "    Inputs:\n",
        "        sentence: a piece of text to be cleaned (such as a single Tweet)\n",
        "    Output:\n",
        "        tweets_processed: the processed/cleaned Tweet with usernames and external links removed\n",
        "    '''\n",
        "    words = []\n",
        "    for word in sentence.split():\n",
        "        if word.startswith('@') and len(word) > 1:\n",
        "            word = '@user'\n",
        "        elif word.startswith('http'):\n",
        "            word = 'http'\n",
        "        words.append(word)\n",
        "    tweets_processed = \" \".join(words)\n",
        "    return tweets_processed\n",
        "\n",
        "tweets_df2['tweet_processed'] = tweets_df2.apply(lambda x: preprocess(x.Text), axis = 1)\n",
        "tweets_df2.head()"
      ]
    },
    {
      "cell_type": "markdown",
      "metadata": {},
      "source": [
        "### 2. Calling Model Functionalities"
      ]
    },
    {
      "cell_type": "code",
      "execution_count": null,
      "metadata": {},
      "outputs": [],
      "source": [
        "# storing variables and calling model functionality from the Hugging Face library, modules\n",
        "tweets = tweets_df\n",
        "tweets2 = tweets_df2\n",
        "roberta = \"cardiffnlp/twitter-roberta-base-sentiment\"           # storing the name of the model from the library\n",
        "model = AutoModelForSequenceClassification.from_pretrained(roberta)     # calling the functionalities of the modek"
      ]
    },
    {
      "cell_type": "markdown",
      "metadata": {},
      "source": [
        "### 3. Sentiment Analysis: Tokenizing, Classifying, and Labelling Tweets using RoBERTa-Base Model"
      ]
    },
    {
      "cell_type": "code",
      "execution_count": null,
      "metadata": {
        "colab": {
          "base_uri": "https://localhost:8080/"
        },
        "id": "OdBlSPW1uTi6",
        "outputId": "41b3aeb2-6870-44d7-91da-1b0c768efafc"
      },
      "outputs": [
        {
          "data": {
            "text/plain": [
              "Negative    1699\n",
              "Neutral      554\n",
              "Positive      75\n",
              "Name: sentiment, dtype: int64"
            ]
          },
          "execution_count": 57,
          "metadata": {},
          "output_type": "execute_result"
        }
      ],
      "source": [
        "# tokenizing, running the sentiment analysis on both the dataframes\n",
        "tokenizer = AutoTokenizer.from_pretrained(roberta)\n",
        "labels = ['Negative', 'Neutral', \"Positive\"]\n",
        "def encode(tweet):                          #this function has been called in cells after this definition as well\n",
        "    ''' \n",
        "    This function encodes a given tweet using the pre-trained roberta model\n",
        "    Inputs:\n",
        "        tweet: input tweet for sentiment analysis\n",
        "    Output: \n",
        "        corresponding label for the Tweet, based on the analysis, generated by the model\n",
        "    '''\n",
        "    out = model(**tokenizer(tweet, return_tensors='pt'))\n",
        "    return labels[np.argmax(softmax(out[0][0].detach()))]\n",
        "\n",
        "tweets['sentiment'] = tweets.apply(lambda x: encode(x.tweet_processed), axis = 1)\n",
        "tweets['sentiment'].value_counts()"
      ]
    },
    {
      "cell_type": "markdown",
      "metadata": {},
      "source": [
        "The first line of the **encode** function calls the model and tokenizer objects to encode the input tweet. The tokenizer function tokenizes the tweet, and returns a PyTorch tensor that represents the input to the model. The return_tensors argument specifies that the tokenizer should return the result as a PyTorch tensor.\n",
        "\n",
        "The resulting tensor is then passed as an argument to the model object, which returns a tuple containing the output of the model. The output is assigned to the variable 'out'.\n",
        "\n",
        "The next line of the function uses the softmax function to compute the softmax probabilities of the output tensor. The softmax function is applied to the first element of the tensor by accessing out[0][0] and detaching it from the computation graph using .detach(). The resulting tensor is passed to np.argmax, which returns the index of the highest probability.\n",
        "\n",
        "Finally, the labels variable is used to map the index to the corresponding label, which is then returned by the function.\n",
        "\n",
        "The **lambda** function in the following lines of code allows us to apply this **encode** function to all the tweets we have collected and pre-processed."
      ]
    },
    {
      "cell_type": "code",
      "execution_count": null,
      "metadata": {
        "colab": {
          "base_uri": "https://localhost:8080/"
        },
        "id": "-zbr1HvCwKce",
        "outputId": "bdc85906-fbd8-4f5d-aeba-2e8fee86460a"
      },
      "outputs": [
        {
          "data": {
            "text/plain": [
              "Negative    1176\n",
              "Neutral      422\n",
              "Positive      57\n",
              "Name: sentiment, dtype: int64"
            ]
          },
          "execution_count": 58,
          "metadata": {},
          "output_type": "execute_result"
        }
      ],
      "source": [
        "# tokenizing, running the sentiment analysis on both the dataframes\n",
        "tokenizer = AutoTokenizer.from_pretrained(roberta)\n",
        "labels = ['Negative', 'Neutral', \"Positive\"]\n",
        "def encode(tweet):\n",
        "    out = model(**tokenizer(tweet, return_tensors='pt'))\n",
        "    return labels[np.argmax(softmax(out[0][0].detach()))]\n",
        "\n",
        "tweets2['sentiment'] = tweets2.apply(lambda x: encode(x.tweet_processed), axis = 1)\n",
        "tweets2['sentiment'].value_counts()"
      ]
    },
    {
      "cell_type": "code",
      "execution_count": null,
      "metadata": {
        "id": "eXMs5qjcwQzh"
      },
      "outputs": [],
      "source": [
        "merged_df = pd.read_csv(\"tweets.csv\")  # all tweets for all main cities"
      ]
    },
    {
      "cell_type": "code",
      "execution_count": null,
      "metadata": {
        "colab": {
          "base_uri": "https://localhost:8080/"
        },
        "id": "ljdR7vsD_HV4",
        "outputId": "8a0fe872-fc5b-4839-ff14-886bd69589af"
      },
      "outputs": [
        {
          "data": {
            "text/plain": [
              "Unnamed: 0         8459\n",
              "Date               8459\n",
              "Tweet              8459\n",
              "latitude           8459\n",
              "longitude          8459\n",
              "city               8459\n",
              "tweet_processed    8459\n",
              "dtype: int64"
            ]
          },
          "execution_count": 63,
          "metadata": {},
          "output_type": "execute_result"
        }
      ],
      "source": [
        "# preprocessing tweets \n",
        "def preprocess(sentence):\n",
        "    words = []\n",
        "    for word in sentence.split():\n",
        "        if word.startswith('@') and len(word) > 1:\n",
        "            word = '@user'\n",
        "        elif word.startswith('http'):\n",
        "            word = 'http'\n",
        "        words.append(word)\n",
        "    tweets_processed = \" \".join(words)\n",
        "    return tweets_processed\n",
        "\n",
        "merged_df['tweet_processed'] = merged_df.apply(lambda x: preprocess(x.Tweet), axis = 1)\n",
        "merged_df.count()"
      ]
    },
    {
      "cell_type": "code",
      "execution_count": null,
      "metadata": {
        "colab": {
          "base_uri": "https://localhost:8080/"
        },
        "id": "GdVMsuA-ALse",
        "outputId": "375d2b7d-a938-460c-cc35-ad3544cb987c"
      },
      "outputs": [
        {
          "data": {
            "text/plain": [
              "Negative    5835\n",
              "Neutral     2272\n",
              "Positive     352\n",
              "Name: sentiment, dtype: int64"
            ]
          },
          "execution_count": 64,
          "metadata": {},
          "output_type": "execute_result"
        }
      ],
      "source": [
        "# tokenizing, running the sentiment analysis on both the dataframes\n",
        "tokenizer = AutoTokenizer.from_pretrained(roberta)\n",
        "labels = ['Negative', 'Neutral', \"Positive\"]\n",
        "def encode(tweet):\n",
        "    out = model(**tokenizer(tweet, return_tensors='pt'))\n",
        "    return labels[np.argmax(softmax(out[0][0].detach()))]\n",
        "\n",
        "merged_df['sentiment'] = merged_df.apply(lambda x: encode(x.tweet_processed), axis = 1)\n",
        "merged_df['sentiment'].value_counts()"
      ]
    },
    {
      "cell_type": "code",
      "execution_count": null,
      "metadata": {
        "colab": {
          "base_uri": "https://localhost:8080/",
          "height": 513
        },
        "id": "LAp2XSipIBof",
        "outputId": "ddd3e587-c3e2-4c32-ee46-789cbbc27e3b"
      },
      "outputs": [
        {
          "data": {
            "text/html": [
              "\n",
              "  <div id=\"df-5213f446-d61d-4d51-9132-cf47012d8805\">\n",
              "    <div class=\"colab-df-container\">\n",
              "      <div>\n",
              "<style scoped>\n",
              "    .dataframe tbody tr th:only-of-type {\n",
              "        vertical-align: middle;\n",
              "    }\n",
              "\n",
              "    .dataframe tbody tr th {\n",
              "        vertical-align: top;\n",
              "    }\n",
              "\n",
              "    .dataframe thead th {\n",
              "        text-align: right;\n",
              "    }\n",
              "</style>\n",
              "<table border=\"1\" class=\"dataframe\">\n",
              "  <thead>\n",
              "    <tr style=\"text-align: right;\">\n",
              "      <th></th>\n",
              "      <th>Unnamed: 0</th>\n",
              "      <th>Date</th>\n",
              "      <th>Tweet</th>\n",
              "      <th>latitude</th>\n",
              "      <th>longitude</th>\n",
              "      <th>city</th>\n",
              "      <th>tweet_processed</th>\n",
              "      <th>sentiment</th>\n",
              "    </tr>\n",
              "  </thead>\n",
              "  <tbody>\n",
              "    <tr>\n",
              "      <th>0</th>\n",
              "      <td>0</td>\n",
              "      <td>2022-01-31</td>\n",
              "      <td>Nazis, banned books, suppressed voting rights,...</td>\n",
              "      <td>40.7128</td>\n",
              "      <td>-74.006</td>\n",
              "      <td>New York City</td>\n",
              "      <td>Nazis, banned books, suppressed voting rights,...</td>\n",
              "      <td>Negative</td>\n",
              "    </tr>\n",
              "    <tr>\n",
              "      <th>1</th>\n",
              "      <td>1</td>\n",
              "      <td>2022-01-31</td>\n",
              "      <td>@SenatorLankford In case you haven't noticed a...</td>\n",
              "      <td>40.7128</td>\n",
              "      <td>-74.006</td>\n",
              "      <td>New York City</td>\n",
              "      <td>@user In case you haven't noticed abortion is ...</td>\n",
              "      <td>Neutral</td>\n",
              "    </tr>\n",
              "    <tr>\n",
              "      <th>2</th>\n",
              "      <td>2</td>\n",
              "      <td>2022-01-31</td>\n",
              "      <td>@SenatorLankford So you support pushing aborti...</td>\n",
              "      <td>40.7128</td>\n",
              "      <td>-74.006</td>\n",
              "      <td>New York City</td>\n",
              "      <td>@user So you support pushing abortion undergro...</td>\n",
              "      <td>Negative</td>\n",
              "    </tr>\n",
              "    <tr>\n",
              "      <th>3</th>\n",
              "      <td>3</td>\n",
              "      <td>2022-01-31</td>\n",
              "      <td>@RayRiosy @Gdad1 @ltwlauren @AngelMHart417 @Ji...</td>\n",
              "      <td>40.7128</td>\n",
              "      <td>-74.006</td>\n",
              "      <td>New York City</td>\n",
              "      <td>@user @user @user @user @user @user @user @use...</td>\n",
              "      <td>Neutral</td>\n",
              "    </tr>\n",
              "    <tr>\n",
              "      <th>4</th>\n",
              "      <td>4</td>\n",
              "      <td>2022-01-31</td>\n",
              "      <td>@alicee_pll @miaana_14 People who support the ...</td>\n",
              "      <td>40.7128</td>\n",
              "      <td>-74.006</td>\n",
              "      <td>New York City</td>\n",
              "      <td>@user @user People who support the pro abortio...</td>\n",
              "      <td>Negative</td>\n",
              "    </tr>\n",
              "  </tbody>\n",
              "</table>\n",
              "</div>\n",
              "      <button class=\"colab-df-convert\" onclick=\"convertToInteractive('df-5213f446-d61d-4d51-9132-cf47012d8805')\"\n",
              "              title=\"Convert this dataframe to an interactive table.\"\n",
              "              style=\"display:none;\">\n",
              "        \n",
              "  <svg xmlns=\"http://www.w3.org/2000/svg\" height=\"24px\"viewBox=\"0 0 24 24\"\n",
              "       width=\"24px\">\n",
              "    <path d=\"M0 0h24v24H0V0z\" fill=\"none\"/>\n",
              "    <path d=\"M18.56 5.44l.94 2.06.94-2.06 2.06-.94-2.06-.94-.94-2.06-.94 2.06-2.06.94zm-11 1L8.5 8.5l.94-2.06 2.06-.94-2.06-.94L8.5 2.5l-.94 2.06-2.06.94zm10 10l.94 2.06.94-2.06 2.06-.94-2.06-.94-.94-2.06-.94 2.06-2.06.94z\"/><path d=\"M17.41 7.96l-1.37-1.37c-.4-.4-.92-.59-1.43-.59-.52 0-1.04.2-1.43.59L10.3 9.45l-7.72 7.72c-.78.78-.78 2.05 0 2.83L4 21.41c.39.39.9.59 1.41.59.51 0 1.02-.2 1.41-.59l7.78-7.78 2.81-2.81c.8-.78.8-2.07 0-2.86zM5.41 20L4 18.59l7.72-7.72 1.47 1.35L5.41 20z\"/>\n",
              "  </svg>\n",
              "      </button>\n",
              "      \n",
              "  <style>\n",
              "    .colab-df-container {\n",
              "      display:flex;\n",
              "      flex-wrap:wrap;\n",
              "      gap: 12px;\n",
              "    }\n",
              "\n",
              "    .colab-df-convert {\n",
              "      background-color: #E8F0FE;\n",
              "      border: none;\n",
              "      border-radius: 50%;\n",
              "      cursor: pointer;\n",
              "      display: none;\n",
              "      fill: #1967D2;\n",
              "      height: 32px;\n",
              "      padding: 0 0 0 0;\n",
              "      width: 32px;\n",
              "    }\n",
              "\n",
              "    .colab-df-convert:hover {\n",
              "      background-color: #E2EBFA;\n",
              "      box-shadow: 0px 1px 2px rgba(60, 64, 67, 0.3), 0px 1px 3px 1px rgba(60, 64, 67, 0.15);\n",
              "      fill: #174EA6;\n",
              "    }\n",
              "\n",
              "    [theme=dark] .colab-df-convert {\n",
              "      background-color: #3B4455;\n",
              "      fill: #D2E3FC;\n",
              "    }\n",
              "\n",
              "    [theme=dark] .colab-df-convert:hover {\n",
              "      background-color: #434B5C;\n",
              "      box-shadow: 0px 1px 3px 1px rgba(0, 0, 0, 0.15);\n",
              "      filter: drop-shadow(0px 1px 2px rgba(0, 0, 0, 0.3));\n",
              "      fill: #FFFFFF;\n",
              "    }\n",
              "  </style>\n",
              "\n",
              "      <script>\n",
              "        const buttonEl =\n",
              "          document.querySelector('#df-5213f446-d61d-4d51-9132-cf47012d8805 button.colab-df-convert');\n",
              "        buttonEl.style.display =\n",
              "          google.colab.kernel.accessAllowed ? 'block' : 'none';\n",
              "\n",
              "        async function convertToInteractive(key) {\n",
              "          const element = document.querySelector('#df-5213f446-d61d-4d51-9132-cf47012d8805');\n",
              "          const dataTable =\n",
              "            await google.colab.kernel.invokeFunction('convertToInteractive',\n",
              "                                                     [key], {});\n",
              "          if (!dataTable) return;\n",
              "\n",
              "          const docLinkHtml = 'Like what you see? Visit the ' +\n",
              "            '<a target=\"_blank\" href=https://colab.research.google.com/notebooks/data_table.ipynb>data table notebook</a>'\n",
              "            + ' to learn more about interactive tables.';\n",
              "          element.innerHTML = '';\n",
              "          dataTable['output_type'] = 'display_data';\n",
              "          await google.colab.output.renderOutput(dataTable, element);\n",
              "          const docLink = document.createElement('div');\n",
              "          docLink.innerHTML = docLinkHtml;\n",
              "          element.appendChild(docLink);\n",
              "        }\n",
              "      </script>\n",
              "    </div>\n",
              "  </div>\n",
              "  "
            ],
            "text/plain": [
              "   Unnamed: 0        Date                                              Tweet  \\\n",
              "0           0  2022-01-31  Nazis, banned books, suppressed voting rights,...   \n",
              "1           1  2022-01-31  @SenatorLankford In case you haven't noticed a...   \n",
              "2           2  2022-01-31  @SenatorLankford So you support pushing aborti...   \n",
              "3           3  2022-01-31  @RayRiosy @Gdad1 @ltwlauren @AngelMHart417 @Ji...   \n",
              "4           4  2022-01-31  @alicee_pll @miaana_14 People who support the ...   \n",
              "\n",
              "   latitude  longitude           city  \\\n",
              "0   40.7128    -74.006  New York City   \n",
              "1   40.7128    -74.006  New York City   \n",
              "2   40.7128    -74.006  New York City   \n",
              "3   40.7128    -74.006  New York City   \n",
              "4   40.7128    -74.006  New York City   \n",
              "\n",
              "                                     tweet_processed sentiment  \n",
              "0  Nazis, banned books, suppressed voting rights,...  Negative  \n",
              "1  @user In case you haven't noticed abortion is ...   Neutral  \n",
              "2  @user So you support pushing abortion undergro...  Negative  \n",
              "3  @user @user @user @user @user @user @user @use...   Neutral  \n",
              "4  @user @user People who support the pro abortio...  Negative  "
            ]
          },
          "execution_count": 65,
          "metadata": {},
          "output_type": "execute_result"
        }
      ],
      "source": [
        "merged_df.head()"
      ]
    },
    {
      "cell_type": "markdown",
      "metadata": {},
      "source": [
        "### 4. Storing the Analyzed data into a .csv file"
      ]
    },
    {
      "cell_type": "code",
      "execution_count": null,
      "metadata": {},
      "outputs": [],
      "source": [
        "# storing the final merged, sentiment-analyzed dataset in a .csv file for further visualization and analysis\n",
        "merged2 = merged_df.drop('tweet_processed', axis = 1)\n",
        "merged2.to_csv('analyzed_tweet_merged.csv', index = False)"
      ]
    }
  ],
  "metadata": {
    "colab": {
      "provenance": []
    },
    "kernelspec": {
      "display_name": "Python 3.9.13 ('base')",
      "language": "python",
      "name": "python3"
    },
    "language_info": {
      "codemirror_mode": {
        "name": "ipython",
        "version": 3
      },
      "file_extension": ".py",
      "mimetype": "text/x-python",
      "name": "python",
      "nbconvert_exporter": "python",
      "pygments_lexer": "ipython3",
      "version": "3.9.13"
    },
    "vscode": {
      "interpreter": {
        "hash": "5903f22cc79b0d3e509913d3001a1e7921ec9fcdeb9c7928960409ccda95b5fe"
      }
    }
  },
  "nbformat": 4,
  "nbformat_minor": 0
}
