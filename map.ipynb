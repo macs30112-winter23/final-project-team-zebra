{
 "cells": [
  {
   "cell_type": "code",
   "execution_count": 154,
   "metadata": {},
   "outputs": [],
   "source": [
    "import pandas as pd\n",
    "import matplotlib.pyplot as plt\n",
    "import plotly.express as px"
   ]
  },
  {
   "cell_type": "code",
   "execution_count": 155,
   "metadata": {},
   "outputs": [],
   "source": [
    "df = pd.read_csv(\"NationalAndStatePregnancy_PublicUse.csv\")\n",
    "df1 = df[['state','year','abortionrate2024']]"
   ]
  },
  {
   "cell_type": "code",
   "execution_count": 156,
   "metadata": {},
   "outputs": [
    {
     "data": {
      "text/html": [
       "<div>\n",
       "<style scoped>\n",
       "    .dataframe tbody tr th:only-of-type {\n",
       "        vertical-align: middle;\n",
       "    }\n",
       "\n",
       "    .dataframe tbody tr th {\n",
       "        vertical-align: top;\n",
       "    }\n",
       "\n",
       "    .dataframe thead th {\n",
       "        text-align: right;\n",
       "    }\n",
       "</style>\n",
       "<table border=\"1\" class=\"dataframe\">\n",
       "  <thead>\n",
       "    <tr style=\"text-align: right;\">\n",
       "      <th></th>\n",
       "      <th>state</th>\n",
       "      <th>year</th>\n",
       "      <th>abortionrate2024</th>\n",
       "    </tr>\n",
       "  </thead>\n",
       "  <tbody>\n",
       "    <tr>\n",
       "      <th>0</th>\n",
       "      <td>AL</td>\n",
       "      <td>1988</td>\n",
       "      <td>40.5</td>\n",
       "    </tr>\n",
       "    <tr>\n",
       "      <th>1</th>\n",
       "      <td>AL</td>\n",
       "      <td>1992</td>\n",
       "      <td>38.1</td>\n",
       "    </tr>\n",
       "    <tr>\n",
       "      <th>2</th>\n",
       "      <td>AL</td>\n",
       "      <td>1996</td>\n",
       "      <td>34.6</td>\n",
       "    </tr>\n",
       "    <tr>\n",
       "      <th>3</th>\n",
       "      <td>AL</td>\n",
       "      <td>2000</td>\n",
       "      <td>29.6</td>\n",
       "    </tr>\n",
       "    <tr>\n",
       "      <th>4</th>\n",
       "      <td>AL</td>\n",
       "      <td>2005</td>\n",
       "      <td>23.2</td>\n",
       "    </tr>\n",
       "  </tbody>\n",
       "</table>\n",
       "</div>"
      ],
      "text/plain": [
       "  state  year  abortionrate2024\n",
       "0    AL  1988              40.5\n",
       "1    AL  1992              38.1\n",
       "2    AL  1996              34.6\n",
       "3    AL  2000              29.6\n",
       "4    AL  2005              23.2"
      ]
     },
     "execution_count": 156,
     "metadata": {},
     "output_type": "execute_result"
    }
   ],
   "source": [
    "df1.head()"
   ]
  },
  {
   "cell_type": "code",
   "execution_count": 158,
   "metadata": {},
   "outputs": [],
   "source": [
    "df2=df1.sort_values(\"year\")\n",
    "df2 = df2.loc[(df2['state'] != 'US')]"
   ]
  },
  {
   "cell_type": "code",
   "execution_count": 163,
   "metadata": {},
   "outputs": [
    {
     "data": {
      "application/vnd.plotly.v1+json": {
       "config": {
        "plotlyServerURL": "https://plot.ly"
       },
       "data": [
        {
         "coloraxis": "coloraxis",
         "geo": "geo",
         "hovertemplate": "year=1988<br>state=%{location}<br>abortionrate2024=%{z}<extra></extra>",
         "locationmode": "USA-states",
         "locations": [
          "WA",
          "IN",
          "IA",
          "KS",
          "KY",
          "VA",
          "LA",
          "ME",
          "MD",
          "AL",
          "ID",
          "MA",
          "HI",
          "WV",
          "GA",
          "FL",
          "DC",
          "DE",
          "WI",
          "CT",
          "CO",
          "IL",
          "MI",
          "NH",
          "MS",
          "SD",
          "SC",
          "RI",
          "TX",
          "PA",
          "OR",
          "OK",
          "OH",
          "ND",
          "MN",
          "NC",
          "NM",
          "NJ",
          "CA",
          "NV",
          "NE",
          "MT",
          "MO",
          "UT",
          "NY",
          "WY",
          "VT",
          "TN",
          "AZ",
          "AK",
          "AR"
         ],
         "name": "",
         "type": "choropleth",
         "z": [
          58.9,
          32.8,
          33.8,
          24.9,
          22.9,
          51.8,
          30.2,
          29.3,
          71.2,
          40.5,
          26.1,
          49.4,
          82.6,
          24.5,
          43.6,
          57.2,
          null,
          53.7,
          33.3,
          61.6,
          46.2,
          55.5,
          55.3,
          44.5,
          19,
          18.2,
          37.5,
          47,
          48.3,
          36.9,
          50.6,
          34.3,
          41.6,
          20.4,
          35.1,
          47.6,
          44.2,
          73.7,
          87,
          70,
          30.8,
          26.9,
          41.8,
          22.3,
          79.5,
          26.9,
          43.9,
          33.8,
          53.8,
          43.9,
          27.9
         ]
        }
       ],
       "frames": [
        {
         "data": [
          {
           "coloraxis": "coloraxis",
           "geo": "geo",
           "hovertemplate": "year=1988<br>state=%{location}<br>abortionrate2024=%{z}<extra></extra>",
           "locationmode": "USA-states",
           "locations": [
            "WA",
            "IN",
            "IA",
            "KS",
            "KY",
            "VA",
            "LA",
            "ME",
            "MD",
            "AL",
            "ID",
            "MA",
            "HI",
            "WV",
            "GA",
            "FL",
            "DC",
            "DE",
            "WI",
            "CT",
            "CO",
            "IL",
            "MI",
            "NH",
            "MS",
            "SD",
            "SC",
            "RI",
            "TX",
            "PA",
            "OR",
            "OK",
            "OH",
            "ND",
            "MN",
            "NC",
            "NM",
            "NJ",
            "CA",
            "NV",
            "NE",
            "MT",
            "MO",
            "UT",
            "NY",
            "WY",
            "VT",
            "TN",
            "AZ",
            "AK",
            "AR"
           ],
           "name": "",
           "type": "choropleth",
           "z": [
            58.9,
            32.8,
            33.8,
            24.9,
            22.9,
            51.8,
            30.2,
            29.3,
            71.2,
            40.5,
            26.1,
            49.4,
            82.6,
            24.5,
            43.6,
            57.2,
            null,
            53.7,
            33.3,
            61.6,
            46.2,
            55.5,
            55.3,
            44.5,
            19,
            18.2,
            37.5,
            47,
            48.3,
            36.9,
            50.6,
            34.3,
            41.6,
            20.4,
            35.1,
            47.6,
            44.2,
            73.7,
            87,
            70,
            30.8,
            26.9,
            41.8,
            22.3,
            79.5,
            26.9,
            43.9,
            33.8,
            53.8,
            43.9,
            27.9
           ]
          }
         ],
         "name": "1988"
        },
        {
         "data": [
          {
           "coloraxis": "coloraxis",
           "geo": "geo",
           "hovertemplate": "year=1992<br>state=%{location}<br>abortionrate2024=%{z}<extra></extra>",
           "locationmode": "USA-states",
           "locations": [
            "DE",
            "HI",
            "WI",
            "MD",
            "OR",
            "ME",
            "MS",
            "NY",
            "ID",
            "CT",
            "SC",
            "AR",
            "NM",
            "NH",
            "LA",
            "MN",
            "GA",
            "RI",
            "DC",
            "VT",
            "TN",
            "MA",
            "PA",
            "TX",
            "MI",
            "NJ",
            "WV",
            "VA",
            "FL",
            "UT",
            "NV",
            "CO",
            "ND",
            "OK",
            "WA",
            "OH",
            "KY",
            "CA",
            "SD",
            "NE",
            "IL",
            "NC",
            "IN",
            "AK",
            "IA",
            "MT",
            "MO",
            "WY",
            "AZ",
            "KS",
            "AL"
           ],
           "name": "",
           "type": "choropleth",
           "z": [
            57.8,
            105.9,
            31.9,
            78.1,
            52.8,
            33.5,
            30.2,
            89,
            20.2,
            61.6,
            35.6,
            37.6,
            47.1,
            37.8,
            24.5,
            33.7,
            51.9,
            46.6,
            null,
            32.1,
            35.5,
            56.2,
            41,
            50.3,
            54.2,
            77.2,
            24.6,
            52.9,
            63.8,
            17.2,
            92.3,
            49.8,
            18.7,
            28.1,
            65.4,
            42.8,
            23.7,
            91.2,
            17.9,
            32.8,
            57.9,
            44.5,
            35.3,
            56,
            25.4,
            34.7,
            37.1,
            25.5,
            52.5,
            27.9,
            38.1
           ]
          }
         ],
         "name": "1992"
        },
        {
         "data": [
          {
           "coloraxis": "coloraxis",
           "geo": "geo",
           "hovertemplate": "year=1996<br>state=%{location}<br>abortionrate2024=%{z}<extra></extra>",
           "locationmode": "USA-states",
           "locations": [
            "OH",
            "AR",
            "KS",
            "ND",
            "PA",
            "IA",
            "WV",
            "GA",
            "WA",
            "IN",
            "LA",
            "NY",
            "ID",
            "FL",
            "IL",
            "ME",
            "KY",
            "VT",
            "OR",
            "MD",
            "HI",
            "NC",
            "VA",
            "NM",
            "AK",
            "TX",
            "OK",
            "WY",
            "MA",
            "DC",
            "UT",
            "NH",
            "NV",
            "MS",
            "WI",
            "CO",
            "MN",
            "SD",
            "RI",
            "MO",
            "MT",
            "DE",
            "CT",
            "NJ",
            "AL",
            "MI",
            "SC",
            "TN",
            "CA",
            "NE",
            "AZ"
           ],
           "name": "",
           "type": "choropleth",
           "z": [
            37.8,
            26.2,
            26.3,
            15.4,
            35.5,
            20.8,
            18.5,
            42.6,
            47.8,
            30.8,
            28.5,
            79.9,
            16.7,
            71.4,
            54.5,
            27.6,
            19.6,
            35.4,
            41.5,
            75.9,
            58.1,
            41.6,
            45.2,
            35.5,
            46.9,
            43.2,
            24.8,
            30.3,
            60.2,
            null,
            13.3,
            42,
            80.5,
            32.2,
            29.9,
            40.3,
            30.2,
            15.4,
            48.8,
            28.8,
            27.1,
            40.6,
            55.1,
            87.7,
            34.6,
            47.6,
            30.6,
            30.9,
            71.6,
            23.7,
            42.1
           ]
          }
         ],
         "name": "1996"
        },
        {
         "data": [
          {
           "coloraxis": "coloraxis",
           "geo": "geo",
           "hovertemplate": "year=2000<br>state=%{location}<br>abortionrate2024=%{z}<extra></extra>",
           "locationmode": "USA-states",
           "locations": [
            "LA",
            "AK",
            "NY",
            "ID",
            "NJ",
            "OK",
            "WY",
            "TN",
            "ND",
            "CA",
            "OH",
            "MT",
            "KS",
            "NC",
            "IN",
            "VA",
            "SD",
            "WA",
            "CO",
            "NV",
            "KY",
            "IL",
            "MO",
            "AR",
            "CT",
            "MS",
            "TX",
            "MN",
            "VT",
            "AZ",
            "GA",
            "RI",
            "NH",
            "WV",
            "AL",
            "MI",
            "PA",
            "IA",
            "MA",
            "FL",
            "DC",
            "DE",
            "NE",
            "HI",
            "SC",
            "NM",
            "OR",
            "WI",
            "MD",
            "ME",
            "UT"
           ],
           "name": "",
           "type": "choropleth",
           "z": [
            25.1,
            33,
            77.5,
            20.4,
            90.4,
            22.4,
            33.8,
            31.5,
            13,
            67.4,
            35.4,
            27.1,
            23.9,
            42.8,
            25.2,
            43,
            13.2,
            44.4,
            29,
            61,
            16.5,
            45.4,
            29.7,
            22.7,
            54.2,
            31.6,
            40.6,
            29,
            27.2,
            34.5,
            37.2,
            45,
            35.6,
            17.4,
            29.6,
            45.7,
            34.5,
            21.4,
            44,
            71.6,
            67.1,
            50.2,
            21.8,
            45.1,
            28.6,
            36.7,
            44.2,
            23.2,
            77,
            25.6,
            10.8
           ]
          }
         ],
         "name": "2000"
        },
        {
         "data": [
          {
           "coloraxis": "coloraxis",
           "geo": "geo",
           "hovertemplate": "year=2005<br>state=%{location}<br>abortionrate2024=%{z}<extra></extra>",
           "locationmode": "USA-states",
           "locations": [
            "LA",
            "AZ",
            "ND",
            "NY",
            "NJ",
            "MT",
            "MA",
            "ME",
            "MO",
            "NC",
            "MI",
            "NV",
            "VA",
            "VT",
            "AK",
            "MS",
            "MN",
            "NH",
            "MD",
            "UT",
            "KY",
            "KS",
            "NM",
            "NE",
            "CT",
            "IL",
            "WA",
            "AR",
            "CO",
            "DC",
            "WY",
            "OR",
            "IN",
            "HI",
            "OK",
            "TN",
            "SD",
            "TX",
            "AL",
            "DE",
            "CA",
            "IA",
            "ID",
            "FL",
            "PA",
            "WI",
            "OH",
            "WV",
            "GA",
            "SC",
            "RI"
           ],
           "name": "",
           "type": "choropleth",
           "z": [
            20.3,
            34.5,
            11.2,
            71.2,
            75,
            20.6,
            41.6,
            24.3,
            24.4,
            34.3,
            38.5,
            51.2,
            39.6,
            29.9,
            31.4,
            26.9,
            25.5,
            24.8,
            61.6,
            10,
            14.1,
            18.8,
            34.9,
            15.8,
            56.2,
            34.4,
            36.6,
            18.1,
            30.5,
            69.2,
            21.5,
            31.5,
            20.6,
            40.5,
            19.5,
            26,
            11.9,
            34.1,
            23.2,
            51,
            53.6,
            19.9,
            14.6,
            49.6,
            31.7,
            19.5,
            29.5,
            15.4,
            32.2,
            28,
            40.7
           ]
          }
         ],
         "name": "2005"
        },
        {
         "data": [
          {
           "coloraxis": "coloraxis",
           "geo": "geo",
           "hovertemplate": "year=2006<br>state=%{location}<br>abortionrate2024=%{z}<extra></extra>",
           "locationmode": "USA-states",
           "locations": [
            "AR",
            "UT",
            "ME",
            "NH",
            "MN",
            "ID",
            "RI",
            "DE",
            "DC",
            "OR",
            "VT",
            "NY",
            "HI",
            "MD",
            "MI",
            "TX",
            "PA",
            "GA",
            "WV",
            "AZ",
            "AL",
            "NJ",
            "IA",
            "NM",
            "CT",
            "MA",
            "LA",
            "IL",
            "CO",
            "WY",
            "VA",
            "IN",
            "NC",
            "TN",
            "KS",
            "SD",
            "MT",
            "CA",
            "OH",
            "NE",
            "ND",
            "KY",
            "NV",
            "FL",
            "SC",
            "WA",
            "MS",
            "MO",
            "AK",
            "WI",
            "OK"
           ],
           "name": "",
           "type": "choropleth",
           "z": [
            18,
            10.9,
            27.3,
            24.2,
            25.2,
            16.3,
            40.4,
            57.6,
            58.2,
            32.2,
            30.1,
            68.7,
            42.3,
            54.3,
            36.1,
            33.3,
            33.1,
            32.3,
            16,
            31.7,
            23.6,
            71.2,
            20.8,
            37.1,
            55.7,
            39.1,
            24.2,
            34.8,
            30.7,
            21.3,
            39.9,
            19.9,
            34.4,
            23,
            18.6,
            13,
            22.2,
            55.6,
            29.7,
            13.8,
            11.8,
            13.7,
            50.6,
            49.7,
            29.3,
            37.2,
            27.7,
            25.2,
            29.8,
            17.9,
            20.4
           ]
          }
         ],
         "name": "2006"
        },
        {
         "data": [
          {
           "coloraxis": "coloraxis",
           "geo": "geo",
           "hovertemplate": "year=2007<br>state=%{location}<br>abortionrate2024=%{z}<extra></extra>",
           "locationmode": "USA-states",
           "locations": [
            "WV",
            "CA",
            "WI",
            "MT",
            "RI",
            "SD",
            "MS",
            "CT",
            "AR",
            "NE",
            "PA",
            "MO",
            "WY",
            "DE",
            "MI",
            "DC",
            "MN",
            "SC",
            "NJ",
            "CO",
            "NH",
            "UT",
            "NV",
            "TN",
            "IA",
            "ND",
            "ME",
            "AL",
            "TX",
            "AK",
            "ID",
            "LA",
            "OK",
            "NY",
            "WA",
            "KY",
            "IL",
            "VA",
            "NC",
            "KS",
            "IN",
            "NM",
            "VT",
            "OH",
            "AZ",
            "MD",
            "GA",
            "FL",
            "OR",
            "HI",
            "MA"
           ],
           "name": "",
           "type": "choropleth",
           "z": [
            18.3,
            57,
            17.5,
            23.5,
            37.1,
            11.8,
            28.3,
            55.8,
            19.2,
            13.4,
            34.9,
            26.3,
            20.5,
            68.7,
            35.2,
            51.4,
            25.6,
            28.5,
            69.3,
            31.4,
            23.9,
            11.3,
            48.5,
            25.3,
            21.6,
            12.4,
            27.2,
            24.1,
            32.2,
            26.8,
            17.8,
            28.2,
            20.2,
            66.5,
            38.5,
            13.7,
            34.2,
            40.3,
            33.6,
            19.6,
            18.8,
            38.3,
            29.7,
            29.1,
            29.1,
            51.9,
            32.8,
            49.8,
            31.9,
            43.1,
            37.3
           ]
          }
         ],
         "name": "2007"
        },
        {
         "data": [
          {
           "coloraxis": "coloraxis",
           "geo": "geo",
           "hovertemplate": "year=2008<br>state=%{location}<br>abortionrate2024=%{z}<extra></extra>",
           "locationmode": "USA-states",
           "locations": [
            "PA",
            "VA",
            "WI",
            "NY",
            "NV",
            "NE",
            "WA",
            "SC",
            "TN",
            "CO",
            "KS",
            "GA",
            "MO",
            "OK",
            "CA",
            "IN",
            "IL",
            "AL",
            "FL",
            "MT",
            "NJ",
            "NC",
            "KY",
            "WV",
            "AR",
            "MA",
            "WY",
            "NH",
            "VT",
            "UT",
            "HI",
            "NM",
            "ME",
            "RI",
            "IA",
            "MI",
            "OR",
            "MN",
            "ND",
            "MS",
            "DE",
            "AZ",
            "OH",
            "DC",
            "CT",
            "MD",
            "LA",
            "SD",
            "ID",
            "TX",
            "AK"
           ],
           "name": "",
           "type": "choropleth",
           "z": [
            38.9,
            37.9,
            17.2,
            67.3,
            46.9,
            15.4,
            37.1,
            27.6,
            26.3,
            31.3,
            19.7,
            37.3,
            26,
            19.8,
            54.1,
            19.3,
            37.4,
            23.1,
            48,
            22.1,
            66.7,
            31.6,
            15,
            15.5,
            18.9,
            37.2,
            18.8,
            23.5,
            30.2,
            10.4,
            43.3,
            35.2,
            26.6,
            38.6,
            20.6,
            36.1,
            28.9,
            23.6,
            13.6,
            28.3,
            63.4,
            33.1,
            29.4,
            54.2,
            53.2,
            51.3,
            30.7,
            12.1,
            16.7,
            32.7,
            27.2
           ]
          }
         ],
         "name": "2008"
        },
        {
         "data": [
          {
           "coloraxis": "coloraxis",
           "geo": "geo",
           "hovertemplate": "year=2009<br>state=%{location}<br>abortionrate2024=%{z}<extra></extra>",
           "locationmode": "USA-states",
           "locations": [
            "ND",
            "NE",
            "AL",
            "SD",
            "NJ",
            "WY",
            "OH",
            "SC",
            "NY",
            "NV",
            "TX",
            "AK",
            "NM",
            "TN",
            "RI",
            "NH",
            "PA",
            "OR",
            "NC",
            "OK",
            "UT",
            "CT",
            "AR",
            "MN",
            "IN",
            "WI",
            "VT",
            "ME",
            "MS",
            "VA",
            "FL",
            "WA",
            "MD",
            "LA",
            "GA",
            "CA",
            "MO",
            "AZ",
            "DC",
            "ID",
            "KY",
            "DE",
            "IL",
            "MA",
            "KS",
            "MT",
            "WV",
            "CO",
            "IA",
            "HI",
            "MI"
           ],
           "name": "",
           "type": "choropleth",
           "z": [
            13.3,
            14.4,
            21.9,
            11.2,
            63.4,
            17.8,
            28,
            26.5,
            64.3,
            44.9,
            31.1,
            27.7,
            30.9,
            24.7,
            35.5,
            23.4,
            36.7,
            27.8,
            30.2,
            18.1,
            10.4,
            50.1,
            18.9,
            22.6,
            18.3,
            17,
            29.6,
            25.5,
            26.4,
            36.6,
            46.4,
            34.7,
            52.4,
            27.2,
            34.2,
            50.3,
            23.4,
            28.5,
            46.6,
            15.9,
            13.7,
            58.8,
            33.6,
            35.7,
            16.2,
            20.5,
            18,
            28.9,
            19.2,
            41.1,
            34
           ]
          }
         ],
         "name": "2009"
        },
        {
         "data": [
          {
           "coloraxis": "coloraxis",
           "geo": "geo",
           "hovertemplate": "year=2010<br>state=%{location}<br>abortionrate2024=%{z}<extra></extra>",
           "locationmode": "USA-states",
           "locations": [
            "IA",
            "TN",
            "NM",
            "MD",
            "GA",
            "ME",
            "ID",
            "DE",
            "VA",
            "ND",
            "VT",
            "FL",
            "LA",
            "NY",
            "DC",
            "NC",
            "AZ",
            "WV",
            "KS",
            "KY",
            "RI",
            "NJ",
            "AK",
            "MS",
            "WY",
            "MA",
            "OH",
            "WA",
            "NV",
            "TX",
            "CA",
            "MO",
            "AR",
            "SD",
            "OK",
            "IL",
            "NE",
            "MT",
            "WI",
            "MN",
            "PA",
            "NH",
            "OR",
            "CT",
            "UT",
            "CO",
            "MI",
            "HI",
            "AL",
            "SC",
            "IN"
           ],
           "name": "",
           "type": "choropleth",
           "z": [
            18.8,
            23,
            29.5,
            53.9,
            32.6,
            22.7,
            15.1,
            56.7,
            35.6,
            13.5,
            27.1,
            44.4,
            24.1,
            62.4,
            37.1,
            28.7,
            23.7,
            20.4,
            13.5,
            13.4,
            32.5,
            60.5,
            29.1,
            24,
            17.9,
            34.8,
            26.3,
            32.5,
            43.8,
            29.3,
            46.5,
            20.4,
            17.7,
            11.3,
            16.1,
            30.4,
            13.7,
            21.5,
            16.5,
            21.8,
            34.3,
            23.2,
            26.3,
            46.2,
            9.6,
            27.8,
            31,
            41.7,
            20.8,
            25.6,
            17.4
           ]
          }
         ],
         "name": "2010"
        },
        {
         "data": [
          {
           "coloraxis": "coloraxis",
           "geo": "geo",
           "hovertemplate": "year=2011<br>state=%{location}<br>abortionrate2024=%{z}<extra></extra>",
           "locationmode": "USA-states",
           "locations": [
            "OH",
            "ND",
            "IN",
            "IL",
            "KS",
            "AL",
            "TX",
            "VA",
            "NC",
            "GA",
            "OK",
            "HI",
            "WA",
            "FL",
            "IA",
            "WY",
            "OR",
            "ID",
            "AZ",
            "MA",
            "CO",
            "UT",
            "MI",
            "SC",
            "NH",
            "MN",
            "MS",
            "WI",
            "NV",
            "CA",
            "MO",
            "SD",
            "AR",
            "NE",
            "MT",
            "NJ",
            "TN",
            "CT",
            "VT",
            "MD",
            "LA",
            "WV",
            "AK",
            "NM",
            "DE",
            "ME",
            "NY",
            "DC",
            "PA",
            "KY",
            "RI"
           ],
           "name": "",
           "type": "choropleth",
           "z": [
            25.1,
            12.5,
            15.7,
            30.6,
            13,
            19.4,
            25.9,
            34,
            25.5,
            31,
            15.1,
            40.1,
            30.4,
            41.8,
            17.7,
            18.1,
            24.9,
            14.1,
            23.6,
            34.1,
            25.2,
            8.7,
            30,
            23.1,
            24.5,
            20.4,
            22.1,
            15.7,
            40.3,
            42.4,
            20,
            10.5,
            16.8,
            13.4,
            20.3,
            56.5,
            21.1,
            44.4,
            29.2,
            55.4,
            22.3,
            18.4,
            27.5,
            26.1,
            49,
            21.4,
            60.6,
            34.6,
            31.3,
            12.8,
            31.4
           ]
          }
         ],
         "name": "2011"
        },
        {
         "data": [
          {
           "coloraxis": "coloraxis",
           "geo": "geo",
           "hovertemplate": "year=2012<br>state=%{location}<br>abortionrate2024=%{z}<extra></extra>",
           "locationmode": "USA-states",
           "locations": [
            "SD",
            "PA",
            "OK",
            "WV",
            "CA",
            "CT",
            "DE",
            "FL",
            "SC",
            "WA",
            "HI",
            "CO",
            "DC",
            "RI",
            "OR",
            "GA",
            "TN",
            "WI",
            "MT",
            "ND",
            "NH",
            "IA",
            "NM",
            "MI",
            "WY",
            "NC",
            "AZ",
            "UT",
            "KS",
            "KY",
            "MA",
            "NY",
            "NJ",
            "LA",
            "ID",
            "MD",
            "AK",
            "VT",
            "AR",
            "MN",
            "ME",
            "MS",
            "IN",
            "MO",
            "NV",
            "NE",
            "VA",
            "IL",
            "AL",
            "TX",
            "OH"
           ],
           "name": "",
           "type": "choropleth",
           "z": [
            9.5,
            29.1,
            14.1,
            16.6,
            39.8,
            42,
            42.9,
            39.1,
            20.9,
            28.1,
            34.5,
            23.9,
            34.9,
            29.8,
            23,
            29.8,
            20.1,
            14.3,
            18.3,
            12,
            20.8,
            15.5,
            21.6,
            29,
            15.6,
            26.1,
            21.5,
            8.5,
            12.6,
            11.7,
            32.1,
            55.8,
            51.2,
            19.9,
            12.6,
            51.4,
            25.4,
            26.4,
            16.2,
            19.2,
            20,
            19.8,
            14.5,
            18.4,
            34.5,
            12.9,
            33.6,
            29.9,
            17.1,
            24.1,
            22.7
           ]
          }
         ],
         "name": "2012"
        },
        {
         "data": [
          {
           "coloraxis": "coloraxis",
           "geo": "geo",
           "hovertemplate": "year=2013<br>state=%{location}<br>abortionrate2024=%{z}<extra></extra>",
           "locationmode": "USA-states",
           "locations": [
            "RI",
            "SD",
            "NE",
            "MD",
            "ME",
            "NJ",
            "CT",
            "CO",
            "MA",
            "MN",
            "UT",
            "WI",
            "MS",
            "AK",
            "NH",
            "CA",
            "SC",
            "NV",
            "MI",
            "MO",
            "ID",
            "WV",
            "LA",
            "TX",
            "OK",
            "OH",
            "IL",
            "HI",
            "IN",
            "VA",
            "WA",
            "GA",
            "AL",
            "ND",
            "OR",
            "NM",
            "AZ",
            "IA",
            "MT",
            "AR",
            "WY",
            "NC",
            "DC",
            "KS",
            "KY",
            "DE",
            "PA",
            "NY",
            "FL",
            "TN",
            "VT"
           ],
           "name": "",
           "type": "choropleth",
           "z": [
            25.9,
            9.2,
            12.7,
            46.5,
            20.3,
            49.5,
            38.6,
            21.7,
            29,
            17.6,
            8.4,
            12.9,
            17.9,
            21.7,
            17.7,
            37.9,
            21.4,
            32,
            28.3,
            17.5,
            12.1,
            13.1,
            17.9,
            22.5,
            13.3,
            21.4,
            29.5,
            32.7,
            13.9,
            34,
            26.1,
            28.3,
            16.2,
            10.4,
            20.5,
            18.6,
            19.1,
            12.8,
            15.7,
            14.6,
            13.5,
            26.3,
            41.2,
            12.6,
            11.3,
            33.7,
            27.3,
            51.8,
            37.2,
            18.9,
            22.4
           ]
          }
         ],
         "name": "2013"
        },
        {
         "data": [
          {
           "coloraxis": "coloraxis",
           "geo": "geo",
           "hovertemplate": "year=2014<br>state=%{location}<br>abortionrate2024=%{z}<extra></extra>",
           "locationmode": "USA-states",
           "locations": [
            "WI",
            "WV",
            "TX",
            "WY",
            "TN",
            "VA",
            "WA",
            "UT",
            "VT",
            "MT",
            "MD",
            "ND",
            "CO",
            "NC",
            "CT",
            "NY",
            "NM",
            "NJ",
            "DE",
            "DC",
            "NV",
            "NE",
            "FL",
            "CA",
            "GA",
            "HI",
            "MS",
            "MN",
            "ID",
            "MI",
            "IL",
            "MA",
            "IN",
            "ME",
            "IA",
            "LA",
            "KS",
            "MO",
            "OH",
            "NH",
            "KY",
            "AZ",
            "PA",
            "AK",
            "RI",
            "SC",
            "AR",
            "AL",
            "OR",
            "OK",
            "SD"
           ],
           "name": "",
           "type": "choropleth",
           "z": [
            12.4,
            12,
            18.6,
            13.8,
            17.7,
            27,
            25.5,
            7.6,
            20.5,
            14.6,
            44.8,
            11.3,
            21.5,
            25.9,
            36.6,
            50.9,
            17.5,
            46.9,
            34,
            45,
            35.1,
            11.6,
            36.2,
            35.7,
            27.3,
            27.1,
            17.6,
            16,
            11.3,
            27.4,
            29,
            27.5,
            14,
            20,
            11.6,
            17.8,
            11.8,
            15.2,
            19.9,
            18.3,
            10.7,
            18.2,
            26.7,
            20.5,
            27.2,
            20.2,
            13.3,
            16.4,
            20.3,
            11.9,
            8.4
           ]
          }
         ],
         "name": "2014"
        },
        {
         "data": [
          {
           "coloraxis": "coloraxis",
           "geo": "geo",
           "hovertemplate": "year=2015<br>state=%{location}<br>abortionrate2024=%{z}<extra></extra>",
           "locationmode": "USA-states",
           "locations": [
            "KS",
            "TN",
            "WA",
            "AK",
            "VT",
            "MS",
            "SD",
            "HI",
            "MN",
            "RI",
            "WY",
            "ID",
            "AL",
            "MA",
            "LA",
            "OH",
            "UT",
            "IL",
            "VA",
            "IA",
            "MD",
            "SC",
            "IN",
            "ME",
            "MI",
            "GA",
            "TX",
            "MO",
            "CT",
            "OK",
            "NC",
            "NM",
            "CO",
            "WV",
            "NJ",
            "ND",
            "OR",
            "DE",
            "NY",
            "KY",
            "NH",
            "CA",
            "AZ",
            "NV",
            "DC",
            "WI",
            "NE",
            "PA",
            "FL",
            "MT",
            "AR"
           ],
           "name": "",
           "type": "choropleth",
           "z": [
            11,
            16.7,
            23.2,
            20.3,
            18,
            16.2,
            8.6,
            21.9,
            15.6,
            26.1,
            13.2,
            11.4,
            16.8,
            24.5,
            18.3,
            18.3,
            7.9,
            27.6,
            25,
            11.7,
            42.5,
            21.2,
            14.5,
            18.5,
            25.2,
            27.7,
            17.9,
            15.8,
            32.4,
            11.4,
            23.6,
            18.1,
            20.2,
            12.6,
            47.7,
            10.4,
            20.9,
            31.7,
            48.5,
            10.6,
            16.8,
            33.2,
            18,
            32.2,
            35.6,
            12.2,
            9.6,
            26.5,
            33.9,
            13.9,
            12.4
           ]
          }
         ],
         "name": "2015"
        },
        {
         "data": [
          {
           "coloraxis": "coloraxis",
           "geo": "geo",
           "hovertemplate": "year=2016<br>state=%{location}<br>abortionrate2024=%{z}<extra></extra>",
           "locationmode": "USA-states",
           "locations": [
            "CA",
            "WI",
            "AR",
            "KS",
            "IN",
            "IA",
            "AK",
            "VA",
            "IL",
            "CT",
            "FL",
            "ID",
            "AL",
            "AZ",
            "HI",
            "DE",
            "GA",
            "DC",
            "WA",
            "CO",
            "WV",
            "SD",
            "NV",
            "MN",
            "MS",
            "OH",
            "TX",
            "MO",
            "MI",
            "WY",
            "ND",
            "NE",
            "NC",
            "NH",
            "NJ",
            "NY",
            "MT",
            "OR",
            "OK",
            "NM",
            "MA",
            "LA",
            "MD",
            "PA",
            "TN",
            "ME",
            "RI",
            "KY",
            "VT",
            "UT",
            "SC"
           ],
           "name": "",
           "type": "choropleth",
           "z": [
            30.8,
            11,
            11.9,
            10.4,
            14.5,
            11.4,
            17.3,
            22.7,
            26.7,
            30.5,
            31.7,
            11.3,
            15.8,
            18.4,
            21.1,
            28.1,
            27.2,
            27.8,
            21.7,
            19.3,
            14.1,
            7.2,
            29.5,
            15.2,
            15.4,
            17.5,
            17.2,
            15.9,
            24.1,
            12.6,
            9.6,
            9.3,
            21.5,
            15.6,
            49.3,
            45.1,
            13.8,
            20,
            10.5,
            18.6,
            22.7,
            18.5,
            40.6,
            25.9,
            15.8,
            16.3,
            27.1,
            9.5,
            16.3,
            7.9,
            20.9
           ]
          }
         ],
         "name": "2016"
        },
        {
         "data": [
          {
           "coloraxis": "coloraxis",
           "geo": "geo",
           "hovertemplate": "year=2017<br>state=%{location}<br>abortionrate2024=%{z}<extra></extra>",
           "locationmode": "USA-states",
           "locations": [
            "NY",
            "SC",
            "CO",
            "CA",
            "RI",
            "NC",
            "OR",
            "AR",
            "AL",
            "PA",
            "OH",
            "WI",
            "NM",
            "AK",
            "OK",
            "AZ",
            "TN",
            "ND",
            "TX",
            "VT",
            "WV",
            "IA",
            "KY",
            "LA",
            "IN",
            "ME",
            "SD",
            "MD",
            "VA",
            "IL",
            "UT",
            "ID",
            "MA",
            "MI",
            "HI",
            "MN",
            "GA",
            "MS",
            "WA",
            "MO",
            "FL",
            "MT",
            "DC",
            "NE",
            "KS",
            "DE",
            "NV",
            "NH",
            "NJ",
            "CT",
            "WY"
           ],
           "name": "",
           "type": "choropleth",
           "z": [
            43.2,
            20.6,
            18.5,
            28.8,
            25.8,
            22.2,
            19.3,
            11.9,
            15.1,
            25.1,
            16.5,
            11.5,
            16.6,
            16.8,
            11.2,
            17.5,
            15.6,
            10.5,
            17.4,
            13.9,
            13.2,
            10,
            9.2,
            17.8,
            14.2,
            15.9,
            7.8,
            42.9,
            20.3,
            27.2,
            7.6,
            11,
            20.6,
            23.2,
            21.5,
            16.4,
            26.8,
            16.1,
            21.4,
            14.9,
            30.5,
            13.5,
            39.4,
            10.6,
            10.5,
            29.9,
            30.3,
            14.7,
            47.1,
            27.7,
            12.4
           ]
          }
         ],
         "name": "2017"
        }
       ],
       "layout": {
        "coloraxis": {
         "colorbar": {
          "title": {
           "text": "abortionrate2024"
          }
         },
         "colorscale": [
          [
           0,
           "#fde725"
          ],
          [
           0.1111111111111111,
           "#b5de2b"
          ],
          [
           0.2222222222222222,
           "#6ece58"
          ],
          [
           0.3333333333333333,
           "#35b779"
          ],
          [
           0.4444444444444444,
           "#1f9e89"
          ],
          [
           0.5555555555555556,
           "#26828e"
          ],
          [
           0.6666666666666666,
           "#31688e"
          ],
          [
           0.7777777777777778,
           "#3e4989"
          ],
          [
           0.8888888888888888,
           "#482878"
          ],
          [
           1,
           "#440154"
          ]
         ]
        },
        "geo": {
         "center": {},
         "domain": {
          "x": [
           0,
           1
          ],
          "y": [
           0,
           1
          ]
         },
         "scope": "usa"
        },
        "legend": {
         "tracegroupgap": 0
        },
        "margin": {
         "t": 60
        },
        "sliders": [
         {
          "active": 0,
          "currentvalue": {
           "prefix": "year="
          },
          "len": 0.9,
          "pad": {
           "b": 10,
           "t": 60
          },
          "steps": [
           {
            "args": [
             [
              "1988"
             ],
             {
              "frame": {
               "duration": 0,
               "redraw": true
              },
              "fromcurrent": true,
              "mode": "immediate",
              "transition": {
               "duration": 0,
               "easing": "linear"
              }
             }
            ],
            "label": "1988",
            "method": "animate"
           },
           {
            "args": [
             [
              "1992"
             ],
             {
              "frame": {
               "duration": 0,
               "redraw": true
              },
              "fromcurrent": true,
              "mode": "immediate",
              "transition": {
               "duration": 0,
               "easing": "linear"
              }
             }
            ],
            "label": "1992",
            "method": "animate"
           },
           {
            "args": [
             [
              "1996"
             ],
             {
              "frame": {
               "duration": 0,
               "redraw": true
              },
              "fromcurrent": true,
              "mode": "immediate",
              "transition": {
               "duration": 0,
               "easing": "linear"
              }
             }
            ],
            "label": "1996",
            "method": "animate"
           },
           {
            "args": [
             [
              "2000"
             ],
             {
              "frame": {
               "duration": 0,
               "redraw": true
              },
              "fromcurrent": true,
              "mode": "immediate",
              "transition": {
               "duration": 0,
               "easing": "linear"
              }
             }
            ],
            "label": "2000",
            "method": "animate"
           },
           {
            "args": [
             [
              "2005"
             ],
             {
              "frame": {
               "duration": 0,
               "redraw": true
              },
              "fromcurrent": true,
              "mode": "immediate",
              "transition": {
               "duration": 0,
               "easing": "linear"
              }
             }
            ],
            "label": "2005",
            "method": "animate"
           },
           {
            "args": [
             [
              "2006"
             ],
             {
              "frame": {
               "duration": 0,
               "redraw": true
              },
              "fromcurrent": true,
              "mode": "immediate",
              "transition": {
               "duration": 0,
               "easing": "linear"
              }
             }
            ],
            "label": "2006",
            "method": "animate"
           },
           {
            "args": [
             [
              "2007"
             ],
             {
              "frame": {
               "duration": 0,
               "redraw": true
              },
              "fromcurrent": true,
              "mode": "immediate",
              "transition": {
               "duration": 0,
               "easing": "linear"
              }
             }
            ],
            "label": "2007",
            "method": "animate"
           },
           {
            "args": [
             [
              "2008"
             ],
             {
              "frame": {
               "duration": 0,
               "redraw": true
              },
              "fromcurrent": true,
              "mode": "immediate",
              "transition": {
               "duration": 0,
               "easing": "linear"
              }
             }
            ],
            "label": "2008",
            "method": "animate"
           },
           {
            "args": [
             [
              "2009"
             ],
             {
              "frame": {
               "duration": 0,
               "redraw": true
              },
              "fromcurrent": true,
              "mode": "immediate",
              "transition": {
               "duration": 0,
               "easing": "linear"
              }
             }
            ],
            "label": "2009",
            "method": "animate"
           },
           {
            "args": [
             [
              "2010"
             ],
             {
              "frame": {
               "duration": 0,
               "redraw": true
              },
              "fromcurrent": true,
              "mode": "immediate",
              "transition": {
               "duration": 0,
               "easing": "linear"
              }
             }
            ],
            "label": "2010",
            "method": "animate"
           },
           {
            "args": [
             [
              "2011"
             ],
             {
              "frame": {
               "duration": 0,
               "redraw": true
              },
              "fromcurrent": true,
              "mode": "immediate",
              "transition": {
               "duration": 0,
               "easing": "linear"
              }
             }
            ],
            "label": "2011",
            "method": "animate"
           },
           {
            "args": [
             [
              "2012"
             ],
             {
              "frame": {
               "duration": 0,
               "redraw": true
              },
              "fromcurrent": true,
              "mode": "immediate",
              "transition": {
               "duration": 0,
               "easing": "linear"
              }
             }
            ],
            "label": "2012",
            "method": "animate"
           },
           {
            "args": [
             [
              "2013"
             ],
             {
              "frame": {
               "duration": 0,
               "redraw": true
              },
              "fromcurrent": true,
              "mode": "immediate",
              "transition": {
               "duration": 0,
               "easing": "linear"
              }
             }
            ],
            "label": "2013",
            "method": "animate"
           },
           {
            "args": [
             [
              "2014"
             ],
             {
              "frame": {
               "duration": 0,
               "redraw": true
              },
              "fromcurrent": true,
              "mode": "immediate",
              "transition": {
               "duration": 0,
               "easing": "linear"
              }
             }
            ],
            "label": "2014",
            "method": "animate"
           },
           {
            "args": [
             [
              "2015"
             ],
             {
              "frame": {
               "duration": 0,
               "redraw": true
              },
              "fromcurrent": true,
              "mode": "immediate",
              "transition": {
               "duration": 0,
               "easing": "linear"
              }
             }
            ],
            "label": "2015",
            "method": "animate"
           },
           {
            "args": [
             [
              "2016"
             ],
             {
              "frame": {
               "duration": 0,
               "redraw": true
              },
              "fromcurrent": true,
              "mode": "immediate",
              "transition": {
               "duration": 0,
               "easing": "linear"
              }
             }
            ],
            "label": "2016",
            "method": "animate"
           },
           {
            "args": [
             [
              "2017"
             ],
             {
              "frame": {
               "duration": 0,
               "redraw": true
              },
              "fromcurrent": true,
              "mode": "immediate",
              "transition": {
               "duration": 0,
               "easing": "linear"
              }
             }
            ],
            "label": "2017",
            "method": "animate"
           }
          ],
          "x": 0.1,
          "xanchor": "left",
          "y": 0,
          "yanchor": "top"
         }
        ],
        "template": {
         "data": {
          "bar": [
           {
            "error_x": {
             "color": "#2a3f5f"
            },
            "error_y": {
             "color": "#2a3f5f"
            },
            "marker": {
             "line": {
              "color": "#E5ECF6",
              "width": 0.5
             },
             "pattern": {
              "fillmode": "overlay",
              "size": 10,
              "solidity": 0.2
             }
            },
            "type": "bar"
           }
          ],
          "barpolar": [
           {
            "marker": {
             "line": {
              "color": "#E5ECF6",
              "width": 0.5
             },
             "pattern": {
              "fillmode": "overlay",
              "size": 10,
              "solidity": 0.2
             }
            },
            "type": "barpolar"
           }
          ],
          "carpet": [
           {
            "aaxis": {
             "endlinecolor": "#2a3f5f",
             "gridcolor": "white",
             "linecolor": "white",
             "minorgridcolor": "white",
             "startlinecolor": "#2a3f5f"
            },
            "baxis": {
             "endlinecolor": "#2a3f5f",
             "gridcolor": "white",
             "linecolor": "white",
             "minorgridcolor": "white",
             "startlinecolor": "#2a3f5f"
            },
            "type": "carpet"
           }
          ],
          "choropleth": [
           {
            "colorbar": {
             "outlinewidth": 0,
             "ticks": ""
            },
            "type": "choropleth"
           }
          ],
          "contour": [
           {
            "colorbar": {
             "outlinewidth": 0,
             "ticks": ""
            },
            "colorscale": [
             [
              0,
              "#0d0887"
             ],
             [
              0.1111111111111111,
              "#46039f"
             ],
             [
              0.2222222222222222,
              "#7201a8"
             ],
             [
              0.3333333333333333,
              "#9c179e"
             ],
             [
              0.4444444444444444,
              "#bd3786"
             ],
             [
              0.5555555555555556,
              "#d8576b"
             ],
             [
              0.6666666666666666,
              "#ed7953"
             ],
             [
              0.7777777777777778,
              "#fb9f3a"
             ],
             [
              0.8888888888888888,
              "#fdca26"
             ],
             [
              1,
              "#f0f921"
             ]
            ],
            "type": "contour"
           }
          ],
          "contourcarpet": [
           {
            "colorbar": {
             "outlinewidth": 0,
             "ticks": ""
            },
            "type": "contourcarpet"
           }
          ],
          "heatmap": [
           {
            "colorbar": {
             "outlinewidth": 0,
             "ticks": ""
            },
            "colorscale": [
             [
              0,
              "#0d0887"
             ],
             [
              0.1111111111111111,
              "#46039f"
             ],
             [
              0.2222222222222222,
              "#7201a8"
             ],
             [
              0.3333333333333333,
              "#9c179e"
             ],
             [
              0.4444444444444444,
              "#bd3786"
             ],
             [
              0.5555555555555556,
              "#d8576b"
             ],
             [
              0.6666666666666666,
              "#ed7953"
             ],
             [
              0.7777777777777778,
              "#fb9f3a"
             ],
             [
              0.8888888888888888,
              "#fdca26"
             ],
             [
              1,
              "#f0f921"
             ]
            ],
            "type": "heatmap"
           }
          ],
          "heatmapgl": [
           {
            "colorbar": {
             "outlinewidth": 0,
             "ticks": ""
            },
            "colorscale": [
             [
              0,
              "#0d0887"
             ],
             [
              0.1111111111111111,
              "#46039f"
             ],
             [
              0.2222222222222222,
              "#7201a8"
             ],
             [
              0.3333333333333333,
              "#9c179e"
             ],
             [
              0.4444444444444444,
              "#bd3786"
             ],
             [
              0.5555555555555556,
              "#d8576b"
             ],
             [
              0.6666666666666666,
              "#ed7953"
             ],
             [
              0.7777777777777778,
              "#fb9f3a"
             ],
             [
              0.8888888888888888,
              "#fdca26"
             ],
             [
              1,
              "#f0f921"
             ]
            ],
            "type": "heatmapgl"
           }
          ],
          "histogram": [
           {
            "marker": {
             "pattern": {
              "fillmode": "overlay",
              "size": 10,
              "solidity": 0.2
             }
            },
            "type": "histogram"
           }
          ],
          "histogram2d": [
           {
            "colorbar": {
             "outlinewidth": 0,
             "ticks": ""
            },
            "colorscale": [
             [
              0,
              "#0d0887"
             ],
             [
              0.1111111111111111,
              "#46039f"
             ],
             [
              0.2222222222222222,
              "#7201a8"
             ],
             [
              0.3333333333333333,
              "#9c179e"
             ],
             [
              0.4444444444444444,
              "#bd3786"
             ],
             [
              0.5555555555555556,
              "#d8576b"
             ],
             [
              0.6666666666666666,
              "#ed7953"
             ],
             [
              0.7777777777777778,
              "#fb9f3a"
             ],
             [
              0.8888888888888888,
              "#fdca26"
             ],
             [
              1,
              "#f0f921"
             ]
            ],
            "type": "histogram2d"
           }
          ],
          "histogram2dcontour": [
           {
            "colorbar": {
             "outlinewidth": 0,
             "ticks": ""
            },
            "colorscale": [
             [
              0,
              "#0d0887"
             ],
             [
              0.1111111111111111,
              "#46039f"
             ],
             [
              0.2222222222222222,
              "#7201a8"
             ],
             [
              0.3333333333333333,
              "#9c179e"
             ],
             [
              0.4444444444444444,
              "#bd3786"
             ],
             [
              0.5555555555555556,
              "#d8576b"
             ],
             [
              0.6666666666666666,
              "#ed7953"
             ],
             [
              0.7777777777777778,
              "#fb9f3a"
             ],
             [
              0.8888888888888888,
              "#fdca26"
             ],
             [
              1,
              "#f0f921"
             ]
            ],
            "type": "histogram2dcontour"
           }
          ],
          "mesh3d": [
           {
            "colorbar": {
             "outlinewidth": 0,
             "ticks": ""
            },
            "type": "mesh3d"
           }
          ],
          "parcoords": [
           {
            "line": {
             "colorbar": {
              "outlinewidth": 0,
              "ticks": ""
             }
            },
            "type": "parcoords"
           }
          ],
          "pie": [
           {
            "automargin": true,
            "type": "pie"
           }
          ],
          "scatter": [
           {
            "fillpattern": {
             "fillmode": "overlay",
             "size": 10,
             "solidity": 0.2
            },
            "type": "scatter"
           }
          ],
          "scatter3d": [
           {
            "line": {
             "colorbar": {
              "outlinewidth": 0,
              "ticks": ""
             }
            },
            "marker": {
             "colorbar": {
              "outlinewidth": 0,
              "ticks": ""
             }
            },
            "type": "scatter3d"
           }
          ],
          "scattercarpet": [
           {
            "marker": {
             "colorbar": {
              "outlinewidth": 0,
              "ticks": ""
             }
            },
            "type": "scattercarpet"
           }
          ],
          "scattergeo": [
           {
            "marker": {
             "colorbar": {
              "outlinewidth": 0,
              "ticks": ""
             }
            },
            "type": "scattergeo"
           }
          ],
          "scattergl": [
           {
            "marker": {
             "colorbar": {
              "outlinewidth": 0,
              "ticks": ""
             }
            },
            "type": "scattergl"
           }
          ],
          "scattermapbox": [
           {
            "marker": {
             "colorbar": {
              "outlinewidth": 0,
              "ticks": ""
             }
            },
            "type": "scattermapbox"
           }
          ],
          "scatterpolar": [
           {
            "marker": {
             "colorbar": {
              "outlinewidth": 0,
              "ticks": ""
             }
            },
            "type": "scatterpolar"
           }
          ],
          "scatterpolargl": [
           {
            "marker": {
             "colorbar": {
              "outlinewidth": 0,
              "ticks": ""
             }
            },
            "type": "scatterpolargl"
           }
          ],
          "scatterternary": [
           {
            "marker": {
             "colorbar": {
              "outlinewidth": 0,
              "ticks": ""
             }
            },
            "type": "scatterternary"
           }
          ],
          "surface": [
           {
            "colorbar": {
             "outlinewidth": 0,
             "ticks": ""
            },
            "colorscale": [
             [
              0,
              "#0d0887"
             ],
             [
              0.1111111111111111,
              "#46039f"
             ],
             [
              0.2222222222222222,
              "#7201a8"
             ],
             [
              0.3333333333333333,
              "#9c179e"
             ],
             [
              0.4444444444444444,
              "#bd3786"
             ],
             [
              0.5555555555555556,
              "#d8576b"
             ],
             [
              0.6666666666666666,
              "#ed7953"
             ],
             [
              0.7777777777777778,
              "#fb9f3a"
             ],
             [
              0.8888888888888888,
              "#fdca26"
             ],
             [
              1,
              "#f0f921"
             ]
            ],
            "type": "surface"
           }
          ],
          "table": [
           {
            "cells": {
             "fill": {
              "color": "#EBF0F8"
             },
             "line": {
              "color": "white"
             }
            },
            "header": {
             "fill": {
              "color": "#C8D4E3"
             },
             "line": {
              "color": "white"
             }
            },
            "type": "table"
           }
          ]
         },
         "layout": {
          "annotationdefaults": {
           "arrowcolor": "#2a3f5f",
           "arrowhead": 0,
           "arrowwidth": 1
          },
          "autotypenumbers": "strict",
          "coloraxis": {
           "colorbar": {
            "outlinewidth": 0,
            "ticks": ""
           }
          },
          "colorscale": {
           "diverging": [
            [
             0,
             "#8e0152"
            ],
            [
             0.1,
             "#c51b7d"
            ],
            [
             0.2,
             "#de77ae"
            ],
            [
             0.3,
             "#f1b6da"
            ],
            [
             0.4,
             "#fde0ef"
            ],
            [
             0.5,
             "#f7f7f7"
            ],
            [
             0.6,
             "#e6f5d0"
            ],
            [
             0.7,
             "#b8e186"
            ],
            [
             0.8,
             "#7fbc41"
            ],
            [
             0.9,
             "#4d9221"
            ],
            [
             1,
             "#276419"
            ]
           ],
           "sequential": [
            [
             0,
             "#0d0887"
            ],
            [
             0.1111111111111111,
             "#46039f"
            ],
            [
             0.2222222222222222,
             "#7201a8"
            ],
            [
             0.3333333333333333,
             "#9c179e"
            ],
            [
             0.4444444444444444,
             "#bd3786"
            ],
            [
             0.5555555555555556,
             "#d8576b"
            ],
            [
             0.6666666666666666,
             "#ed7953"
            ],
            [
             0.7777777777777778,
             "#fb9f3a"
            ],
            [
             0.8888888888888888,
             "#fdca26"
            ],
            [
             1,
             "#f0f921"
            ]
           ],
           "sequentialminus": [
            [
             0,
             "#0d0887"
            ],
            [
             0.1111111111111111,
             "#46039f"
            ],
            [
             0.2222222222222222,
             "#7201a8"
            ],
            [
             0.3333333333333333,
             "#9c179e"
            ],
            [
             0.4444444444444444,
             "#bd3786"
            ],
            [
             0.5555555555555556,
             "#d8576b"
            ],
            [
             0.6666666666666666,
             "#ed7953"
            ],
            [
             0.7777777777777778,
             "#fb9f3a"
            ],
            [
             0.8888888888888888,
             "#fdca26"
            ],
            [
             1,
             "#f0f921"
            ]
           ]
          },
          "colorway": [
           "#636efa",
           "#EF553B",
           "#00cc96",
           "#ab63fa",
           "#FFA15A",
           "#19d3f3",
           "#FF6692",
           "#B6E880",
           "#FF97FF",
           "#FECB52"
          ],
          "font": {
           "color": "#2a3f5f"
          },
          "geo": {
           "bgcolor": "white",
           "lakecolor": "white",
           "landcolor": "#E5ECF6",
           "showlakes": true,
           "showland": true,
           "subunitcolor": "white"
          },
          "hoverlabel": {
           "align": "left"
          },
          "hovermode": "closest",
          "mapbox": {
           "style": "light"
          },
          "paper_bgcolor": "white",
          "plot_bgcolor": "#E5ECF6",
          "polar": {
           "angularaxis": {
            "gridcolor": "white",
            "linecolor": "white",
            "ticks": ""
           },
           "bgcolor": "#E5ECF6",
           "radialaxis": {
            "gridcolor": "white",
            "linecolor": "white",
            "ticks": ""
           }
          },
          "scene": {
           "xaxis": {
            "backgroundcolor": "#E5ECF6",
            "gridcolor": "white",
            "gridwidth": 2,
            "linecolor": "white",
            "showbackground": true,
            "ticks": "",
            "zerolinecolor": "white"
           },
           "yaxis": {
            "backgroundcolor": "#E5ECF6",
            "gridcolor": "white",
            "gridwidth": 2,
            "linecolor": "white",
            "showbackground": true,
            "ticks": "",
            "zerolinecolor": "white"
           },
           "zaxis": {
            "backgroundcolor": "#E5ECF6",
            "gridcolor": "white",
            "gridwidth": 2,
            "linecolor": "white",
            "showbackground": true,
            "ticks": "",
            "zerolinecolor": "white"
           }
          },
          "shapedefaults": {
           "line": {
            "color": "#2a3f5f"
           }
          },
          "ternary": {
           "aaxis": {
            "gridcolor": "white",
            "linecolor": "white",
            "ticks": ""
           },
           "baxis": {
            "gridcolor": "white",
            "linecolor": "white",
            "ticks": ""
           },
           "bgcolor": "#E5ECF6",
           "caxis": {
            "gridcolor": "white",
            "linecolor": "white",
            "ticks": ""
           }
          },
          "title": {
           "x": 0.05
          },
          "xaxis": {
           "automargin": true,
           "gridcolor": "white",
           "linecolor": "white",
           "ticks": "",
           "title": {
            "standoff": 15
           },
           "zerolinecolor": "white",
           "zerolinewidth": 2
          },
          "yaxis": {
           "automargin": true,
           "gridcolor": "white",
           "linecolor": "white",
           "ticks": "",
           "title": {
            "standoff": 15
           },
           "zerolinecolor": "white",
           "zerolinewidth": 2
          }
         }
        },
        "updatemenus": [
         {
          "buttons": [
           {
            "args": [
             null,
             {
              "frame": {
               "duration": 500,
               "redraw": true
              },
              "fromcurrent": true,
              "mode": "immediate",
              "transition": {
               "duration": 500,
               "easing": "linear"
              }
             }
            ],
            "label": "&#9654;",
            "method": "animate"
           },
           {
            "args": [
             [
              null
             ],
             {
              "frame": {
               "duration": 0,
               "redraw": true
              },
              "fromcurrent": true,
              "mode": "immediate",
              "transition": {
               "duration": 0,
               "easing": "linear"
              }
             }
            ],
            "label": "&#9724;",
            "method": "animate"
           }
          ],
          "direction": "left",
          "pad": {
           "r": 10,
           "t": 70
          },
          "showactive": false,
          "type": "buttons",
          "x": 0.1,
          "xanchor": "right",
          "y": 0,
          "yanchor": "top"
         }
        ]
       }
      }
     },
     "metadata": {},
     "output_type": "display_data"
    }
   ],
   "source": [
    "fig = px.choropleth(df2,\n",
    "                    locations='state', \n",
    "                    locationmode=\"USA-states\", \n",
    "                    color='abortionrate2024',\n",
    "                    color_continuous_scale=\"Viridis_r\", \n",
    "                    scope=\"usa\",\n",
    "                    animation_frame='year') \n",
    "\n",
    "fig.show()"
   ]
  },
  {
   "cell_type": "code",
   "execution_count": 164,
   "metadata": {},
   "outputs": [
    {
     "data": {
      "application/vnd.plotly.v1+json": {
       "config": {
        "plotlyServerURL": "https://plot.ly"
       },
       "data": [
        {
         "coloraxis": "coloraxis",
         "geo": "geo",
         "hovertemplate": "year=1988<br>state=%{location}<br>abortionrate2024=%{z}<extra></extra>",
         "locationmode": "USA-states",
         "locations": [
          "WA",
          "IN",
          "IA",
          "KS",
          "KY",
          "VA",
          "LA",
          "ME",
          "MD",
          "AL",
          "ID",
          "MA",
          "HI",
          "WV",
          "GA",
          "FL",
          "DC",
          "DE",
          "WI",
          "CT",
          "CO",
          "IL",
          "MI",
          "NH",
          "MS",
          "SD",
          "SC",
          "RI",
          "TX",
          "PA",
          "OR",
          "OK",
          "OH",
          "ND",
          "MN",
          "NC",
          "NM",
          "NJ",
          "CA",
          "NV",
          "NE",
          "MT",
          "MO",
          "UT",
          "NY",
          "WY",
          "VT",
          "TN",
          "AZ",
          "AK",
          "AR"
         ],
         "name": "",
         "type": "choropleth",
         "z": [
          58.9,
          32.8,
          33.8,
          24.9,
          22.9,
          51.8,
          30.2,
          29.3,
          71.2,
          40.5,
          26.1,
          49.4,
          82.6,
          24.5,
          43.6,
          57.2,
          null,
          53.7,
          33.3,
          61.6,
          46.2,
          55.5,
          55.3,
          44.5,
          19,
          18.2,
          37.5,
          47,
          48.3,
          36.9,
          50.6,
          34.3,
          41.6,
          20.4,
          35.1,
          47.6,
          44.2,
          73.7,
          87,
          70,
          30.8,
          26.9,
          41.8,
          22.3,
          79.5,
          26.9,
          43.9,
          33.8,
          53.8,
          43.9,
          27.9
         ]
        }
       ],
       "frames": [
        {
         "data": [
          {
           "coloraxis": "coloraxis",
           "geo": "geo",
           "hovertemplate": "year=1988<br>state=%{location}<br>abortionrate2024=%{z}<extra></extra>",
           "locationmode": "USA-states",
           "locations": [
            "WA",
            "IN",
            "IA",
            "KS",
            "KY",
            "VA",
            "LA",
            "ME",
            "MD",
            "AL",
            "ID",
            "MA",
            "HI",
            "WV",
            "GA",
            "FL",
            "DC",
            "DE",
            "WI",
            "CT",
            "CO",
            "IL",
            "MI",
            "NH",
            "MS",
            "SD",
            "SC",
            "RI",
            "TX",
            "PA",
            "OR",
            "OK",
            "OH",
            "ND",
            "MN",
            "NC",
            "NM",
            "NJ",
            "CA",
            "NV",
            "NE",
            "MT",
            "MO",
            "UT",
            "NY",
            "WY",
            "VT",
            "TN",
            "AZ",
            "AK",
            "AR"
           ],
           "name": "",
           "type": "choropleth",
           "z": [
            58.9,
            32.8,
            33.8,
            24.9,
            22.9,
            51.8,
            30.2,
            29.3,
            71.2,
            40.5,
            26.1,
            49.4,
            82.6,
            24.5,
            43.6,
            57.2,
            null,
            53.7,
            33.3,
            61.6,
            46.2,
            55.5,
            55.3,
            44.5,
            19,
            18.2,
            37.5,
            47,
            48.3,
            36.9,
            50.6,
            34.3,
            41.6,
            20.4,
            35.1,
            47.6,
            44.2,
            73.7,
            87,
            70,
            30.8,
            26.9,
            41.8,
            22.3,
            79.5,
            26.9,
            43.9,
            33.8,
            53.8,
            43.9,
            27.9
           ]
          }
         ],
         "name": "1988"
        },
        {
         "data": [
          {
           "coloraxis": "coloraxis",
           "geo": "geo",
           "hovertemplate": "year=1992<br>state=%{location}<br>abortionrate2024=%{z}<extra></extra>",
           "locationmode": "USA-states",
           "locations": [
            "DE",
            "HI",
            "WI",
            "MD",
            "OR",
            "ME",
            "MS",
            "NY",
            "ID",
            "CT",
            "SC",
            "AR",
            "NM",
            "NH",
            "LA",
            "MN",
            "GA",
            "RI",
            "DC",
            "VT",
            "TN",
            "MA",
            "PA",
            "TX",
            "MI",
            "NJ",
            "WV",
            "VA",
            "FL",
            "UT",
            "NV",
            "CO",
            "ND",
            "OK",
            "WA",
            "OH",
            "KY",
            "CA",
            "SD",
            "NE",
            "IL",
            "NC",
            "IN",
            "AK",
            "IA",
            "MT",
            "MO",
            "WY",
            "AZ",
            "KS",
            "AL"
           ],
           "name": "",
           "type": "choropleth",
           "z": [
            57.8,
            105.9,
            31.9,
            78.1,
            52.8,
            33.5,
            30.2,
            89,
            20.2,
            61.6,
            35.6,
            37.6,
            47.1,
            37.8,
            24.5,
            33.7,
            51.9,
            46.6,
            null,
            32.1,
            35.5,
            56.2,
            41,
            50.3,
            54.2,
            77.2,
            24.6,
            52.9,
            63.8,
            17.2,
            92.3,
            49.8,
            18.7,
            28.1,
            65.4,
            42.8,
            23.7,
            91.2,
            17.9,
            32.8,
            57.9,
            44.5,
            35.3,
            56,
            25.4,
            34.7,
            37.1,
            25.5,
            52.5,
            27.9,
            38.1
           ]
          }
         ],
         "name": "1992"
        },
        {
         "data": [
          {
           "coloraxis": "coloraxis",
           "geo": "geo",
           "hovertemplate": "year=1996<br>state=%{location}<br>abortionrate2024=%{z}<extra></extra>",
           "locationmode": "USA-states",
           "locations": [
            "OH",
            "AR",
            "KS",
            "ND",
            "PA",
            "IA",
            "WV",
            "GA",
            "WA",
            "IN",
            "LA",
            "NY",
            "ID",
            "FL",
            "IL",
            "ME",
            "KY",
            "VT",
            "OR",
            "MD",
            "HI",
            "NC",
            "VA",
            "NM",
            "AK",
            "TX",
            "OK",
            "WY",
            "MA",
            "DC",
            "UT",
            "NH",
            "NV",
            "MS",
            "WI",
            "CO",
            "MN",
            "SD",
            "RI",
            "MO",
            "MT",
            "DE",
            "CT",
            "NJ",
            "AL",
            "MI",
            "SC",
            "TN",
            "CA",
            "NE",
            "AZ"
           ],
           "name": "",
           "type": "choropleth",
           "z": [
            37.8,
            26.2,
            26.3,
            15.4,
            35.5,
            20.8,
            18.5,
            42.6,
            47.8,
            30.8,
            28.5,
            79.9,
            16.7,
            71.4,
            54.5,
            27.6,
            19.6,
            35.4,
            41.5,
            75.9,
            58.1,
            41.6,
            45.2,
            35.5,
            46.9,
            43.2,
            24.8,
            30.3,
            60.2,
            null,
            13.3,
            42,
            80.5,
            32.2,
            29.9,
            40.3,
            30.2,
            15.4,
            48.8,
            28.8,
            27.1,
            40.6,
            55.1,
            87.7,
            34.6,
            47.6,
            30.6,
            30.9,
            71.6,
            23.7,
            42.1
           ]
          }
         ],
         "name": "1996"
        },
        {
         "data": [
          {
           "coloraxis": "coloraxis",
           "geo": "geo",
           "hovertemplate": "year=2000<br>state=%{location}<br>abortionrate2024=%{z}<extra></extra>",
           "locationmode": "USA-states",
           "locations": [
            "LA",
            "AK",
            "NY",
            "ID",
            "NJ",
            "OK",
            "WY",
            "TN",
            "ND",
            "CA",
            "OH",
            "MT",
            "KS",
            "NC",
            "IN",
            "VA",
            "SD",
            "WA",
            "CO",
            "NV",
            "KY",
            "IL",
            "MO",
            "AR",
            "CT",
            "MS",
            "TX",
            "MN",
            "VT",
            "AZ",
            "GA",
            "RI",
            "NH",
            "WV",
            "AL",
            "MI",
            "PA",
            "IA",
            "MA",
            "FL",
            "DC",
            "DE",
            "NE",
            "HI",
            "SC",
            "NM",
            "OR",
            "WI",
            "MD",
            "ME",
            "UT"
           ],
           "name": "",
           "type": "choropleth",
           "z": [
            25.1,
            33,
            77.5,
            20.4,
            90.4,
            22.4,
            33.8,
            31.5,
            13,
            67.4,
            35.4,
            27.1,
            23.9,
            42.8,
            25.2,
            43,
            13.2,
            44.4,
            29,
            61,
            16.5,
            45.4,
            29.7,
            22.7,
            54.2,
            31.6,
            40.6,
            29,
            27.2,
            34.5,
            37.2,
            45,
            35.6,
            17.4,
            29.6,
            45.7,
            34.5,
            21.4,
            44,
            71.6,
            67.1,
            50.2,
            21.8,
            45.1,
            28.6,
            36.7,
            44.2,
            23.2,
            77,
            25.6,
            10.8
           ]
          }
         ],
         "name": "2000"
        },
        {
         "data": [
          {
           "coloraxis": "coloraxis",
           "geo": "geo",
           "hovertemplate": "year=2005<br>state=%{location}<br>abortionrate2024=%{z}<extra></extra>",
           "locationmode": "USA-states",
           "locations": [
            "LA",
            "AZ",
            "ND",
            "NY",
            "NJ",
            "MT",
            "MA",
            "ME",
            "MO",
            "NC",
            "MI",
            "NV",
            "VA",
            "VT",
            "AK",
            "MS",
            "MN",
            "NH",
            "MD",
            "UT",
            "KY",
            "KS",
            "NM",
            "NE",
            "CT",
            "IL",
            "WA",
            "AR",
            "CO",
            "DC",
            "WY",
            "OR",
            "IN",
            "HI",
            "OK",
            "TN",
            "SD",
            "TX",
            "AL",
            "DE",
            "CA",
            "IA",
            "ID",
            "FL",
            "PA",
            "WI",
            "OH",
            "WV",
            "GA",
            "SC",
            "RI"
           ],
           "name": "",
           "type": "choropleth",
           "z": [
            20.3,
            34.5,
            11.2,
            71.2,
            75,
            20.6,
            41.6,
            24.3,
            24.4,
            34.3,
            38.5,
            51.2,
            39.6,
            29.9,
            31.4,
            26.9,
            25.5,
            24.8,
            61.6,
            10,
            14.1,
            18.8,
            34.9,
            15.8,
            56.2,
            34.4,
            36.6,
            18.1,
            30.5,
            69.2,
            21.5,
            31.5,
            20.6,
            40.5,
            19.5,
            26,
            11.9,
            34.1,
            23.2,
            51,
            53.6,
            19.9,
            14.6,
            49.6,
            31.7,
            19.5,
            29.5,
            15.4,
            32.2,
            28,
            40.7
           ]
          }
         ],
         "name": "2005"
        },
        {
         "data": [
          {
           "coloraxis": "coloraxis",
           "geo": "geo",
           "hovertemplate": "year=2006<br>state=%{location}<br>abortionrate2024=%{z}<extra></extra>",
           "locationmode": "USA-states",
           "locations": [
            "AR",
            "UT",
            "ME",
            "NH",
            "MN",
            "ID",
            "RI",
            "DE",
            "DC",
            "OR",
            "VT",
            "NY",
            "HI",
            "MD",
            "MI",
            "TX",
            "PA",
            "GA",
            "WV",
            "AZ",
            "AL",
            "NJ",
            "IA",
            "NM",
            "CT",
            "MA",
            "LA",
            "IL",
            "CO",
            "WY",
            "VA",
            "IN",
            "NC",
            "TN",
            "KS",
            "SD",
            "MT",
            "CA",
            "OH",
            "NE",
            "ND",
            "KY",
            "NV",
            "FL",
            "SC",
            "WA",
            "MS",
            "MO",
            "AK",
            "WI",
            "OK"
           ],
           "name": "",
           "type": "choropleth",
           "z": [
            18,
            10.9,
            27.3,
            24.2,
            25.2,
            16.3,
            40.4,
            57.6,
            58.2,
            32.2,
            30.1,
            68.7,
            42.3,
            54.3,
            36.1,
            33.3,
            33.1,
            32.3,
            16,
            31.7,
            23.6,
            71.2,
            20.8,
            37.1,
            55.7,
            39.1,
            24.2,
            34.8,
            30.7,
            21.3,
            39.9,
            19.9,
            34.4,
            23,
            18.6,
            13,
            22.2,
            55.6,
            29.7,
            13.8,
            11.8,
            13.7,
            50.6,
            49.7,
            29.3,
            37.2,
            27.7,
            25.2,
            29.8,
            17.9,
            20.4
           ]
          }
         ],
         "name": "2006"
        },
        {
         "data": [
          {
           "coloraxis": "coloraxis",
           "geo": "geo",
           "hovertemplate": "year=2007<br>state=%{location}<br>abortionrate2024=%{z}<extra></extra>",
           "locationmode": "USA-states",
           "locations": [
            "WV",
            "CA",
            "WI",
            "MT",
            "RI",
            "SD",
            "MS",
            "CT",
            "AR",
            "NE",
            "PA",
            "MO",
            "WY",
            "DE",
            "MI",
            "DC",
            "MN",
            "SC",
            "NJ",
            "CO",
            "NH",
            "UT",
            "NV",
            "TN",
            "IA",
            "ND",
            "ME",
            "AL",
            "TX",
            "AK",
            "ID",
            "LA",
            "OK",
            "NY",
            "WA",
            "KY",
            "IL",
            "VA",
            "NC",
            "KS",
            "IN",
            "NM",
            "VT",
            "OH",
            "AZ",
            "MD",
            "GA",
            "FL",
            "OR",
            "HI",
            "MA"
           ],
           "name": "",
           "type": "choropleth",
           "z": [
            18.3,
            57,
            17.5,
            23.5,
            37.1,
            11.8,
            28.3,
            55.8,
            19.2,
            13.4,
            34.9,
            26.3,
            20.5,
            68.7,
            35.2,
            51.4,
            25.6,
            28.5,
            69.3,
            31.4,
            23.9,
            11.3,
            48.5,
            25.3,
            21.6,
            12.4,
            27.2,
            24.1,
            32.2,
            26.8,
            17.8,
            28.2,
            20.2,
            66.5,
            38.5,
            13.7,
            34.2,
            40.3,
            33.6,
            19.6,
            18.8,
            38.3,
            29.7,
            29.1,
            29.1,
            51.9,
            32.8,
            49.8,
            31.9,
            43.1,
            37.3
           ]
          }
         ],
         "name": "2007"
        },
        {
         "data": [
          {
           "coloraxis": "coloraxis",
           "geo": "geo",
           "hovertemplate": "year=2008<br>state=%{location}<br>abortionrate2024=%{z}<extra></extra>",
           "locationmode": "USA-states",
           "locations": [
            "PA",
            "VA",
            "WI",
            "NY",
            "NV",
            "NE",
            "WA",
            "SC",
            "TN",
            "CO",
            "KS",
            "GA",
            "MO",
            "OK",
            "CA",
            "IN",
            "IL",
            "AL",
            "FL",
            "MT",
            "NJ",
            "NC",
            "KY",
            "WV",
            "AR",
            "MA",
            "WY",
            "NH",
            "VT",
            "UT",
            "HI",
            "NM",
            "ME",
            "RI",
            "IA",
            "MI",
            "OR",
            "MN",
            "ND",
            "MS",
            "DE",
            "AZ",
            "OH",
            "DC",
            "CT",
            "MD",
            "LA",
            "SD",
            "ID",
            "TX",
            "AK"
           ],
           "name": "",
           "type": "choropleth",
           "z": [
            38.9,
            37.9,
            17.2,
            67.3,
            46.9,
            15.4,
            37.1,
            27.6,
            26.3,
            31.3,
            19.7,
            37.3,
            26,
            19.8,
            54.1,
            19.3,
            37.4,
            23.1,
            48,
            22.1,
            66.7,
            31.6,
            15,
            15.5,
            18.9,
            37.2,
            18.8,
            23.5,
            30.2,
            10.4,
            43.3,
            35.2,
            26.6,
            38.6,
            20.6,
            36.1,
            28.9,
            23.6,
            13.6,
            28.3,
            63.4,
            33.1,
            29.4,
            54.2,
            53.2,
            51.3,
            30.7,
            12.1,
            16.7,
            32.7,
            27.2
           ]
          }
         ],
         "name": "2008"
        },
        {
         "data": [
          {
           "coloraxis": "coloraxis",
           "geo": "geo",
           "hovertemplate": "year=2009<br>state=%{location}<br>abortionrate2024=%{z}<extra></extra>",
           "locationmode": "USA-states",
           "locations": [
            "ND",
            "NE",
            "AL",
            "SD",
            "NJ",
            "WY",
            "OH",
            "SC",
            "NY",
            "NV",
            "TX",
            "AK",
            "NM",
            "TN",
            "RI",
            "NH",
            "PA",
            "OR",
            "NC",
            "OK",
            "UT",
            "CT",
            "AR",
            "MN",
            "IN",
            "WI",
            "VT",
            "ME",
            "MS",
            "VA",
            "FL",
            "WA",
            "MD",
            "LA",
            "GA",
            "CA",
            "MO",
            "AZ",
            "DC",
            "ID",
            "KY",
            "DE",
            "IL",
            "MA",
            "KS",
            "MT",
            "WV",
            "CO",
            "IA",
            "HI",
            "MI"
           ],
           "name": "",
           "type": "choropleth",
           "z": [
            13.3,
            14.4,
            21.9,
            11.2,
            63.4,
            17.8,
            28,
            26.5,
            64.3,
            44.9,
            31.1,
            27.7,
            30.9,
            24.7,
            35.5,
            23.4,
            36.7,
            27.8,
            30.2,
            18.1,
            10.4,
            50.1,
            18.9,
            22.6,
            18.3,
            17,
            29.6,
            25.5,
            26.4,
            36.6,
            46.4,
            34.7,
            52.4,
            27.2,
            34.2,
            50.3,
            23.4,
            28.5,
            46.6,
            15.9,
            13.7,
            58.8,
            33.6,
            35.7,
            16.2,
            20.5,
            18,
            28.9,
            19.2,
            41.1,
            34
           ]
          }
         ],
         "name": "2009"
        },
        {
         "data": [
          {
           "coloraxis": "coloraxis",
           "geo": "geo",
           "hovertemplate": "year=2010<br>state=%{location}<br>abortionrate2024=%{z}<extra></extra>",
           "locationmode": "USA-states",
           "locations": [
            "IA",
            "TN",
            "NM",
            "MD",
            "GA",
            "ME",
            "ID",
            "DE",
            "VA",
            "ND",
            "VT",
            "FL",
            "LA",
            "NY",
            "DC",
            "NC",
            "AZ",
            "WV",
            "KS",
            "KY",
            "RI",
            "NJ",
            "AK",
            "MS",
            "WY",
            "MA",
            "OH",
            "WA",
            "NV",
            "TX",
            "CA",
            "MO",
            "AR",
            "SD",
            "OK",
            "IL",
            "NE",
            "MT",
            "WI",
            "MN",
            "PA",
            "NH",
            "OR",
            "CT",
            "UT",
            "CO",
            "MI",
            "HI",
            "AL",
            "SC",
            "IN"
           ],
           "name": "",
           "type": "choropleth",
           "z": [
            18.8,
            23,
            29.5,
            53.9,
            32.6,
            22.7,
            15.1,
            56.7,
            35.6,
            13.5,
            27.1,
            44.4,
            24.1,
            62.4,
            37.1,
            28.7,
            23.7,
            20.4,
            13.5,
            13.4,
            32.5,
            60.5,
            29.1,
            24,
            17.9,
            34.8,
            26.3,
            32.5,
            43.8,
            29.3,
            46.5,
            20.4,
            17.7,
            11.3,
            16.1,
            30.4,
            13.7,
            21.5,
            16.5,
            21.8,
            34.3,
            23.2,
            26.3,
            46.2,
            9.6,
            27.8,
            31,
            41.7,
            20.8,
            25.6,
            17.4
           ]
          }
         ],
         "name": "2010"
        },
        {
         "data": [
          {
           "coloraxis": "coloraxis",
           "geo": "geo",
           "hovertemplate": "year=2011<br>state=%{location}<br>abortionrate2024=%{z}<extra></extra>",
           "locationmode": "USA-states",
           "locations": [
            "OH",
            "ND",
            "IN",
            "IL",
            "KS",
            "AL",
            "TX",
            "VA",
            "NC",
            "GA",
            "OK",
            "HI",
            "WA",
            "FL",
            "IA",
            "WY",
            "OR",
            "ID",
            "AZ",
            "MA",
            "CO",
            "UT",
            "MI",
            "SC",
            "NH",
            "MN",
            "MS",
            "WI",
            "NV",
            "CA",
            "MO",
            "SD",
            "AR",
            "NE",
            "MT",
            "NJ",
            "TN",
            "CT",
            "VT",
            "MD",
            "LA",
            "WV",
            "AK",
            "NM",
            "DE",
            "ME",
            "NY",
            "DC",
            "PA",
            "KY",
            "RI"
           ],
           "name": "",
           "type": "choropleth",
           "z": [
            25.1,
            12.5,
            15.7,
            30.6,
            13,
            19.4,
            25.9,
            34,
            25.5,
            31,
            15.1,
            40.1,
            30.4,
            41.8,
            17.7,
            18.1,
            24.9,
            14.1,
            23.6,
            34.1,
            25.2,
            8.7,
            30,
            23.1,
            24.5,
            20.4,
            22.1,
            15.7,
            40.3,
            42.4,
            20,
            10.5,
            16.8,
            13.4,
            20.3,
            56.5,
            21.1,
            44.4,
            29.2,
            55.4,
            22.3,
            18.4,
            27.5,
            26.1,
            49,
            21.4,
            60.6,
            34.6,
            31.3,
            12.8,
            31.4
           ]
          }
         ],
         "name": "2011"
        },
        {
         "data": [
          {
           "coloraxis": "coloraxis",
           "geo": "geo",
           "hovertemplate": "year=2012<br>state=%{location}<br>abortionrate2024=%{z}<extra></extra>",
           "locationmode": "USA-states",
           "locations": [
            "SD",
            "PA",
            "OK",
            "WV",
            "CA",
            "CT",
            "DE",
            "FL",
            "SC",
            "WA",
            "HI",
            "CO",
            "DC",
            "RI",
            "OR",
            "GA",
            "TN",
            "WI",
            "MT",
            "ND",
            "NH",
            "IA",
            "NM",
            "MI",
            "WY",
            "NC",
            "AZ",
            "UT",
            "KS",
            "KY",
            "MA",
            "NY",
            "NJ",
            "LA",
            "ID",
            "MD",
            "AK",
            "VT",
            "AR",
            "MN",
            "ME",
            "MS",
            "IN",
            "MO",
            "NV",
            "NE",
            "VA",
            "IL",
            "AL",
            "TX",
            "OH"
           ],
           "name": "",
           "type": "choropleth",
           "z": [
            9.5,
            29.1,
            14.1,
            16.6,
            39.8,
            42,
            42.9,
            39.1,
            20.9,
            28.1,
            34.5,
            23.9,
            34.9,
            29.8,
            23,
            29.8,
            20.1,
            14.3,
            18.3,
            12,
            20.8,
            15.5,
            21.6,
            29,
            15.6,
            26.1,
            21.5,
            8.5,
            12.6,
            11.7,
            32.1,
            55.8,
            51.2,
            19.9,
            12.6,
            51.4,
            25.4,
            26.4,
            16.2,
            19.2,
            20,
            19.8,
            14.5,
            18.4,
            34.5,
            12.9,
            33.6,
            29.9,
            17.1,
            24.1,
            22.7
           ]
          }
         ],
         "name": "2012"
        },
        {
         "data": [
          {
           "coloraxis": "coloraxis",
           "geo": "geo",
           "hovertemplate": "year=2013<br>state=%{location}<br>abortionrate2024=%{z}<extra></extra>",
           "locationmode": "USA-states",
           "locations": [
            "RI",
            "SD",
            "NE",
            "MD",
            "ME",
            "NJ",
            "CT",
            "CO",
            "MA",
            "MN",
            "UT",
            "WI",
            "MS",
            "AK",
            "NH",
            "CA",
            "SC",
            "NV",
            "MI",
            "MO",
            "ID",
            "WV",
            "LA",
            "TX",
            "OK",
            "OH",
            "IL",
            "HI",
            "IN",
            "VA",
            "WA",
            "GA",
            "AL",
            "ND",
            "OR",
            "NM",
            "AZ",
            "IA",
            "MT",
            "AR",
            "WY",
            "NC",
            "DC",
            "KS",
            "KY",
            "DE",
            "PA",
            "NY",
            "FL",
            "TN",
            "VT"
           ],
           "name": "",
           "type": "choropleth",
           "z": [
            25.9,
            9.2,
            12.7,
            46.5,
            20.3,
            49.5,
            38.6,
            21.7,
            29,
            17.6,
            8.4,
            12.9,
            17.9,
            21.7,
            17.7,
            37.9,
            21.4,
            32,
            28.3,
            17.5,
            12.1,
            13.1,
            17.9,
            22.5,
            13.3,
            21.4,
            29.5,
            32.7,
            13.9,
            34,
            26.1,
            28.3,
            16.2,
            10.4,
            20.5,
            18.6,
            19.1,
            12.8,
            15.7,
            14.6,
            13.5,
            26.3,
            41.2,
            12.6,
            11.3,
            33.7,
            27.3,
            51.8,
            37.2,
            18.9,
            22.4
           ]
          }
         ],
         "name": "2013"
        },
        {
         "data": [
          {
           "coloraxis": "coloraxis",
           "geo": "geo",
           "hovertemplate": "year=2014<br>state=%{location}<br>abortionrate2024=%{z}<extra></extra>",
           "locationmode": "USA-states",
           "locations": [
            "WI",
            "WV",
            "TX",
            "WY",
            "TN",
            "VA",
            "WA",
            "UT",
            "VT",
            "MT",
            "MD",
            "ND",
            "CO",
            "NC",
            "CT",
            "NY",
            "NM",
            "NJ",
            "DE",
            "DC",
            "NV",
            "NE",
            "FL",
            "CA",
            "GA",
            "HI",
            "MS",
            "MN",
            "ID",
            "MI",
            "IL",
            "MA",
            "IN",
            "ME",
            "IA",
            "LA",
            "KS",
            "MO",
            "OH",
            "NH",
            "KY",
            "AZ",
            "PA",
            "AK",
            "RI",
            "SC",
            "AR",
            "AL",
            "OR",
            "OK",
            "SD"
           ],
           "name": "",
           "type": "choropleth",
           "z": [
            12.4,
            12,
            18.6,
            13.8,
            17.7,
            27,
            25.5,
            7.6,
            20.5,
            14.6,
            44.8,
            11.3,
            21.5,
            25.9,
            36.6,
            50.9,
            17.5,
            46.9,
            34,
            45,
            35.1,
            11.6,
            36.2,
            35.7,
            27.3,
            27.1,
            17.6,
            16,
            11.3,
            27.4,
            29,
            27.5,
            14,
            20,
            11.6,
            17.8,
            11.8,
            15.2,
            19.9,
            18.3,
            10.7,
            18.2,
            26.7,
            20.5,
            27.2,
            20.2,
            13.3,
            16.4,
            20.3,
            11.9,
            8.4
           ]
          }
         ],
         "name": "2014"
        },
        {
         "data": [
          {
           "coloraxis": "coloraxis",
           "geo": "geo",
           "hovertemplate": "year=2015<br>state=%{location}<br>abortionrate2024=%{z}<extra></extra>",
           "locationmode": "USA-states",
           "locations": [
            "KS",
            "TN",
            "WA",
            "AK",
            "VT",
            "MS",
            "SD",
            "HI",
            "MN",
            "RI",
            "WY",
            "ID",
            "AL",
            "MA",
            "LA",
            "OH",
            "UT",
            "IL",
            "VA",
            "IA",
            "MD",
            "SC",
            "IN",
            "ME",
            "MI",
            "GA",
            "TX",
            "MO",
            "CT",
            "OK",
            "NC",
            "NM",
            "CO",
            "WV",
            "NJ",
            "ND",
            "OR",
            "DE",
            "NY",
            "KY",
            "NH",
            "CA",
            "AZ",
            "NV",
            "DC",
            "WI",
            "NE",
            "PA",
            "FL",
            "MT",
            "AR"
           ],
           "name": "",
           "type": "choropleth",
           "z": [
            11,
            16.7,
            23.2,
            20.3,
            18,
            16.2,
            8.6,
            21.9,
            15.6,
            26.1,
            13.2,
            11.4,
            16.8,
            24.5,
            18.3,
            18.3,
            7.9,
            27.6,
            25,
            11.7,
            42.5,
            21.2,
            14.5,
            18.5,
            25.2,
            27.7,
            17.9,
            15.8,
            32.4,
            11.4,
            23.6,
            18.1,
            20.2,
            12.6,
            47.7,
            10.4,
            20.9,
            31.7,
            48.5,
            10.6,
            16.8,
            33.2,
            18,
            32.2,
            35.6,
            12.2,
            9.6,
            26.5,
            33.9,
            13.9,
            12.4
           ]
          }
         ],
         "name": "2015"
        },
        {
         "data": [
          {
           "coloraxis": "coloraxis",
           "geo": "geo",
           "hovertemplate": "year=2016<br>state=%{location}<br>abortionrate2024=%{z}<extra></extra>",
           "locationmode": "USA-states",
           "locations": [
            "CA",
            "WI",
            "AR",
            "KS",
            "IN",
            "IA",
            "AK",
            "VA",
            "IL",
            "CT",
            "FL",
            "ID",
            "AL",
            "AZ",
            "HI",
            "DE",
            "GA",
            "DC",
            "WA",
            "CO",
            "WV",
            "SD",
            "NV",
            "MN",
            "MS",
            "OH",
            "TX",
            "MO",
            "MI",
            "WY",
            "ND",
            "NE",
            "NC",
            "NH",
            "NJ",
            "NY",
            "MT",
            "OR",
            "OK",
            "NM",
            "MA",
            "LA",
            "MD",
            "PA",
            "TN",
            "ME",
            "RI",
            "KY",
            "VT",
            "UT",
            "SC"
           ],
           "name": "",
           "type": "choropleth",
           "z": [
            30.8,
            11,
            11.9,
            10.4,
            14.5,
            11.4,
            17.3,
            22.7,
            26.7,
            30.5,
            31.7,
            11.3,
            15.8,
            18.4,
            21.1,
            28.1,
            27.2,
            27.8,
            21.7,
            19.3,
            14.1,
            7.2,
            29.5,
            15.2,
            15.4,
            17.5,
            17.2,
            15.9,
            24.1,
            12.6,
            9.6,
            9.3,
            21.5,
            15.6,
            49.3,
            45.1,
            13.8,
            20,
            10.5,
            18.6,
            22.7,
            18.5,
            40.6,
            25.9,
            15.8,
            16.3,
            27.1,
            9.5,
            16.3,
            7.9,
            20.9
           ]
          }
         ],
         "name": "2016"
        },
        {
         "data": [
          {
           "coloraxis": "coloraxis",
           "geo": "geo",
           "hovertemplate": "year=2017<br>state=%{location}<br>abortionrate2024=%{z}<extra></extra>",
           "locationmode": "USA-states",
           "locations": [
            "NY",
            "SC",
            "CO",
            "CA",
            "RI",
            "NC",
            "OR",
            "AR",
            "AL",
            "PA",
            "OH",
            "WI",
            "NM",
            "AK",
            "OK",
            "AZ",
            "TN",
            "ND",
            "TX",
            "VT",
            "WV",
            "IA",
            "KY",
            "LA",
            "IN",
            "ME",
            "SD",
            "MD",
            "VA",
            "IL",
            "UT",
            "ID",
            "MA",
            "MI",
            "HI",
            "MN",
            "GA",
            "MS",
            "WA",
            "MO",
            "FL",
            "MT",
            "DC",
            "NE",
            "KS",
            "DE",
            "NV",
            "NH",
            "NJ",
            "CT",
            "WY"
           ],
           "name": "",
           "type": "choropleth",
           "z": [
            43.2,
            20.6,
            18.5,
            28.8,
            25.8,
            22.2,
            19.3,
            11.9,
            15.1,
            25.1,
            16.5,
            11.5,
            16.6,
            16.8,
            11.2,
            17.5,
            15.6,
            10.5,
            17.4,
            13.9,
            13.2,
            10,
            9.2,
            17.8,
            14.2,
            15.9,
            7.8,
            42.9,
            20.3,
            27.2,
            7.6,
            11,
            20.6,
            23.2,
            21.5,
            16.4,
            26.8,
            16.1,
            21.4,
            14.9,
            30.5,
            13.5,
            39.4,
            10.6,
            10.5,
            29.9,
            30.3,
            14.7,
            47.1,
            27.7,
            12.4
           ]
          }
         ],
         "name": "2017"
        }
       ],
       "layout": {
        "coloraxis": {
         "colorbar": {
          "title": {
           "text": "abortionrate2024"
          }
         },
         "colorscale": [
          [
           0,
           "#fde725"
          ],
          [
           0.1111111111111111,
           "#b5de2b"
          ],
          [
           0.2222222222222222,
           "#6ece58"
          ],
          [
           0.3333333333333333,
           "#35b779"
          ],
          [
           0.4444444444444444,
           "#1f9e89"
          ],
          [
           0.5555555555555556,
           "#26828e"
          ],
          [
           0.6666666666666666,
           "#31688e"
          ],
          [
           0.7777777777777778,
           "#3e4989"
          ],
          [
           0.8888888888888888,
           "#482878"
          ],
          [
           1,
           "#440154"
          ]
         ]
        },
        "geo": {
         "center": {},
         "domain": {
          "x": [
           0,
           1
          ],
          "y": [
           0,
           1
          ]
         },
         "scope": "usa"
        },
        "legend": {
         "tracegroupgap": 0
        },
        "margin": {
         "t": 60
        },
        "sliders": [
         {
          "active": 0,
          "currentvalue": {
           "prefix": "year="
          },
          "len": 0.9,
          "pad": {
           "b": 10,
           "t": 60
          },
          "steps": [
           {
            "args": [
             [
              "1988"
             ],
             {
              "frame": {
               "duration": 0,
               "redraw": true
              },
              "fromcurrent": true,
              "mode": "immediate",
              "transition": {
               "duration": 0,
               "easing": "linear"
              }
             }
            ],
            "label": "1988",
            "method": "animate"
           },
           {
            "args": [
             [
              "1992"
             ],
             {
              "frame": {
               "duration": 0,
               "redraw": true
              },
              "fromcurrent": true,
              "mode": "immediate",
              "transition": {
               "duration": 0,
               "easing": "linear"
              }
             }
            ],
            "label": "1992",
            "method": "animate"
           },
           {
            "args": [
             [
              "1996"
             ],
             {
              "frame": {
               "duration": 0,
               "redraw": true
              },
              "fromcurrent": true,
              "mode": "immediate",
              "transition": {
               "duration": 0,
               "easing": "linear"
              }
             }
            ],
            "label": "1996",
            "method": "animate"
           },
           {
            "args": [
             [
              "2000"
             ],
             {
              "frame": {
               "duration": 0,
               "redraw": true
              },
              "fromcurrent": true,
              "mode": "immediate",
              "transition": {
               "duration": 0,
               "easing": "linear"
              }
             }
            ],
            "label": "2000",
            "method": "animate"
           },
           {
            "args": [
             [
              "2005"
             ],
             {
              "frame": {
               "duration": 0,
               "redraw": true
              },
              "fromcurrent": true,
              "mode": "immediate",
              "transition": {
               "duration": 0,
               "easing": "linear"
              }
             }
            ],
            "label": "2005",
            "method": "animate"
           },
           {
            "args": [
             [
              "2006"
             ],
             {
              "frame": {
               "duration": 0,
               "redraw": true
              },
              "fromcurrent": true,
              "mode": "immediate",
              "transition": {
               "duration": 0,
               "easing": "linear"
              }
             }
            ],
            "label": "2006",
            "method": "animate"
           },
           {
            "args": [
             [
              "2007"
             ],
             {
              "frame": {
               "duration": 0,
               "redraw": true
              },
              "fromcurrent": true,
              "mode": "immediate",
              "transition": {
               "duration": 0,
               "easing": "linear"
              }
             }
            ],
            "label": "2007",
            "method": "animate"
           },
           {
            "args": [
             [
              "2008"
             ],
             {
              "frame": {
               "duration": 0,
               "redraw": true
              },
              "fromcurrent": true,
              "mode": "immediate",
              "transition": {
               "duration": 0,
               "easing": "linear"
              }
             }
            ],
            "label": "2008",
            "method": "animate"
           },
           {
            "args": [
             [
              "2009"
             ],
             {
              "frame": {
               "duration": 0,
               "redraw": true
              },
              "fromcurrent": true,
              "mode": "immediate",
              "transition": {
               "duration": 0,
               "easing": "linear"
              }
             }
            ],
            "label": "2009",
            "method": "animate"
           },
           {
            "args": [
             [
              "2010"
             ],
             {
              "frame": {
               "duration": 0,
               "redraw": true
              },
              "fromcurrent": true,
              "mode": "immediate",
              "transition": {
               "duration": 0,
               "easing": "linear"
              }
             }
            ],
            "label": "2010",
            "method": "animate"
           },
           {
            "args": [
             [
              "2011"
             ],
             {
              "frame": {
               "duration": 0,
               "redraw": true
              },
              "fromcurrent": true,
              "mode": "immediate",
              "transition": {
               "duration": 0,
               "easing": "linear"
              }
             }
            ],
            "label": "2011",
            "method": "animate"
           },
           {
            "args": [
             [
              "2012"
             ],
             {
              "frame": {
               "duration": 0,
               "redraw": true
              },
              "fromcurrent": true,
              "mode": "immediate",
              "transition": {
               "duration": 0,
               "easing": "linear"
              }
             }
            ],
            "label": "2012",
            "method": "animate"
           },
           {
            "args": [
             [
              "2013"
             ],
             {
              "frame": {
               "duration": 0,
               "redraw": true
              },
              "fromcurrent": true,
              "mode": "immediate",
              "transition": {
               "duration": 0,
               "easing": "linear"
              }
             }
            ],
            "label": "2013",
            "method": "animate"
           },
           {
            "args": [
             [
              "2014"
             ],
             {
              "frame": {
               "duration": 0,
               "redraw": true
              },
              "fromcurrent": true,
              "mode": "immediate",
              "transition": {
               "duration": 0,
               "easing": "linear"
              }
             }
            ],
            "label": "2014",
            "method": "animate"
           },
           {
            "args": [
             [
              "2015"
             ],
             {
              "frame": {
               "duration": 0,
               "redraw": true
              },
              "fromcurrent": true,
              "mode": "immediate",
              "transition": {
               "duration": 0,
               "easing": "linear"
              }
             }
            ],
            "label": "2015",
            "method": "animate"
           },
           {
            "args": [
             [
              "2016"
             ],
             {
              "frame": {
               "duration": 0,
               "redraw": true
              },
              "fromcurrent": true,
              "mode": "immediate",
              "transition": {
               "duration": 0,
               "easing": "linear"
              }
             }
            ],
            "label": "2016",
            "method": "animate"
           },
           {
            "args": [
             [
              "2017"
             ],
             {
              "frame": {
               "duration": 0,
               "redraw": true
              },
              "fromcurrent": true,
              "mode": "immediate",
              "transition": {
               "duration": 0,
               "easing": "linear"
              }
             }
            ],
            "label": "2017",
            "method": "animate"
           }
          ],
          "x": 0.1,
          "xanchor": "left",
          "y": 0,
          "yanchor": "top"
         }
        ],
        "template": {
         "data": {
          "bar": [
           {
            "error_x": {
             "color": "#2a3f5f"
            },
            "error_y": {
             "color": "#2a3f5f"
            },
            "marker": {
             "line": {
              "color": "#E5ECF6",
              "width": 0.5
             },
             "pattern": {
              "fillmode": "overlay",
              "size": 10,
              "solidity": 0.2
             }
            },
            "type": "bar"
           }
          ],
          "barpolar": [
           {
            "marker": {
             "line": {
              "color": "#E5ECF6",
              "width": 0.5
             },
             "pattern": {
              "fillmode": "overlay",
              "size": 10,
              "solidity": 0.2
             }
            },
            "type": "barpolar"
           }
          ],
          "carpet": [
           {
            "aaxis": {
             "endlinecolor": "#2a3f5f",
             "gridcolor": "white",
             "linecolor": "white",
             "minorgridcolor": "white",
             "startlinecolor": "#2a3f5f"
            },
            "baxis": {
             "endlinecolor": "#2a3f5f",
             "gridcolor": "white",
             "linecolor": "white",
             "minorgridcolor": "white",
             "startlinecolor": "#2a3f5f"
            },
            "type": "carpet"
           }
          ],
          "choropleth": [
           {
            "colorbar": {
             "outlinewidth": 0,
             "ticks": ""
            },
            "type": "choropleth"
           }
          ],
          "contour": [
           {
            "colorbar": {
             "outlinewidth": 0,
             "ticks": ""
            },
            "colorscale": [
             [
              0,
              "#0d0887"
             ],
             [
              0.1111111111111111,
              "#46039f"
             ],
             [
              0.2222222222222222,
              "#7201a8"
             ],
             [
              0.3333333333333333,
              "#9c179e"
             ],
             [
              0.4444444444444444,
              "#bd3786"
             ],
             [
              0.5555555555555556,
              "#d8576b"
             ],
             [
              0.6666666666666666,
              "#ed7953"
             ],
             [
              0.7777777777777778,
              "#fb9f3a"
             ],
             [
              0.8888888888888888,
              "#fdca26"
             ],
             [
              1,
              "#f0f921"
             ]
            ],
            "type": "contour"
           }
          ],
          "contourcarpet": [
           {
            "colorbar": {
             "outlinewidth": 0,
             "ticks": ""
            },
            "type": "contourcarpet"
           }
          ],
          "heatmap": [
           {
            "colorbar": {
             "outlinewidth": 0,
             "ticks": ""
            },
            "colorscale": [
             [
              0,
              "#0d0887"
             ],
             [
              0.1111111111111111,
              "#46039f"
             ],
             [
              0.2222222222222222,
              "#7201a8"
             ],
             [
              0.3333333333333333,
              "#9c179e"
             ],
             [
              0.4444444444444444,
              "#bd3786"
             ],
             [
              0.5555555555555556,
              "#d8576b"
             ],
             [
              0.6666666666666666,
              "#ed7953"
             ],
             [
              0.7777777777777778,
              "#fb9f3a"
             ],
             [
              0.8888888888888888,
              "#fdca26"
             ],
             [
              1,
              "#f0f921"
             ]
            ],
            "type": "heatmap"
           }
          ],
          "heatmapgl": [
           {
            "colorbar": {
             "outlinewidth": 0,
             "ticks": ""
            },
            "colorscale": [
             [
              0,
              "#0d0887"
             ],
             [
              0.1111111111111111,
              "#46039f"
             ],
             [
              0.2222222222222222,
              "#7201a8"
             ],
             [
              0.3333333333333333,
              "#9c179e"
             ],
             [
              0.4444444444444444,
              "#bd3786"
             ],
             [
              0.5555555555555556,
              "#d8576b"
             ],
             [
              0.6666666666666666,
              "#ed7953"
             ],
             [
              0.7777777777777778,
              "#fb9f3a"
             ],
             [
              0.8888888888888888,
              "#fdca26"
             ],
             [
              1,
              "#f0f921"
             ]
            ],
            "type": "heatmapgl"
           }
          ],
          "histogram": [
           {
            "marker": {
             "pattern": {
              "fillmode": "overlay",
              "size": 10,
              "solidity": 0.2
             }
            },
            "type": "histogram"
           }
          ],
          "histogram2d": [
           {
            "colorbar": {
             "outlinewidth": 0,
             "ticks": ""
            },
            "colorscale": [
             [
              0,
              "#0d0887"
             ],
             [
              0.1111111111111111,
              "#46039f"
             ],
             [
              0.2222222222222222,
              "#7201a8"
             ],
             [
              0.3333333333333333,
              "#9c179e"
             ],
             [
              0.4444444444444444,
              "#bd3786"
             ],
             [
              0.5555555555555556,
              "#d8576b"
             ],
             [
              0.6666666666666666,
              "#ed7953"
             ],
             [
              0.7777777777777778,
              "#fb9f3a"
             ],
             [
              0.8888888888888888,
              "#fdca26"
             ],
             [
              1,
              "#f0f921"
             ]
            ],
            "type": "histogram2d"
           }
          ],
          "histogram2dcontour": [
           {
            "colorbar": {
             "outlinewidth": 0,
             "ticks": ""
            },
            "colorscale": [
             [
              0,
              "#0d0887"
             ],
             [
              0.1111111111111111,
              "#46039f"
             ],
             [
              0.2222222222222222,
              "#7201a8"
             ],
             [
              0.3333333333333333,
              "#9c179e"
             ],
             [
              0.4444444444444444,
              "#bd3786"
             ],
             [
              0.5555555555555556,
              "#d8576b"
             ],
             [
              0.6666666666666666,
              "#ed7953"
             ],
             [
              0.7777777777777778,
              "#fb9f3a"
             ],
             [
              0.8888888888888888,
              "#fdca26"
             ],
             [
              1,
              "#f0f921"
             ]
            ],
            "type": "histogram2dcontour"
           }
          ],
          "mesh3d": [
           {
            "colorbar": {
             "outlinewidth": 0,
             "ticks": ""
            },
            "type": "mesh3d"
           }
          ],
          "parcoords": [
           {
            "line": {
             "colorbar": {
              "outlinewidth": 0,
              "ticks": ""
             }
            },
            "type": "parcoords"
           }
          ],
          "pie": [
           {
            "automargin": true,
            "type": "pie"
           }
          ],
          "scatter": [
           {
            "fillpattern": {
             "fillmode": "overlay",
             "size": 10,
             "solidity": 0.2
            },
            "type": "scatter"
           }
          ],
          "scatter3d": [
           {
            "line": {
             "colorbar": {
              "outlinewidth": 0,
              "ticks": ""
             }
            },
            "marker": {
             "colorbar": {
              "outlinewidth": 0,
              "ticks": ""
             }
            },
            "type": "scatter3d"
           }
          ],
          "scattercarpet": [
           {
            "marker": {
             "colorbar": {
              "outlinewidth": 0,
              "ticks": ""
             }
            },
            "type": "scattercarpet"
           }
          ],
          "scattergeo": [
           {
            "marker": {
             "colorbar": {
              "outlinewidth": 0,
              "ticks": ""
             }
            },
            "type": "scattergeo"
           }
          ],
          "scattergl": [
           {
            "marker": {
             "colorbar": {
              "outlinewidth": 0,
              "ticks": ""
             }
            },
            "type": "scattergl"
           }
          ],
          "scattermapbox": [
           {
            "marker": {
             "colorbar": {
              "outlinewidth": 0,
              "ticks": ""
             }
            },
            "type": "scattermapbox"
           }
          ],
          "scatterpolar": [
           {
            "marker": {
             "colorbar": {
              "outlinewidth": 0,
              "ticks": ""
             }
            },
            "type": "scatterpolar"
           }
          ],
          "scatterpolargl": [
           {
            "marker": {
             "colorbar": {
              "outlinewidth": 0,
              "ticks": ""
             }
            },
            "type": "scatterpolargl"
           }
          ],
          "scatterternary": [
           {
            "marker": {
             "colorbar": {
              "outlinewidth": 0,
              "ticks": ""
             }
            },
            "type": "scatterternary"
           }
          ],
          "surface": [
           {
            "colorbar": {
             "outlinewidth": 0,
             "ticks": ""
            },
            "colorscale": [
             [
              0,
              "#0d0887"
             ],
             [
              0.1111111111111111,
              "#46039f"
             ],
             [
              0.2222222222222222,
              "#7201a8"
             ],
             [
              0.3333333333333333,
              "#9c179e"
             ],
             [
              0.4444444444444444,
              "#bd3786"
             ],
             [
              0.5555555555555556,
              "#d8576b"
             ],
             [
              0.6666666666666666,
              "#ed7953"
             ],
             [
              0.7777777777777778,
              "#fb9f3a"
             ],
             [
              0.8888888888888888,
              "#fdca26"
             ],
             [
              1,
              "#f0f921"
             ]
            ],
            "type": "surface"
           }
          ],
          "table": [
           {
            "cells": {
             "fill": {
              "color": "#EBF0F8"
             },
             "line": {
              "color": "white"
             }
            },
            "header": {
             "fill": {
              "color": "#C8D4E3"
             },
             "line": {
              "color": "white"
             }
            },
            "type": "table"
           }
          ]
         },
         "layout": {
          "annotationdefaults": {
           "arrowcolor": "#2a3f5f",
           "arrowhead": 0,
           "arrowwidth": 1
          },
          "autotypenumbers": "strict",
          "coloraxis": {
           "colorbar": {
            "outlinewidth": 0,
            "ticks": ""
           }
          },
          "colorscale": {
           "diverging": [
            [
             0,
             "#8e0152"
            ],
            [
             0.1,
             "#c51b7d"
            ],
            [
             0.2,
             "#de77ae"
            ],
            [
             0.3,
             "#f1b6da"
            ],
            [
             0.4,
             "#fde0ef"
            ],
            [
             0.5,
             "#f7f7f7"
            ],
            [
             0.6,
             "#e6f5d0"
            ],
            [
             0.7,
             "#b8e186"
            ],
            [
             0.8,
             "#7fbc41"
            ],
            [
             0.9,
             "#4d9221"
            ],
            [
             1,
             "#276419"
            ]
           ],
           "sequential": [
            [
             0,
             "#0d0887"
            ],
            [
             0.1111111111111111,
             "#46039f"
            ],
            [
             0.2222222222222222,
             "#7201a8"
            ],
            [
             0.3333333333333333,
             "#9c179e"
            ],
            [
             0.4444444444444444,
             "#bd3786"
            ],
            [
             0.5555555555555556,
             "#d8576b"
            ],
            [
             0.6666666666666666,
             "#ed7953"
            ],
            [
             0.7777777777777778,
             "#fb9f3a"
            ],
            [
             0.8888888888888888,
             "#fdca26"
            ],
            [
             1,
             "#f0f921"
            ]
           ],
           "sequentialminus": [
            [
             0,
             "#0d0887"
            ],
            [
             0.1111111111111111,
             "#46039f"
            ],
            [
             0.2222222222222222,
             "#7201a8"
            ],
            [
             0.3333333333333333,
             "#9c179e"
            ],
            [
             0.4444444444444444,
             "#bd3786"
            ],
            [
             0.5555555555555556,
             "#d8576b"
            ],
            [
             0.6666666666666666,
             "#ed7953"
            ],
            [
             0.7777777777777778,
             "#fb9f3a"
            ],
            [
             0.8888888888888888,
             "#fdca26"
            ],
            [
             1,
             "#f0f921"
            ]
           ]
          },
          "colorway": [
           "#636efa",
           "#EF553B",
           "#00cc96",
           "#ab63fa",
           "#FFA15A",
           "#19d3f3",
           "#FF6692",
           "#B6E880",
           "#FF97FF",
           "#FECB52"
          ],
          "font": {
           "color": "#2a3f5f"
          },
          "geo": {
           "bgcolor": "white",
           "lakecolor": "white",
           "landcolor": "#E5ECF6",
           "showlakes": true,
           "showland": true,
           "subunitcolor": "white"
          },
          "hoverlabel": {
           "align": "left"
          },
          "hovermode": "closest",
          "mapbox": {
           "style": "light"
          },
          "paper_bgcolor": "white",
          "plot_bgcolor": "#E5ECF6",
          "polar": {
           "angularaxis": {
            "gridcolor": "white",
            "linecolor": "white",
            "ticks": ""
           },
           "bgcolor": "#E5ECF6",
           "radialaxis": {
            "gridcolor": "white",
            "linecolor": "white",
            "ticks": ""
           }
          },
          "scene": {
           "xaxis": {
            "backgroundcolor": "#E5ECF6",
            "gridcolor": "white",
            "gridwidth": 2,
            "linecolor": "white",
            "showbackground": true,
            "ticks": "",
            "zerolinecolor": "white"
           },
           "yaxis": {
            "backgroundcolor": "#E5ECF6",
            "gridcolor": "white",
            "gridwidth": 2,
            "linecolor": "white",
            "showbackground": true,
            "ticks": "",
            "zerolinecolor": "white"
           },
           "zaxis": {
            "backgroundcolor": "#E5ECF6",
            "gridcolor": "white",
            "gridwidth": 2,
            "linecolor": "white",
            "showbackground": true,
            "ticks": "",
            "zerolinecolor": "white"
           }
          },
          "shapedefaults": {
           "line": {
            "color": "#2a3f5f"
           }
          },
          "ternary": {
           "aaxis": {
            "gridcolor": "white",
            "linecolor": "white",
            "ticks": ""
           },
           "baxis": {
            "gridcolor": "white",
            "linecolor": "white",
            "ticks": ""
           },
           "bgcolor": "#E5ECF6",
           "caxis": {
            "gridcolor": "white",
            "linecolor": "white",
            "ticks": ""
           }
          },
          "title": {
           "x": 0.05
          },
          "xaxis": {
           "automargin": true,
           "gridcolor": "white",
           "linecolor": "white",
           "ticks": "",
           "title": {
            "standoff": 15
           },
           "zerolinecolor": "white",
           "zerolinewidth": 2
          },
          "yaxis": {
           "automargin": true,
           "gridcolor": "white",
           "linecolor": "white",
           "ticks": "",
           "title": {
            "standoff": 15
           },
           "zerolinecolor": "white",
           "zerolinewidth": 2
          }
         }
        },
        "title": {
         "font": {
          "color": "black",
          "family": "Times New Roman",
          "size": 30
         },
         "text": "20-24 years old abortion rate",
         "x": 0.45
        },
        "updatemenus": [
         {
          "buttons": [
           {
            "args": [
             null,
             {
              "frame": {
               "duration": 500,
               "redraw": true
              },
              "fromcurrent": true,
              "mode": "immediate",
              "transition": {
               "duration": 500,
               "easing": "linear"
              }
             }
            ],
            "label": "&#9654;",
            "method": "animate"
           },
           {
            "args": [
             [
              null
             ],
             {
              "frame": {
               "duration": 0,
               "redraw": true
              },
              "fromcurrent": true,
              "mode": "immediate",
              "transition": {
               "duration": 0,
               "easing": "linear"
              }
             }
            ],
            "label": "&#9724;",
            "method": "animate"
           }
          ],
          "direction": "left",
          "pad": {
           "r": 10,
           "t": 70
          },
          "showactive": false,
          "type": "buttons",
          "x": 0.1,
          "xanchor": "right",
          "y": 0,
          "yanchor": "top"
         }
        ]
       }
      }
     },
     "metadata": {},
     "output_type": "display_data"
    }
   ],
   "source": [
    "fig.update_layout(\n",
    "      title_text = '20-24 years old abortion rate',\n",
    "      title_font_family=\"Times New Roman\",\n",
    "      title_font_size = 30,\n",
    "      title_font_color=\"black\", \n",
    "      title_x=0.45, \n",
    "         )"
   ]
  },
  {
   "cell_type": "code",
   "execution_count": 160,
   "metadata": {},
   "outputs": [
    {
     "data": {
      "application/vnd.plotly.v1+json": {
       "config": {
        "plotlyServerURL": "https://plot.ly"
       },
       "data": [
        {
         "geo": "geo",
         "hovertemplate": "<b>%{hovertext}</b><br><br>continent=Asia<br>year=1952<br>pop=%{marker.size}<br>iso_alpha=%{location}<extra></extra>",
         "hovertext": [
          "Afghanistan",
          "Bahrain",
          "Bangladesh",
          "Cambodia",
          "China",
          "Hong Kong, China",
          "India",
          "Indonesia",
          "Iran",
          "Iraq",
          "Israel",
          "Japan",
          "Jordan",
          "Korea, Dem. Rep.",
          "Korea, Rep.",
          "Kuwait",
          "Lebanon",
          "Malaysia",
          "Mongolia",
          "Myanmar",
          "Nepal",
          "Oman",
          "Pakistan",
          "Philippines",
          "Saudi Arabia",
          "Singapore",
          "Sri Lanka",
          "Syria",
          "Taiwan",
          "Thailand",
          "Vietnam",
          "West Bank and Gaza",
          "Yemen, Rep."
         ],
         "legendgroup": "Asia",
         "locations": [
          "AFG",
          "BHR",
          "BGD",
          "KHM",
          "CHN",
          "HKG",
          "IND",
          "IDN",
          "IRN",
          "IRQ",
          "ISR",
          "JPN",
          "JOR",
          "KOR",
          "KOR",
          "KWT",
          "LBN",
          "MYS",
          "MNG",
          "MMR",
          "NPL",
          "OMN",
          "PAK",
          "PHL",
          "SAU",
          "SGP",
          "LKA",
          "SYR",
          "TWN",
          "THA",
          "VNM",
          "PSE",
          "YEM"
         ],
         "marker": {
          "color": "#636efa",
          "size": [
           8425333,
           120447,
           46886859,
           4693836,
           556263527,
           2125900,
           372000000,
           82052000,
           17272000,
           5441766,
           1620914,
           86459025,
           607914,
           8865488,
           20947571,
           160000,
           1439529,
           6748378,
           800663,
           20092996,
           9182536,
           507833,
           41346560,
           22438691,
           4005677,
           1127000,
           7982342,
           3661549,
           8550362,
           21289402,
           26246839,
           1030585,
           4963829
          ],
          "sizemode": "area",
          "sizeref": 3296707.74,
          "symbol": "circle"
         },
         "mode": "markers",
         "name": "Asia",
         "showlegend": true,
         "type": "scattergeo"
        },
        {
         "geo": "geo",
         "hovertemplate": "<b>%{hovertext}</b><br><br>continent=Europe<br>year=1952<br>pop=%{marker.size}<br>iso_alpha=%{location}<extra></extra>",
         "hovertext": [
          "Albania",
          "Austria",
          "Belgium",
          "Bosnia and Herzegovina",
          "Bulgaria",
          "Croatia",
          "Czech Republic",
          "Denmark",
          "Finland",
          "France",
          "Germany",
          "Greece",
          "Hungary",
          "Iceland",
          "Ireland",
          "Italy",
          "Montenegro",
          "Netherlands",
          "Norway",
          "Poland",
          "Portugal",
          "Romania",
          "Serbia",
          "Slovak Republic",
          "Slovenia",
          "Spain",
          "Sweden",
          "Switzerland",
          "Turkey",
          "United Kingdom"
         ],
         "legendgroup": "Europe",
         "locations": [
          "ALB",
          "AUT",
          "BEL",
          "BIH",
          "BGR",
          "HRV",
          "CZE",
          "DNK",
          "FIN",
          "FRA",
          "DEU",
          "GRC",
          "HUN",
          "ISL",
          "IRL",
          "ITA",
          "MNE",
          "NLD",
          "NOR",
          "POL",
          "PRT",
          "ROU",
          "SRB",
          "SVK",
          "SVN",
          "ESP",
          "SWE",
          "CHE",
          "TUR",
          "GBR"
         ],
         "marker": {
          "color": "#EF553B",
          "size": [
           1282697,
           6927772,
           8730405,
           2791000,
           7274900,
           3882229,
           9125183,
           4334000,
           4090500,
           42459667,
           69145952,
           7733250,
           9504000,
           147962,
           2952156,
           47666000,
           413834,
           10381988,
           3327728,
           25730551,
           8526050,
           16630000,
           6860147,
           3558137,
           1489518,
           28549870,
           7124673,
           4815000,
           22235677,
           50430000
          ],
          "sizemode": "area",
          "sizeref": 3296707.74,
          "symbol": "circle"
         },
         "mode": "markers",
         "name": "Europe",
         "showlegend": true,
         "type": "scattergeo"
        },
        {
         "geo": "geo",
         "hovertemplate": "<b>%{hovertext}</b><br><br>continent=Africa<br>year=1952<br>pop=%{marker.size}<br>iso_alpha=%{location}<extra></extra>",
         "hovertext": [
          "Algeria",
          "Angola",
          "Benin",
          "Botswana",
          "Burkina Faso",
          "Burundi",
          "Cameroon",
          "Central African Republic",
          "Chad",
          "Comoros",
          "Congo, Dem. Rep.",
          "Congo, Rep.",
          "Cote d'Ivoire",
          "Djibouti",
          "Egypt",
          "Equatorial Guinea",
          "Eritrea",
          "Ethiopia",
          "Gabon",
          "Gambia",
          "Ghana",
          "Guinea",
          "Guinea-Bissau",
          "Kenya",
          "Lesotho",
          "Liberia",
          "Libya",
          "Madagascar",
          "Malawi",
          "Mali",
          "Mauritania",
          "Mauritius",
          "Morocco",
          "Mozambique",
          "Namibia",
          "Niger",
          "Nigeria",
          "Reunion",
          "Rwanda",
          "Sao Tome and Principe",
          "Senegal",
          "Sierra Leone",
          "Somalia",
          "South Africa",
          "Sudan",
          "Swaziland",
          "Tanzania",
          "Togo",
          "Tunisia",
          "Uganda",
          "Zambia",
          "Zimbabwe"
         ],
         "legendgroup": "Africa",
         "locations": [
          "DZA",
          "AGO",
          "BEN",
          "BWA",
          "BFA",
          "BDI",
          "CMR",
          "CAF",
          "TCD",
          "COM",
          "COD",
          "COG",
          "CIV",
          "DJI",
          "EGY",
          "GNQ",
          "ERI",
          "ETH",
          "GAB",
          "GMB",
          "GHA",
          "GIN",
          "GNB",
          "KEN",
          "LSO",
          "LBR",
          "LBY",
          "MDG",
          "MWI",
          "MLI",
          "MRT",
          "MUS",
          "MAR",
          "MOZ",
          "NAM",
          "NER",
          "NGA",
          "REU",
          "RWA",
          "STP",
          "SEN",
          "SLE",
          "SOM",
          "ZAF",
          "SDN",
          "SWZ",
          "TZA",
          "TGO",
          "TUN",
          "UGA",
          "ZMB",
          "ZWE"
         ],
         "marker": {
          "color": "#00cc96",
          "size": [
           9279525,
           4232095,
           1738315,
           442308,
           4469979,
           2445618,
           5009067,
           1291695,
           2682462,
           153936,
           14100005,
           854885,
           2977019,
           63149,
           22223309,
           216964,
           1438760,
           20860941,
           420702,
           284320,
           5581001,
           2664249,
           580653,
           6464046,
           748747,
           863308,
           1019729,
           4762912,
           2917802,
           3838168,
           1022556,
           516556,
           9939217,
           6446316,
           485831,
           3379468,
           33119096,
           257700,
           2534927,
           60011,
           2755589,
           2143249,
           2526994,
           14264935,
           8504667,
           290243,
           8322925,
           1219113,
           3647735,
           5824797,
           2672000,
           3080907
          ],
          "sizemode": "area",
          "sizeref": 3296707.74,
          "symbol": "circle"
         },
         "mode": "markers",
         "name": "Africa",
         "showlegend": true,
         "type": "scattergeo"
        },
        {
         "geo": "geo",
         "hovertemplate": "<b>%{hovertext}</b><br><br>continent=Americas<br>year=1952<br>pop=%{marker.size}<br>iso_alpha=%{location}<extra></extra>",
         "hovertext": [
          "Argentina",
          "Bolivia",
          "Brazil",
          "Canada",
          "Chile",
          "Colombia",
          "Costa Rica",
          "Cuba",
          "Dominican Republic",
          "Ecuador",
          "El Salvador",
          "Guatemala",
          "Haiti",
          "Honduras",
          "Jamaica",
          "Mexico",
          "Nicaragua",
          "Panama",
          "Paraguay",
          "Peru",
          "Puerto Rico",
          "Trinidad and Tobago",
          "United States",
          "Uruguay",
          "Venezuela"
         ],
         "legendgroup": "Americas",
         "locations": [
          "ARG",
          "BOL",
          "BRA",
          "CAN",
          "CHL",
          "COL",
          "CRI",
          "CUB",
          "DOM",
          "ECU",
          "SLV",
          "GTM",
          "HTI",
          "HND",
          "JAM",
          "MEX",
          "NIC",
          "PAN",
          "PRY",
          "PER",
          "PRI",
          "TTO",
          "USA",
          "URY",
          "VEN"
         ],
         "marker": {
          "color": "#ab63fa",
          "size": [
           17876956,
           2883315,
           56602560,
           14785584,
           6377619,
           12350771,
           926317,
           6007797,
           2491346,
           3548753,
           2042865,
           3146381,
           3201488,
           1517453,
           1426095,
           30144317,
           1165790,
           940080,
           1555876,
           8025700,
           2227000,
           662850,
           157553000,
           2252965,
           5439568
          ],
          "sizemode": "area",
          "sizeref": 3296707.74,
          "symbol": "circle"
         },
         "mode": "markers",
         "name": "Americas",
         "showlegend": true,
         "type": "scattergeo"
        },
        {
         "geo": "geo",
         "hovertemplate": "<b>%{hovertext}</b><br><br>continent=Oceania<br>year=1952<br>pop=%{marker.size}<br>iso_alpha=%{location}<extra></extra>",
         "hovertext": [
          "Australia",
          "New Zealand"
         ],
         "legendgroup": "Oceania",
         "locations": [
          "AUS",
          "NZL"
         ],
         "marker": {
          "color": "#FFA15A",
          "size": [
           8691212,
           1994794
          ],
          "sizemode": "area",
          "sizeref": 3296707.74,
          "symbol": "circle"
         },
         "mode": "markers",
         "name": "Oceania",
         "showlegend": true,
         "type": "scattergeo"
        }
       ],
       "frames": [
        {
         "data": [
          {
           "geo": "geo",
           "hovertemplate": "<b>%{hovertext}</b><br><br>continent=Asia<br>year=1952<br>pop=%{marker.size}<br>iso_alpha=%{location}<extra></extra>",
           "hovertext": [
            "Afghanistan",
            "Bahrain",
            "Bangladesh",
            "Cambodia",
            "China",
            "Hong Kong, China",
            "India",
            "Indonesia",
            "Iran",
            "Iraq",
            "Israel",
            "Japan",
            "Jordan",
            "Korea, Dem. Rep.",
            "Korea, Rep.",
            "Kuwait",
            "Lebanon",
            "Malaysia",
            "Mongolia",
            "Myanmar",
            "Nepal",
            "Oman",
            "Pakistan",
            "Philippines",
            "Saudi Arabia",
            "Singapore",
            "Sri Lanka",
            "Syria",
            "Taiwan",
            "Thailand",
            "Vietnam",
            "West Bank and Gaza",
            "Yemen, Rep."
           ],
           "legendgroup": "Asia",
           "locations": [
            "AFG",
            "BHR",
            "BGD",
            "KHM",
            "CHN",
            "HKG",
            "IND",
            "IDN",
            "IRN",
            "IRQ",
            "ISR",
            "JPN",
            "JOR",
            "KOR",
            "KOR",
            "KWT",
            "LBN",
            "MYS",
            "MNG",
            "MMR",
            "NPL",
            "OMN",
            "PAK",
            "PHL",
            "SAU",
            "SGP",
            "LKA",
            "SYR",
            "TWN",
            "THA",
            "VNM",
            "PSE",
            "YEM"
           ],
           "marker": {
            "color": "#636efa",
            "size": [
             8425333,
             120447,
             46886859,
             4693836,
             556263527,
             2125900,
             372000000,
             82052000,
             17272000,
             5441766,
             1620914,
             86459025,
             607914,
             8865488,
             20947571,
             160000,
             1439529,
             6748378,
             800663,
             20092996,
             9182536,
             507833,
             41346560,
             22438691,
             4005677,
             1127000,
             7982342,
             3661549,
             8550362,
             21289402,
             26246839,
             1030585,
             4963829
            ],
            "sizemode": "area",
            "sizeref": 3296707.74,
            "symbol": "circle"
           },
           "mode": "markers",
           "name": "Asia",
           "showlegend": true,
           "type": "scattergeo"
          },
          {
           "geo": "geo",
           "hovertemplate": "<b>%{hovertext}</b><br><br>continent=Europe<br>year=1952<br>pop=%{marker.size}<br>iso_alpha=%{location}<extra></extra>",
           "hovertext": [
            "Albania",
            "Austria",
            "Belgium",
            "Bosnia and Herzegovina",
            "Bulgaria",
            "Croatia",
            "Czech Republic",
            "Denmark",
            "Finland",
            "France",
            "Germany",
            "Greece",
            "Hungary",
            "Iceland",
            "Ireland",
            "Italy",
            "Montenegro",
            "Netherlands",
            "Norway",
            "Poland",
            "Portugal",
            "Romania",
            "Serbia",
            "Slovak Republic",
            "Slovenia",
            "Spain",
            "Sweden",
            "Switzerland",
            "Turkey",
            "United Kingdom"
           ],
           "legendgroup": "Europe",
           "locations": [
            "ALB",
            "AUT",
            "BEL",
            "BIH",
            "BGR",
            "HRV",
            "CZE",
            "DNK",
            "FIN",
            "FRA",
            "DEU",
            "GRC",
            "HUN",
            "ISL",
            "IRL",
            "ITA",
            "MNE",
            "NLD",
            "NOR",
            "POL",
            "PRT",
            "ROU",
            "SRB",
            "SVK",
            "SVN",
            "ESP",
            "SWE",
            "CHE",
            "TUR",
            "GBR"
           ],
           "marker": {
            "color": "#EF553B",
            "size": [
             1282697,
             6927772,
             8730405,
             2791000,
             7274900,
             3882229,
             9125183,
             4334000,
             4090500,
             42459667,
             69145952,
             7733250,
             9504000,
             147962,
             2952156,
             47666000,
             413834,
             10381988,
             3327728,
             25730551,
             8526050,
             16630000,
             6860147,
             3558137,
             1489518,
             28549870,
             7124673,
             4815000,
             22235677,
             50430000
            ],
            "sizemode": "area",
            "sizeref": 3296707.74,
            "symbol": "circle"
           },
           "mode": "markers",
           "name": "Europe",
           "showlegend": true,
           "type": "scattergeo"
          },
          {
           "geo": "geo",
           "hovertemplate": "<b>%{hovertext}</b><br><br>continent=Africa<br>year=1952<br>pop=%{marker.size}<br>iso_alpha=%{location}<extra></extra>",
           "hovertext": [
            "Algeria",
            "Angola",
            "Benin",
            "Botswana",
            "Burkina Faso",
            "Burundi",
            "Cameroon",
            "Central African Republic",
            "Chad",
            "Comoros",
            "Congo, Dem. Rep.",
            "Congo, Rep.",
            "Cote d'Ivoire",
            "Djibouti",
            "Egypt",
            "Equatorial Guinea",
            "Eritrea",
            "Ethiopia",
            "Gabon",
            "Gambia",
            "Ghana",
            "Guinea",
            "Guinea-Bissau",
            "Kenya",
            "Lesotho",
            "Liberia",
            "Libya",
            "Madagascar",
            "Malawi",
            "Mali",
            "Mauritania",
            "Mauritius",
            "Morocco",
            "Mozambique",
            "Namibia",
            "Niger",
            "Nigeria",
            "Reunion",
            "Rwanda",
            "Sao Tome and Principe",
            "Senegal",
            "Sierra Leone",
            "Somalia",
            "South Africa",
            "Sudan",
            "Swaziland",
            "Tanzania",
            "Togo",
            "Tunisia",
            "Uganda",
            "Zambia",
            "Zimbabwe"
           ],
           "legendgroup": "Africa",
           "locations": [
            "DZA",
            "AGO",
            "BEN",
            "BWA",
            "BFA",
            "BDI",
            "CMR",
            "CAF",
            "TCD",
            "COM",
            "COD",
            "COG",
            "CIV",
            "DJI",
            "EGY",
            "GNQ",
            "ERI",
            "ETH",
            "GAB",
            "GMB",
            "GHA",
            "GIN",
            "GNB",
            "KEN",
            "LSO",
            "LBR",
            "LBY",
            "MDG",
            "MWI",
            "MLI",
            "MRT",
            "MUS",
            "MAR",
            "MOZ",
            "NAM",
            "NER",
            "NGA",
            "REU",
            "RWA",
            "STP",
            "SEN",
            "SLE",
            "SOM",
            "ZAF",
            "SDN",
            "SWZ",
            "TZA",
            "TGO",
            "TUN",
            "UGA",
            "ZMB",
            "ZWE"
           ],
           "marker": {
            "color": "#00cc96",
            "size": [
             9279525,
             4232095,
             1738315,
             442308,
             4469979,
             2445618,
             5009067,
             1291695,
             2682462,
             153936,
             14100005,
             854885,
             2977019,
             63149,
             22223309,
             216964,
             1438760,
             20860941,
             420702,
             284320,
             5581001,
             2664249,
             580653,
             6464046,
             748747,
             863308,
             1019729,
             4762912,
             2917802,
             3838168,
             1022556,
             516556,
             9939217,
             6446316,
             485831,
             3379468,
             33119096,
             257700,
             2534927,
             60011,
             2755589,
             2143249,
             2526994,
             14264935,
             8504667,
             290243,
             8322925,
             1219113,
             3647735,
             5824797,
             2672000,
             3080907
            ],
            "sizemode": "area",
            "sizeref": 3296707.74,
            "symbol": "circle"
           },
           "mode": "markers",
           "name": "Africa",
           "showlegend": true,
           "type": "scattergeo"
          },
          {
           "geo": "geo",
           "hovertemplate": "<b>%{hovertext}</b><br><br>continent=Americas<br>year=1952<br>pop=%{marker.size}<br>iso_alpha=%{location}<extra></extra>",
           "hovertext": [
            "Argentina",
            "Bolivia",
            "Brazil",
            "Canada",
            "Chile",
            "Colombia",
            "Costa Rica",
            "Cuba",
            "Dominican Republic",
            "Ecuador",
            "El Salvador",
            "Guatemala",
            "Haiti",
            "Honduras",
            "Jamaica",
            "Mexico",
            "Nicaragua",
            "Panama",
            "Paraguay",
            "Peru",
            "Puerto Rico",
            "Trinidad and Tobago",
            "United States",
            "Uruguay",
            "Venezuela"
           ],
           "legendgroup": "Americas",
           "locations": [
            "ARG",
            "BOL",
            "BRA",
            "CAN",
            "CHL",
            "COL",
            "CRI",
            "CUB",
            "DOM",
            "ECU",
            "SLV",
            "GTM",
            "HTI",
            "HND",
            "JAM",
            "MEX",
            "NIC",
            "PAN",
            "PRY",
            "PER",
            "PRI",
            "TTO",
            "USA",
            "URY",
            "VEN"
           ],
           "marker": {
            "color": "#ab63fa",
            "size": [
             17876956,
             2883315,
             56602560,
             14785584,
             6377619,
             12350771,
             926317,
             6007797,
             2491346,
             3548753,
             2042865,
             3146381,
             3201488,
             1517453,
             1426095,
             30144317,
             1165790,
             940080,
             1555876,
             8025700,
             2227000,
             662850,
             157553000,
             2252965,
             5439568
            ],
            "sizemode": "area",
            "sizeref": 3296707.74,
            "symbol": "circle"
           },
           "mode": "markers",
           "name": "Americas",
           "showlegend": true,
           "type": "scattergeo"
          },
          {
           "geo": "geo",
           "hovertemplate": "<b>%{hovertext}</b><br><br>continent=Oceania<br>year=1952<br>pop=%{marker.size}<br>iso_alpha=%{location}<extra></extra>",
           "hovertext": [
            "Australia",
            "New Zealand"
           ],
           "legendgroup": "Oceania",
           "locations": [
            "AUS",
            "NZL"
           ],
           "marker": {
            "color": "#FFA15A",
            "size": [
             8691212,
             1994794
            ],
            "sizemode": "area",
            "sizeref": 3296707.74,
            "symbol": "circle"
           },
           "mode": "markers",
           "name": "Oceania",
           "showlegend": true,
           "type": "scattergeo"
          }
         ],
         "name": "1952"
        },
        {
         "data": [
          {
           "geo": "geo",
           "hovertemplate": "<b>%{hovertext}</b><br><br>continent=Asia<br>year=1957<br>pop=%{marker.size}<br>iso_alpha=%{location}<extra></extra>",
           "hovertext": [
            "Afghanistan",
            "Bahrain",
            "Bangladesh",
            "Cambodia",
            "China",
            "Hong Kong, China",
            "India",
            "Indonesia",
            "Iran",
            "Iraq",
            "Israel",
            "Japan",
            "Jordan",
            "Korea, Dem. Rep.",
            "Korea, Rep.",
            "Kuwait",
            "Lebanon",
            "Malaysia",
            "Mongolia",
            "Myanmar",
            "Nepal",
            "Oman",
            "Pakistan",
            "Philippines",
            "Saudi Arabia",
            "Singapore",
            "Sri Lanka",
            "Syria",
            "Taiwan",
            "Thailand",
            "Vietnam",
            "West Bank and Gaza",
            "Yemen, Rep."
           ],
           "legendgroup": "Asia",
           "locations": [
            "AFG",
            "BHR",
            "BGD",
            "KHM",
            "CHN",
            "HKG",
            "IND",
            "IDN",
            "IRN",
            "IRQ",
            "ISR",
            "JPN",
            "JOR",
            "KOR",
            "KOR",
            "KWT",
            "LBN",
            "MYS",
            "MNG",
            "MMR",
            "NPL",
            "OMN",
            "PAK",
            "PHL",
            "SAU",
            "SGP",
            "LKA",
            "SYR",
            "TWN",
            "THA",
            "VNM",
            "PSE",
            "YEM"
           ],
           "marker": {
            "color": "#636efa",
            "size": [
             9240934,
             138655,
             51365468,
             5322536,
             637408000,
             2736300,
             409000000,
             90124000,
             19792000,
             6248643,
             1944401,
             91563009,
             746559,
             9411381,
             22611552,
             212846,
             1647412,
             7739235,
             882134,
             21731844,
             9682338,
             561977,
             46679944,
             26072194,
             4419650,
             1445929,
             9128546,
             4149908,
             10164215,
             25041917,
             28998543,
             1070439,
             5498090
            ],
            "sizemode": "area",
            "sizeref": 3296707.74,
            "symbol": "circle"
           },
           "mode": "markers",
           "name": "Asia",
           "showlegend": true,
           "type": "scattergeo"
          },
          {
           "geo": "geo",
           "hovertemplate": "<b>%{hovertext}</b><br><br>continent=Europe<br>year=1957<br>pop=%{marker.size}<br>iso_alpha=%{location}<extra></extra>",
           "hovertext": [
            "Albania",
            "Austria",
            "Belgium",
            "Bosnia and Herzegovina",
            "Bulgaria",
            "Croatia",
            "Czech Republic",
            "Denmark",
            "Finland",
            "France",
            "Germany",
            "Greece",
            "Hungary",
            "Iceland",
            "Ireland",
            "Italy",
            "Montenegro",
            "Netherlands",
            "Norway",
            "Poland",
            "Portugal",
            "Romania",
            "Serbia",
            "Slovak Republic",
            "Slovenia",
            "Spain",
            "Sweden",
            "Switzerland",
            "Turkey",
            "United Kingdom"
           ],
           "legendgroup": "Europe",
           "locations": [
            "ALB",
            "AUT",
            "BEL",
            "BIH",
            "BGR",
            "HRV",
            "CZE",
            "DNK",
            "FIN",
            "FRA",
            "DEU",
            "GRC",
            "HUN",
            "ISL",
            "IRL",
            "ITA",
            "MNE",
            "NLD",
            "NOR",
            "POL",
            "PRT",
            "ROU",
            "SRB",
            "SVK",
            "SVN",
            "ESP",
            "SWE",
            "CHE",
            "TUR",
            "GBR"
           ],
           "marker": {
            "color": "#EF553B",
            "size": [
             1476505,
             6965860,
             8989111,
             3076000,
             7651254,
             3991242,
             9513758,
             4487831,
             4324000,
             44310863,
             71019069,
             8096218,
             9839000,
             165110,
             2878220,
             49182000,
             442829,
             11026383,
             3491938,
             28235346,
             8817650,
             17829327,
             7271135,
             3844277,
             1533070,
             29841614,
             7363802,
             5126000,
             25670939,
             51430000
            ],
            "sizemode": "area",
            "sizeref": 3296707.74,
            "symbol": "circle"
           },
           "mode": "markers",
           "name": "Europe",
           "showlegend": true,
           "type": "scattergeo"
          },
          {
           "geo": "geo",
           "hovertemplate": "<b>%{hovertext}</b><br><br>continent=Africa<br>year=1957<br>pop=%{marker.size}<br>iso_alpha=%{location}<extra></extra>",
           "hovertext": [
            "Algeria",
            "Angola",
            "Benin",
            "Botswana",
            "Burkina Faso",
            "Burundi",
            "Cameroon",
            "Central African Republic",
            "Chad",
            "Comoros",
            "Congo, Dem. Rep.",
            "Congo, Rep.",
            "Cote d'Ivoire",
            "Djibouti",
            "Egypt",
            "Equatorial Guinea",
            "Eritrea",
            "Ethiopia",
            "Gabon",
            "Gambia",
            "Ghana",
            "Guinea",
            "Guinea-Bissau",
            "Kenya",
            "Lesotho",
            "Liberia",
            "Libya",
            "Madagascar",
            "Malawi",
            "Mali",
            "Mauritania",
            "Mauritius",
            "Morocco",
            "Mozambique",
            "Namibia",
            "Niger",
            "Nigeria",
            "Reunion",
            "Rwanda",
            "Sao Tome and Principe",
            "Senegal",
            "Sierra Leone",
            "Somalia",
            "South Africa",
            "Sudan",
            "Swaziland",
            "Tanzania",
            "Togo",
            "Tunisia",
            "Uganda",
            "Zambia",
            "Zimbabwe"
           ],
           "legendgroup": "Africa",
           "locations": [
            "DZA",
            "AGO",
            "BEN",
            "BWA",
            "BFA",
            "BDI",
            "CMR",
            "CAF",
            "TCD",
            "COM",
            "COD",
            "COG",
            "CIV",
            "DJI",
            "EGY",
            "GNQ",
            "ERI",
            "ETH",
            "GAB",
            "GMB",
            "GHA",
            "GIN",
            "GNB",
            "KEN",
            "LSO",
            "LBR",
            "LBY",
            "MDG",
            "MWI",
            "MLI",
            "MRT",
            "MUS",
            "MAR",
            "MOZ",
            "NAM",
            "NER",
            "NGA",
            "REU",
            "RWA",
            "STP",
            "SEN",
            "SLE",
            "SOM",
            "ZAF",
            "SDN",
            "SWZ",
            "TZA",
            "TGO",
            "TUN",
            "UGA",
            "ZMB",
            "ZWE"
           ],
           "marker": {
            "color": "#00cc96",
            "size": [
             10270856,
             4561361,
             1925173,
             474639,
             4713416,
             2667518,
             5359923,
             1392284,
             2894855,
             170928,
             15577932,
             940458,
             3300000,
             71851,
             25009741,
             232922,
             1542611,
             22815614,
             434904,
             323150,
             6391288,
             2876726,
             601095,
             7454779,
             813338,
             975950,
             1201578,
             5181679,
             3221238,
             4241884,
             1076852,
             609816,
             11406350,
             7038035,
             548080,
             3692184,
             37173340,
             308700,
             2822082,
             61325,
             3054547,
             2295678,
             2780415,
             16151549,
             9753392,
             326741,
             9452826,
             1357445,
             3950849,
             6675501,
             3016000,
             3646340
            ],
            "sizemode": "area",
            "sizeref": 3296707.74,
            "symbol": "circle"
           },
           "mode": "markers",
           "name": "Africa",
           "showlegend": true,
           "type": "scattergeo"
          },
          {
           "geo": "geo",
           "hovertemplate": "<b>%{hovertext}</b><br><br>continent=Americas<br>year=1957<br>pop=%{marker.size}<br>iso_alpha=%{location}<extra></extra>",
           "hovertext": [
            "Argentina",
            "Bolivia",
            "Brazil",
            "Canada",
            "Chile",
            "Colombia",
            "Costa Rica",
            "Cuba",
            "Dominican Republic",
            "Ecuador",
            "El Salvador",
            "Guatemala",
            "Haiti",
            "Honduras",
            "Jamaica",
            "Mexico",
            "Nicaragua",
            "Panama",
            "Paraguay",
            "Peru",
            "Puerto Rico",
            "Trinidad and Tobago",
            "United States",
            "Uruguay",
            "Venezuela"
           ],
           "legendgroup": "Americas",
           "locations": [
            "ARG",
            "BOL",
            "BRA",
            "CAN",
            "CHL",
            "COL",
            "CRI",
            "CUB",
            "DOM",
            "ECU",
            "SLV",
            "GTM",
            "HTI",
            "HND",
            "JAM",
            "MEX",
            "NIC",
            "PAN",
            "PRY",
            "PER",
            "PRI",
            "TTO",
            "USA",
            "URY",
            "VEN"
           ],
           "marker": {
            "color": "#ab63fa",
            "size": [
             19610538,
             3211738,
             65551171,
             17010154,
             7048426,
             14485993,
             1112300,
             6640752,
             2923186,
             4058385,
             2355805,
             3640876,
             3507701,
             1770390,
             1535090,
             35015548,
             1358828,
             1063506,
             1770902,
             9146100,
             2260000,
             764900,
             171984000,
             2424959,
             6702668
            ],
            "sizemode": "area",
            "sizeref": 3296707.74,
            "symbol": "circle"
           },
           "mode": "markers",
           "name": "Americas",
           "showlegend": true,
           "type": "scattergeo"
          },
          {
           "geo": "geo",
           "hovertemplate": "<b>%{hovertext}</b><br><br>continent=Oceania<br>year=1957<br>pop=%{marker.size}<br>iso_alpha=%{location}<extra></extra>",
           "hovertext": [
            "Australia",
            "New Zealand"
           ],
           "legendgroup": "Oceania",
           "locations": [
            "AUS",
            "NZL"
           ],
           "marker": {
            "color": "#FFA15A",
            "size": [
             9712569,
             2229407
            ],
            "sizemode": "area",
            "sizeref": 3296707.74,
            "symbol": "circle"
           },
           "mode": "markers",
           "name": "Oceania",
           "showlegend": true,
           "type": "scattergeo"
          }
         ],
         "name": "1957"
        },
        {
         "data": [
          {
           "geo": "geo",
           "hovertemplate": "<b>%{hovertext}</b><br><br>continent=Asia<br>year=1962<br>pop=%{marker.size}<br>iso_alpha=%{location}<extra></extra>",
           "hovertext": [
            "Afghanistan",
            "Bahrain",
            "Bangladesh",
            "Cambodia",
            "China",
            "Hong Kong, China",
            "India",
            "Indonesia",
            "Iran",
            "Iraq",
            "Israel",
            "Japan",
            "Jordan",
            "Korea, Dem. Rep.",
            "Korea, Rep.",
            "Kuwait",
            "Lebanon",
            "Malaysia",
            "Mongolia",
            "Myanmar",
            "Nepal",
            "Oman",
            "Pakistan",
            "Philippines",
            "Saudi Arabia",
            "Singapore",
            "Sri Lanka",
            "Syria",
            "Taiwan",
            "Thailand",
            "Vietnam",
            "West Bank and Gaza",
            "Yemen, Rep."
           ],
           "legendgroup": "Asia",
           "locations": [
            "AFG",
            "BHR",
            "BGD",
            "KHM",
            "CHN",
            "HKG",
            "IND",
            "IDN",
            "IRN",
            "IRQ",
            "ISR",
            "JPN",
            "JOR",
            "KOR",
            "KOR",
            "KWT",
            "LBN",
            "MYS",
            "MNG",
            "MMR",
            "NPL",
            "OMN",
            "PAK",
            "PHL",
            "SAU",
            "SGP",
            "LKA",
            "SYR",
            "TWN",
            "THA",
            "VNM",
            "PSE",
            "YEM"
           ],
           "marker": {
            "color": "#636efa",
            "size": [
             10267083,
             171863,
             56839289,
             6083619,
             665770000,
             3305200,
             454000000,
             99028000,
             22874000,
             7240260,
             2310904,
             95831757,
             933559,
             10917494,
             26420307,
             358266,
             1886848,
             8906385,
             1010280,
             23634436,
             10332057,
             628164,
             53100671,
             30325264,
             4943029,
             1750200,
             10421936,
             4834621,
             11918938,
             29263397,
             33796140,
             1133134,
             6120081
            ],
            "sizemode": "area",
            "sizeref": 3296707.74,
            "symbol": "circle"
           },
           "mode": "markers",
           "name": "Asia",
           "showlegend": true,
           "type": "scattergeo"
          },
          {
           "geo": "geo",
           "hovertemplate": "<b>%{hovertext}</b><br><br>continent=Europe<br>year=1962<br>pop=%{marker.size}<br>iso_alpha=%{location}<extra></extra>",
           "hovertext": [
            "Albania",
            "Austria",
            "Belgium",
            "Bosnia and Herzegovina",
            "Bulgaria",
            "Croatia",
            "Czech Republic",
            "Denmark",
            "Finland",
            "France",
            "Germany",
            "Greece",
            "Hungary",
            "Iceland",
            "Ireland",
            "Italy",
            "Montenegro",
            "Netherlands",
            "Norway",
            "Poland",
            "Portugal",
            "Romania",
            "Serbia",
            "Slovak Republic",
            "Slovenia",
            "Spain",
            "Sweden",
            "Switzerland",
            "Turkey",
            "United Kingdom"
           ],
           "legendgroup": "Europe",
           "locations": [
            "ALB",
            "AUT",
            "BEL",
            "BIH",
            "BGR",
            "HRV",
            "CZE",
            "DNK",
            "FIN",
            "FRA",
            "DEU",
            "GRC",
            "HUN",
            "ISL",
            "IRL",
            "ITA",
            "MNE",
            "NLD",
            "NOR",
            "POL",
            "PRT",
            "ROU",
            "SRB",
            "SVK",
            "SVN",
            "ESP",
            "SWE",
            "CHE",
            "TUR",
            "GBR"
           ],
           "marker": {
            "color": "#EF553B",
            "size": [
             1728137,
             7129864,
             9218400,
             3349000,
             8012946,
             4076557,
             9620282,
             4646899,
             4491443,
             47124000,
             73739117,
             8448233,
             10063000,
             182053,
             2830000,
             50843200,
             474528,
             11805689,
             3638919,
             30329617,
             9019800,
             18680721,
             7616060,
             4237384,
             1582962,
             31158061,
             7561588,
             5666000,
             29788695,
             53292000
            ],
            "sizemode": "area",
            "sizeref": 3296707.74,
            "symbol": "circle"
           },
           "mode": "markers",
           "name": "Europe",
           "showlegend": true,
           "type": "scattergeo"
          },
          {
           "geo": "geo",
           "hovertemplate": "<b>%{hovertext}</b><br><br>continent=Africa<br>year=1962<br>pop=%{marker.size}<br>iso_alpha=%{location}<extra></extra>",
           "hovertext": [
            "Algeria",
            "Angola",
            "Benin",
            "Botswana",
            "Burkina Faso",
            "Burundi",
            "Cameroon",
            "Central African Republic",
            "Chad",
            "Comoros",
            "Congo, Dem. Rep.",
            "Congo, Rep.",
            "Cote d'Ivoire",
            "Djibouti",
            "Egypt",
            "Equatorial Guinea",
            "Eritrea",
            "Ethiopia",
            "Gabon",
            "Gambia",
            "Ghana",
            "Guinea",
            "Guinea-Bissau",
            "Kenya",
            "Lesotho",
            "Liberia",
            "Libya",
            "Madagascar",
            "Malawi",
            "Mali",
            "Mauritania",
            "Mauritius",
            "Morocco",
            "Mozambique",
            "Namibia",
            "Niger",
            "Nigeria",
            "Reunion",
            "Rwanda",
            "Sao Tome and Principe",
            "Senegal",
            "Sierra Leone",
            "Somalia",
            "South Africa",
            "Sudan",
            "Swaziland",
            "Tanzania",
            "Togo",
            "Tunisia",
            "Uganda",
            "Zambia",
            "Zimbabwe"
           ],
           "legendgroup": "Africa",
           "locations": [
            "DZA",
            "AGO",
            "BEN",
            "BWA",
            "BFA",
            "BDI",
            "CMR",
            "CAF",
            "TCD",
            "COM",
            "COD",
            "COG",
            "CIV",
            "DJI",
            "EGY",
            "GNQ",
            "ERI",
            "ETH",
            "GAB",
            "GMB",
            "GHA",
            "GIN",
            "GNB",
            "KEN",
            "LSO",
            "LBR",
            "LBY",
            "MDG",
            "MWI",
            "MLI",
            "MRT",
            "MUS",
            "MAR",
            "MOZ",
            "NAM",
            "NER",
            "NGA",
            "REU",
            "RWA",
            "STP",
            "SEN",
            "SLE",
            "SOM",
            "ZAF",
            "SDN",
            "SWZ",
            "TZA",
            "TGO",
            "TUN",
            "UGA",
            "ZMB",
            "ZWE"
           ],
           "marker": {
            "color": "#00cc96",
            "size": [
             11000948,
             4826015,
             2151895,
             512764,
             4919632,
             2961915,
             5793633,
             1523478,
             3150417,
             191689,
             17486434,
             1047924,
             3832408,
             89898,
             28173309,
             249220,
             1666618,
             25145372,
             455661,
             374020,
             7355248,
             3140003,
             627820,
             8678557,
             893143,
             1112796,
             1441863,
             5703324,
             3628608,
             4690372,
             1146757,
             701016,
             13056604,
             7788944,
             621392,
             4076008,
             41871351,
             358900,
             3051242,
             65345,
             3430243,
             2467895,
             3080153,
             18356657,
             11183227,
             370006,
             10863958,
             1528098,
             4286552,
             7688797,
             3421000,
             4277736
            ],
            "sizemode": "area",
            "sizeref": 3296707.74,
            "symbol": "circle"
           },
           "mode": "markers",
           "name": "Africa",
           "showlegend": true,
           "type": "scattergeo"
          },
          {
           "geo": "geo",
           "hovertemplate": "<b>%{hovertext}</b><br><br>continent=Americas<br>year=1962<br>pop=%{marker.size}<br>iso_alpha=%{location}<extra></extra>",
           "hovertext": [
            "Argentina",
            "Bolivia",
            "Brazil",
            "Canada",
            "Chile",
            "Colombia",
            "Costa Rica",
            "Cuba",
            "Dominican Republic",
            "Ecuador",
            "El Salvador",
            "Guatemala",
            "Haiti",
            "Honduras",
            "Jamaica",
            "Mexico",
            "Nicaragua",
            "Panama",
            "Paraguay",
            "Peru",
            "Puerto Rico",
            "Trinidad and Tobago",
            "United States",
            "Uruguay",
            "Venezuela"
           ],
           "legendgroup": "Americas",
           "locations": [
            "ARG",
            "BOL",
            "BRA",
            "CAN",
            "CHL",
            "COL",
            "CRI",
            "CUB",
            "DOM",
            "ECU",
            "SLV",
            "GTM",
            "HTI",
            "HND",
            "JAM",
            "MEX",
            "NIC",
            "PAN",
            "PRY",
            "PER",
            "PRI",
            "TTO",
            "USA",
            "URY",
            "VEN"
           ],
           "marker": {
            "color": "#ab63fa",
            "size": [
             21283783,
             3593918,
             76039390,
             18985849,
             7961258,
             17009885,
             1345187,
             7254373,
             3453434,
             4681707,
             2747687,
             4208858,
             3880130,
             2090162,
             1665128,
             41121485,
             1590597,
             1215725,
             2009813,
             10516500,
             2448046,
             887498,
             186538000,
             2598466,
             8143375
            ],
            "sizemode": "area",
            "sizeref": 3296707.74,
            "symbol": "circle"
           },
           "mode": "markers",
           "name": "Americas",
           "showlegend": true,
           "type": "scattergeo"
          },
          {
           "geo": "geo",
           "hovertemplate": "<b>%{hovertext}</b><br><br>continent=Oceania<br>year=1962<br>pop=%{marker.size}<br>iso_alpha=%{location}<extra></extra>",
           "hovertext": [
            "Australia",
            "New Zealand"
           ],
           "legendgroup": "Oceania",
           "locations": [
            "AUS",
            "NZL"
           ],
           "marker": {
            "color": "#FFA15A",
            "size": [
             10794968,
             2488550
            ],
            "sizemode": "area",
            "sizeref": 3296707.74,
            "symbol": "circle"
           },
           "mode": "markers",
           "name": "Oceania",
           "showlegend": true,
           "type": "scattergeo"
          }
         ],
         "name": "1962"
        },
        {
         "data": [
          {
           "geo": "geo",
           "hovertemplate": "<b>%{hovertext}</b><br><br>continent=Asia<br>year=1967<br>pop=%{marker.size}<br>iso_alpha=%{location}<extra></extra>",
           "hovertext": [
            "Afghanistan",
            "Bahrain",
            "Bangladesh",
            "Cambodia",
            "China",
            "Hong Kong, China",
            "India",
            "Indonesia",
            "Iran",
            "Iraq",
            "Israel",
            "Japan",
            "Jordan",
            "Korea, Dem. Rep.",
            "Korea, Rep.",
            "Kuwait",
            "Lebanon",
            "Malaysia",
            "Mongolia",
            "Myanmar",
            "Nepal",
            "Oman",
            "Pakistan",
            "Philippines",
            "Saudi Arabia",
            "Singapore",
            "Sri Lanka",
            "Syria",
            "Taiwan",
            "Thailand",
            "Vietnam",
            "West Bank and Gaza",
            "Yemen, Rep."
           ],
           "legendgroup": "Asia",
           "locations": [
            "AFG",
            "BHR",
            "BGD",
            "KHM",
            "CHN",
            "HKG",
            "IND",
            "IDN",
            "IRN",
            "IRQ",
            "ISR",
            "JPN",
            "JOR",
            "KOR",
            "KOR",
            "KWT",
            "LBN",
            "MYS",
            "MNG",
            "MMR",
            "NPL",
            "OMN",
            "PAK",
            "PHL",
            "SAU",
            "SGP",
            "LKA",
            "SYR",
            "TWN",
            "THA",
            "VNM",
            "PSE",
            "YEM"
           ],
           "marker": {
            "color": "#636efa",
            "size": [
             11537966,
             202182,
             62821884,
             6960067,
             754550000,
             3722800,
             506000000,
             109343000,
             26538000,
             8519282,
             2693585,
             100825279,
             1255058,
             12617009,
             30131000,
             575003,
             2186894,
             10154878,
             1149500,
             25870271,
             11261690,
             714775,
             60641899,
             35356600,
             5618198,
             1977600,
             11737396,
             5680812,
             13648692,
             34024249,
             39463910,
             1142636,
             6740785
            ],
            "sizemode": "area",
            "sizeref": 3296707.74,
            "symbol": "circle"
           },
           "mode": "markers",
           "name": "Asia",
           "showlegend": true,
           "type": "scattergeo"
          },
          {
           "geo": "geo",
           "hovertemplate": "<b>%{hovertext}</b><br><br>continent=Europe<br>year=1967<br>pop=%{marker.size}<br>iso_alpha=%{location}<extra></extra>",
           "hovertext": [
            "Albania",
            "Austria",
            "Belgium",
            "Bosnia and Herzegovina",
            "Bulgaria",
            "Croatia",
            "Czech Republic",
            "Denmark",
            "Finland",
            "France",
            "Germany",
            "Greece",
            "Hungary",
            "Iceland",
            "Ireland",
            "Italy",
            "Montenegro",
            "Netherlands",
            "Norway",
            "Poland",
            "Portugal",
            "Romania",
            "Serbia",
            "Slovak Republic",
            "Slovenia",
            "Spain",
            "Sweden",
            "Switzerland",
            "Turkey",
            "United Kingdom"
           ],
           "legendgroup": "Europe",
           "locations": [
            "ALB",
            "AUT",
            "BEL",
            "BIH",
            "BGR",
            "HRV",
            "CZE",
            "DNK",
            "FIN",
            "FRA",
            "DEU",
            "GRC",
            "HUN",
            "ISL",
            "IRL",
            "ITA",
            "MNE",
            "NLD",
            "NOR",
            "POL",
            "PRT",
            "ROU",
            "SRB",
            "SVK",
            "SVN",
            "ESP",
            "SWE",
            "CHE",
            "TUR",
            "GBR"
           ],
           "marker": {
            "color": "#EF553B",
            "size": [
             1984060,
             7376998,
             9556500,
             3585000,
             8310226,
             4174366,
             9835109,
             4838800,
             4605744,
             49569000,
             76368453,
             8716441,
             10223422,
             198676,
             2900100,
             52667100,
             501035,
             12596822,
             3786019,
             31785378,
             9103000,
             19284814,
             7971222,
             4442238,
             1646912,
             32850275,
             7867931,
             6063000,
             33411317,
             54959000
            ],
            "sizemode": "area",
            "sizeref": 3296707.74,
            "symbol": "circle"
           },
           "mode": "markers",
           "name": "Europe",
           "showlegend": true,
           "type": "scattergeo"
          },
          {
           "geo": "geo",
           "hovertemplate": "<b>%{hovertext}</b><br><br>continent=Africa<br>year=1967<br>pop=%{marker.size}<br>iso_alpha=%{location}<extra></extra>",
           "hovertext": [
            "Algeria",
            "Angola",
            "Benin",
            "Botswana",
            "Burkina Faso",
            "Burundi",
            "Cameroon",
            "Central African Republic",
            "Chad",
            "Comoros",
            "Congo, Dem. Rep.",
            "Congo, Rep.",
            "Cote d'Ivoire",
            "Djibouti",
            "Egypt",
            "Equatorial Guinea",
            "Eritrea",
            "Ethiopia",
            "Gabon",
            "Gambia",
            "Ghana",
            "Guinea",
            "Guinea-Bissau",
            "Kenya",
            "Lesotho",
            "Liberia",
            "Libya",
            "Madagascar",
            "Malawi",
            "Mali",
            "Mauritania",
            "Mauritius",
            "Morocco",
            "Mozambique",
            "Namibia",
            "Niger",
            "Nigeria",
            "Reunion",
            "Rwanda",
            "Sao Tome and Principe",
            "Senegal",
            "Sierra Leone",
            "Somalia",
            "South Africa",
            "Sudan",
            "Swaziland",
            "Tanzania",
            "Togo",
            "Tunisia",
            "Uganda",
            "Zambia",
            "Zimbabwe"
           ],
           "legendgroup": "Africa",
           "locations": [
            "DZA",
            "AGO",
            "BEN",
            "BWA",
            "BFA",
            "BDI",
            "CMR",
            "CAF",
            "TCD",
            "COM",
            "COD",
            "COG",
            "CIV",
            "DJI",
            "EGY",
            "GNQ",
            "ERI",
            "ETH",
            "GAB",
            "GMB",
            "GHA",
            "GIN",
            "GNB",
            "KEN",
            "LSO",
            "LBR",
            "LBY",
            "MDG",
            "MWI",
            "MLI",
            "MRT",
            "MUS",
            "MAR",
            "MOZ",
            "NAM",
            "NER",
            "NGA",
            "REU",
            "RWA",
            "STP",
            "SEN",
            "SLE",
            "SOM",
            "ZAF",
            "SDN",
            "SWZ",
            "TZA",
            "TGO",
            "TUN",
            "UGA",
            "ZMB",
            "ZWE"
           ],
           "marker": {
            "color": "#00cc96",
            "size": [
             12760499,
             5247469,
             2427334,
             553541,
             5127935,
             3330989,
             6335506,
             1733638,
             3495967,
             217378,
             19941073,
             1179760,
             4744870,
             127617,
             31681188,
             259864,
             1820319,
             27860297,
             489004,
             439593,
             8490213,
             3451418,
             601287,
             10191512,
             996380,
             1279406,
             1759224,
             6334556,
             4147252,
             5212416,
             1230542,
             789309,
             14770296,
             8680909,
             706640,
             4534062,
             47287752,
             414024,
             3451079,
             70787,
             3965841,
             2662190,
             3428839,
             20997321,
             12716129,
             420690,
             12607312,
             1735550,
             4786986,
             8900294,
             3900000,
             4995432
            ],
            "sizemode": "area",
            "sizeref": 3296707.74,
            "symbol": "circle"
           },
           "mode": "markers",
           "name": "Africa",
           "showlegend": true,
           "type": "scattergeo"
          },
          {
           "geo": "geo",
           "hovertemplate": "<b>%{hovertext}</b><br><br>continent=Americas<br>year=1967<br>pop=%{marker.size}<br>iso_alpha=%{location}<extra></extra>",
           "hovertext": [
            "Argentina",
            "Bolivia",
            "Brazil",
            "Canada",
            "Chile",
            "Colombia",
            "Costa Rica",
            "Cuba",
            "Dominican Republic",
            "Ecuador",
            "El Salvador",
            "Guatemala",
            "Haiti",
            "Honduras",
            "Jamaica",
            "Mexico",
            "Nicaragua",
            "Panama",
            "Paraguay",
            "Peru",
            "Puerto Rico",
            "Trinidad and Tobago",
            "United States",
            "Uruguay",
            "Venezuela"
           ],
           "legendgroup": "Americas",
           "locations": [
            "ARG",
            "BOL",
            "BRA",
            "CAN",
            "CHL",
            "COL",
            "CRI",
            "CUB",
            "DOM",
            "ECU",
            "SLV",
            "GTM",
            "HTI",
            "HND",
            "JAM",
            "MEX",
            "NIC",
            "PAN",
            "PRY",
            "PER",
            "PRI",
            "TTO",
            "USA",
            "URY",
            "VEN"
           ],
           "marker": {
            "color": "#ab63fa",
            "size": [
             22934225,
             4040665,
             88049823,
             20819767,
             8858908,
             19764027,
             1588717,
             8139332,
             4049146,
             5432424,
             3232927,
             4690773,
             4318137,
             2500689,
             1861096,
             47995559,
             1865490,
             1405486,
             2287985,
             12132200,
             2648961,
             960155,
             198712000,
             2748579,
             9709552
            ],
            "sizemode": "area",
            "sizeref": 3296707.74,
            "symbol": "circle"
           },
           "mode": "markers",
           "name": "Americas",
           "showlegend": true,
           "type": "scattergeo"
          },
          {
           "geo": "geo",
           "hovertemplate": "<b>%{hovertext}</b><br><br>continent=Oceania<br>year=1967<br>pop=%{marker.size}<br>iso_alpha=%{location}<extra></extra>",
           "hovertext": [
            "Australia",
            "New Zealand"
           ],
           "legendgroup": "Oceania",
           "locations": [
            "AUS",
            "NZL"
           ],
           "marker": {
            "color": "#FFA15A",
            "size": [
             11872264,
             2728150
            ],
            "sizemode": "area",
            "sizeref": 3296707.74,
            "symbol": "circle"
           },
           "mode": "markers",
           "name": "Oceania",
           "showlegend": true,
           "type": "scattergeo"
          }
         ],
         "name": "1967"
        },
        {
         "data": [
          {
           "geo": "geo",
           "hovertemplate": "<b>%{hovertext}</b><br><br>continent=Asia<br>year=1972<br>pop=%{marker.size}<br>iso_alpha=%{location}<extra></extra>",
           "hovertext": [
            "Afghanistan",
            "Bahrain",
            "Bangladesh",
            "Cambodia",
            "China",
            "Hong Kong, China",
            "India",
            "Indonesia",
            "Iran",
            "Iraq",
            "Israel",
            "Japan",
            "Jordan",
            "Korea, Dem. Rep.",
            "Korea, Rep.",
            "Kuwait",
            "Lebanon",
            "Malaysia",
            "Mongolia",
            "Myanmar",
            "Nepal",
            "Oman",
            "Pakistan",
            "Philippines",
            "Saudi Arabia",
            "Singapore",
            "Sri Lanka",
            "Syria",
            "Taiwan",
            "Thailand",
            "Vietnam",
            "West Bank and Gaza",
            "Yemen, Rep."
           ],
           "legendgroup": "Asia",
           "locations": [
            "AFG",
            "BHR",
            "BGD",
            "KHM",
            "CHN",
            "HKG",
            "IND",
            "IDN",
            "IRN",
            "IRQ",
            "ISR",
            "JPN",
            "JOR",
            "KOR",
            "KOR",
            "KWT",
            "LBN",
            "MYS",
            "MNG",
            "MMR",
            "NPL",
            "OMN",
            "PAK",
            "PHL",
            "SAU",
            "SGP",
            "LKA",
            "SYR",
            "TWN",
            "THA",
            "VNM",
            "PSE",
            "YEM"
           ],
           "marker": {
            "color": "#636efa",
            "size": [
             13079460,
             230800,
             70759295,
             7450606,
             862030000,
             4115700,
             567000000,
             121282000,
             30614000,
             10061506,
             3095893,
             107188273,
             1613551,
             14781241,
             33505000,
             841934,
             2680018,
             11441462,
             1320500,
             28466390,
             12412593,
             829050,
             69325921,
             40850141,
             6472756,
             2152400,
             13016733,
             6701172,
             15226039,
             39276153,
             44655014,
             1089572,
             7407075
            ],
            "sizemode": "area",
            "sizeref": 3296707.74,
            "symbol": "circle"
           },
           "mode": "markers",
           "name": "Asia",
           "showlegend": true,
           "type": "scattergeo"
          },
          {
           "geo": "geo",
           "hovertemplate": "<b>%{hovertext}</b><br><br>continent=Europe<br>year=1972<br>pop=%{marker.size}<br>iso_alpha=%{location}<extra></extra>",
           "hovertext": [
            "Albania",
            "Austria",
            "Belgium",
            "Bosnia and Herzegovina",
            "Bulgaria",
            "Croatia",
            "Czech Republic",
            "Denmark",
            "Finland",
            "France",
            "Germany",
            "Greece",
            "Hungary",
            "Iceland",
            "Ireland",
            "Italy",
            "Montenegro",
            "Netherlands",
            "Norway",
            "Poland",
            "Portugal",
            "Romania",
            "Serbia",
            "Slovak Republic",
            "Slovenia",
            "Spain",
            "Sweden",
            "Switzerland",
            "Turkey",
            "United Kingdom"
           ],
           "legendgroup": "Europe",
           "locations": [
            "ALB",
            "AUT",
            "BEL",
            "BIH",
            "BGR",
            "HRV",
            "CZE",
            "DNK",
            "FIN",
            "FRA",
            "DEU",
            "GRC",
            "HUN",
            "ISL",
            "IRL",
            "ITA",
            "MNE",
            "NLD",
            "NOR",
            "POL",
            "PRT",
            "ROU",
            "SRB",
            "SVK",
            "SVN",
            "ESP",
            "SWE",
            "CHE",
            "TUR",
            "GBR"
           ],
           "marker": {
            "color": "#EF553B",
            "size": [
             2263554,
             7544201,
             9709100,
             3819000,
             8576200,
             4225310,
             9862158,
             4991596,
             4639657,
             51732000,
             78717088,
             8888628,
             10394091,
             209275,
             3024400,
             54365564,
             527678,
             13329874,
             3933004,
             33039545,
             8970450,
             20662648,
             8313288,
             4593433,
             1694510,
             34513161,
             8122293,
             6401400,
             37492953,
             56079000
            ],
            "sizemode": "area",
            "sizeref": 3296707.74,
            "symbol": "circle"
           },
           "mode": "markers",
           "name": "Europe",
           "showlegend": true,
           "type": "scattergeo"
          },
          {
           "geo": "geo",
           "hovertemplate": "<b>%{hovertext}</b><br><br>continent=Africa<br>year=1972<br>pop=%{marker.size}<br>iso_alpha=%{location}<extra></extra>",
           "hovertext": [
            "Algeria",
            "Angola",
            "Benin",
            "Botswana",
            "Burkina Faso",
            "Burundi",
            "Cameroon",
            "Central African Republic",
            "Chad",
            "Comoros",
            "Congo, Dem. Rep.",
            "Congo, Rep.",
            "Cote d'Ivoire",
            "Djibouti",
            "Egypt",
            "Equatorial Guinea",
            "Eritrea",
            "Ethiopia",
            "Gabon",
            "Gambia",
            "Ghana",
            "Guinea",
            "Guinea-Bissau",
            "Kenya",
            "Lesotho",
            "Liberia",
            "Libya",
            "Madagascar",
            "Malawi",
            "Mali",
            "Mauritania",
            "Mauritius",
            "Morocco",
            "Mozambique",
            "Namibia",
            "Niger",
            "Nigeria",
            "Reunion",
            "Rwanda",
            "Sao Tome and Principe",
            "Senegal",
            "Sierra Leone",
            "Somalia",
            "South Africa",
            "Sudan",
            "Swaziland",
            "Tanzania",
            "Togo",
            "Tunisia",
            "Uganda",
            "Zambia",
            "Zimbabwe"
           ],
           "legendgroup": "Africa",
           "locations": [
            "DZA",
            "AGO",
            "BEN",
            "BWA",
            "BFA",
            "BDI",
            "CMR",
            "CAF",
            "TCD",
            "COM",
            "COD",
            "COG",
            "CIV",
            "DJI",
            "EGY",
            "GNQ",
            "ERI",
            "ETH",
            "GAB",
            "GMB",
            "GHA",
            "GIN",
            "GNB",
            "KEN",
            "LSO",
            "LBR",
            "LBY",
            "MDG",
            "MWI",
            "MLI",
            "MRT",
            "MUS",
            "MAR",
            "MOZ",
            "NAM",
            "NER",
            "NGA",
            "REU",
            "RWA",
            "STP",
            "SEN",
            "SLE",
            "SOM",
            "ZAF",
            "SDN",
            "SWZ",
            "TZA",
            "TGO",
            "TUN",
            "UGA",
            "ZMB",
            "ZWE"
           ],
           "marker": {
            "color": "#00cc96",
            "size": [
             14760787,
             5894858,
             2761407,
             619351,
             5433886,
             3529983,
             7021028,
             1927260,
             3899068,
             250027,
             23007669,
             1340458,
             6071696,
             178848,
             34807417,
             277603,
             2260187,
             30770372,
             537977,
             517101,
             9354120,
             3811387,
             625361,
             12044785,
             1116779,
             1482628,
             2183877,
             7082430,
             4730997,
             5828158,
             1332786,
             851334,
             16660670,
             9809596,
             821782,
             5060262,
             53740085,
             461633,
             3992121,
             76595,
             4588696,
             2879013,
             3840161,
             23935810,
             14597019,
             480105,
             14706593,
             2056351,
             5303507,
             10190285,
             4506497,
             5861135
            ],
            "sizemode": "area",
            "sizeref": 3296707.74,
            "symbol": "circle"
           },
           "mode": "markers",
           "name": "Africa",
           "showlegend": true,
           "type": "scattergeo"
          },
          {
           "geo": "geo",
           "hovertemplate": "<b>%{hovertext}</b><br><br>continent=Americas<br>year=1972<br>pop=%{marker.size}<br>iso_alpha=%{location}<extra></extra>",
           "hovertext": [
            "Argentina",
            "Bolivia",
            "Brazil",
            "Canada",
            "Chile",
            "Colombia",
            "Costa Rica",
            "Cuba",
            "Dominican Republic",
            "Ecuador",
            "El Salvador",
            "Guatemala",
            "Haiti",
            "Honduras",
            "Jamaica",
            "Mexico",
            "Nicaragua",
            "Panama",
            "Paraguay",
            "Peru",
            "Puerto Rico",
            "Trinidad and Tobago",
            "United States",
            "Uruguay",
            "Venezuela"
           ],
           "legendgroup": "Americas",
           "locations": [
            "ARG",
            "BOL",
            "BRA",
            "CAN",
            "CHL",
            "COL",
            "CRI",
            "CUB",
            "DOM",
            "ECU",
            "SLV",
            "GTM",
            "HTI",
            "HND",
            "JAM",
            "MEX",
            "NIC",
            "PAN",
            "PRY",
            "PER",
            "PRI",
            "TTO",
            "USA",
            "URY",
            "VEN"
           ],
           "marker": {
            "color": "#ab63fa",
            "size": [
             24779799,
             4565872,
             100840058,
             22284500,
             9717524,
             22542890,
             1834796,
             8831348,
             4671329,
             6298651,
             3790903,
             5149581,
             4698301,
             2965146,
             1997616,
             55984294,
             2182908,
             1616384,
             2614104,
             13954700,
             2847132,
             975199,
             209896000,
             2829526,
             11515649
            ],
            "sizemode": "area",
            "sizeref": 3296707.74,
            "symbol": "circle"
           },
           "mode": "markers",
           "name": "Americas",
           "showlegend": true,
           "type": "scattergeo"
          },
          {
           "geo": "geo",
           "hovertemplate": "<b>%{hovertext}</b><br><br>continent=Oceania<br>year=1972<br>pop=%{marker.size}<br>iso_alpha=%{location}<extra></extra>",
           "hovertext": [
            "Australia",
            "New Zealand"
           ],
           "legendgroup": "Oceania",
           "locations": [
            "AUS",
            "NZL"
           ],
           "marker": {
            "color": "#FFA15A",
            "size": [
             13177000,
             2929100
            ],
            "sizemode": "area",
            "sizeref": 3296707.74,
            "symbol": "circle"
           },
           "mode": "markers",
           "name": "Oceania",
           "showlegend": true,
           "type": "scattergeo"
          }
         ],
         "name": "1972"
        },
        {
         "data": [
          {
           "geo": "geo",
           "hovertemplate": "<b>%{hovertext}</b><br><br>continent=Asia<br>year=1977<br>pop=%{marker.size}<br>iso_alpha=%{location}<extra></extra>",
           "hovertext": [
            "Afghanistan",
            "Bahrain",
            "Bangladesh",
            "Cambodia",
            "China",
            "Hong Kong, China",
            "India",
            "Indonesia",
            "Iran",
            "Iraq",
            "Israel",
            "Japan",
            "Jordan",
            "Korea, Dem. Rep.",
            "Korea, Rep.",
            "Kuwait",
            "Lebanon",
            "Malaysia",
            "Mongolia",
            "Myanmar",
            "Nepal",
            "Oman",
            "Pakistan",
            "Philippines",
            "Saudi Arabia",
            "Singapore",
            "Sri Lanka",
            "Syria",
            "Taiwan",
            "Thailand",
            "Vietnam",
            "West Bank and Gaza",
            "Yemen, Rep."
           ],
           "legendgroup": "Asia",
           "locations": [
            "AFG",
            "BHR",
            "BGD",
            "KHM",
            "CHN",
            "HKG",
            "IND",
            "IDN",
            "IRN",
            "IRQ",
            "ISR",
            "JPN",
            "JOR",
            "KOR",
            "KOR",
            "KWT",
            "LBN",
            "MYS",
            "MNG",
            "MMR",
            "NPL",
            "OMN",
            "PAK",
            "PHL",
            "SAU",
            "SGP",
            "LKA",
            "SYR",
            "TWN",
            "THA",
            "VNM",
            "PSE",
            "YEM"
           ],
           "marker": {
            "color": "#636efa",
            "size": [
             14880372,
             297410,
             80428306,
             6978607,
             943455000,
             4583700,
             634000000,
             136725000,
             35480679,
             11882916,
             3495918,
             113872473,
             1937652,
             16325320,
             36436000,
             1140357,
             3115787,
             12845381,
             1528000,
             31528087,
             13933198,
             1004533,
             78152686,
             46850962,
             8128505,
             2325300,
             14116836,
             7932503,
             16785196,
             44148285,
             50533506,
             1261091,
             8403990
            ],
            "sizemode": "area",
            "sizeref": 3296707.74,
            "symbol": "circle"
           },
           "mode": "markers",
           "name": "Asia",
           "showlegend": true,
           "type": "scattergeo"
          },
          {
           "geo": "geo",
           "hovertemplate": "<b>%{hovertext}</b><br><br>continent=Europe<br>year=1977<br>pop=%{marker.size}<br>iso_alpha=%{location}<extra></extra>",
           "hovertext": [
            "Albania",
            "Austria",
            "Belgium",
            "Bosnia and Herzegovina",
            "Bulgaria",
            "Croatia",
            "Czech Republic",
            "Denmark",
            "Finland",
            "France",
            "Germany",
            "Greece",
            "Hungary",
            "Iceland",
            "Ireland",
            "Italy",
            "Montenegro",
            "Netherlands",
            "Norway",
            "Poland",
            "Portugal",
            "Romania",
            "Serbia",
            "Slovak Republic",
            "Slovenia",
            "Spain",
            "Sweden",
            "Switzerland",
            "Turkey",
            "United Kingdom"
           ],
           "legendgroup": "Europe",
           "locations": [
            "ALB",
            "AUT",
            "BEL",
            "BIH",
            "BGR",
            "HRV",
            "CZE",
            "DNK",
            "FIN",
            "FRA",
            "DEU",
            "GRC",
            "HUN",
            "ISL",
            "IRL",
            "ITA",
            "MNE",
            "NLD",
            "NOR",
            "POL",
            "PRT",
            "ROU",
            "SRB",
            "SVK",
            "SVN",
            "ESP",
            "SWE",
            "CHE",
            "TUR",
            "GBR"
           ],
           "marker": {
            "color": "#EF553B",
            "size": [
             2509048,
             7568430,
             9821800,
             4086000,
             8797022,
             4318673,
             10161915,
             5088419,
             4738902,
             53165019,
             78160773,
             9308479,
             10637171,
             221823,
             3271900,
             56059245,
             560073,
             13852989,
             4043205,
             34621254,
             9662600,
             21658597,
             8686367,
             4827803,
             1746919,
             36439000,
             8251648,
             6316424,
             42404033,
             56179000
            ],
            "sizemode": "area",
            "sizeref": 3296707.74,
            "symbol": "circle"
           },
           "mode": "markers",
           "name": "Europe",
           "showlegend": true,
           "type": "scattergeo"
          },
          {
           "geo": "geo",
           "hovertemplate": "<b>%{hovertext}</b><br><br>continent=Africa<br>year=1977<br>pop=%{marker.size}<br>iso_alpha=%{location}<extra></extra>",
           "hovertext": [
            "Algeria",
            "Angola",
            "Benin",
            "Botswana",
            "Burkina Faso",
            "Burundi",
            "Cameroon",
            "Central African Republic",
            "Chad",
            "Comoros",
            "Congo, Dem. Rep.",
            "Congo, Rep.",
            "Cote d'Ivoire",
            "Djibouti",
            "Egypt",
            "Equatorial Guinea",
            "Eritrea",
            "Ethiopia",
            "Gabon",
            "Gambia",
            "Ghana",
            "Guinea",
            "Guinea-Bissau",
            "Kenya",
            "Lesotho",
            "Liberia",
            "Libya",
            "Madagascar",
            "Malawi",
            "Mali",
            "Mauritania",
            "Mauritius",
            "Morocco",
            "Mozambique",
            "Namibia",
            "Niger",
            "Nigeria",
            "Reunion",
            "Rwanda",
            "Sao Tome and Principe",
            "Senegal",
            "Sierra Leone",
            "Somalia",
            "South Africa",
            "Sudan",
            "Swaziland",
            "Tanzania",
            "Togo",
            "Tunisia",
            "Uganda",
            "Zambia",
            "Zimbabwe"
           ],
           "legendgroup": "Africa",
           "locations": [
            "DZA",
            "AGO",
            "BEN",
            "BWA",
            "BFA",
            "BDI",
            "CMR",
            "CAF",
            "TCD",
            "COM",
            "COD",
            "COG",
            "CIV",
            "DJI",
            "EGY",
            "GNQ",
            "ERI",
            "ETH",
            "GAB",
            "GMB",
            "GHA",
            "GIN",
            "GNB",
            "KEN",
            "LSO",
            "LBR",
            "LBY",
            "MDG",
            "MWI",
            "MLI",
            "MRT",
            "MUS",
            "MAR",
            "MOZ",
            "NAM",
            "NER",
            "NGA",
            "REU",
            "RWA",
            "STP",
            "SEN",
            "SLE",
            "SOM",
            "ZAF",
            "SDN",
            "SWZ",
            "TZA",
            "TGO",
            "TUN",
            "UGA",
            "ZMB",
            "ZWE"
           ],
           "marker": {
            "color": "#00cc96",
            "size": [
             17152804,
             6162675,
             3168267,
             781472,
             5889574,
             3834415,
             7959865,
             2167533,
             4388260,
             304739,
             26480870,
             1536769,
             7459574,
             228694,
             38783863,
             192675,
             2512642,
             34617799,
             706367,
             608274,
             10538093,
             4227026,
             745228,
             14500404,
             1251524,
             1703617,
             2721783,
             8007166,
             5637246,
             6491649,
             1456688,
             913025,
             18396941,
             11127868,
             977026,
             5682086,
             62209173,
             492095,
             4657072,
             86796,
             5260855,
             3140897,
             4353666,
             27129932,
             17104986,
             551425,
             17129565,
             2308582,
             6005061,
             11457758,
             5216550,
             6642107
            ],
            "sizemode": "area",
            "sizeref": 3296707.74,
            "symbol": "circle"
           },
           "mode": "markers",
           "name": "Africa",
           "showlegend": true,
           "type": "scattergeo"
          },
          {
           "geo": "geo",
           "hovertemplate": "<b>%{hovertext}</b><br><br>continent=Americas<br>year=1977<br>pop=%{marker.size}<br>iso_alpha=%{location}<extra></extra>",
           "hovertext": [
            "Argentina",
            "Bolivia",
            "Brazil",
            "Canada",
            "Chile",
            "Colombia",
            "Costa Rica",
            "Cuba",
            "Dominican Republic",
            "Ecuador",
            "El Salvador",
            "Guatemala",
            "Haiti",
            "Honduras",
            "Jamaica",
            "Mexico",
            "Nicaragua",
            "Panama",
            "Paraguay",
            "Peru",
            "Puerto Rico",
            "Trinidad and Tobago",
            "United States",
            "Uruguay",
            "Venezuela"
           ],
           "legendgroup": "Americas",
           "locations": [
            "ARG",
            "BOL",
            "BRA",
            "CAN",
            "CHL",
            "COL",
            "CRI",
            "CUB",
            "DOM",
            "ECU",
            "SLV",
            "GTM",
            "HTI",
            "HND",
            "JAM",
            "MEX",
            "NIC",
            "PAN",
            "PRY",
            "PER",
            "PRI",
            "TTO",
            "USA",
            "URY",
            "VEN"
           ],
           "marker": {
            "color": "#ab63fa",
            "size": [
             26983828,
             5079716,
             114313951,
             23796400,
             10599793,
             25094412,
             2108457,
             9537988,
             5302800,
             7278866,
             4282586,
             5703430,
             4908554,
             3055235,
             2156814,
             63759976,
             2554598,
             1839782,
             2984494,
             15990099,
             3080828,
             1039009,
             220239000,
             2873520,
             13503563
            ],
            "sizemode": "area",
            "sizeref": 3296707.74,
            "symbol": "circle"
           },
           "mode": "markers",
           "name": "Americas",
           "showlegend": true,
           "type": "scattergeo"
          },
          {
           "geo": "geo",
           "hovertemplate": "<b>%{hovertext}</b><br><br>continent=Oceania<br>year=1977<br>pop=%{marker.size}<br>iso_alpha=%{location}<extra></extra>",
           "hovertext": [
            "Australia",
            "New Zealand"
           ],
           "legendgroup": "Oceania",
           "locations": [
            "AUS",
            "NZL"
           ],
           "marker": {
            "color": "#FFA15A",
            "size": [
             14074100,
             3164900
            ],
            "sizemode": "area",
            "sizeref": 3296707.74,
            "symbol": "circle"
           },
           "mode": "markers",
           "name": "Oceania",
           "showlegend": true,
           "type": "scattergeo"
          }
         ],
         "name": "1977"
        },
        {
         "data": [
          {
           "geo": "geo",
           "hovertemplate": "<b>%{hovertext}</b><br><br>continent=Asia<br>year=1982<br>pop=%{marker.size}<br>iso_alpha=%{location}<extra></extra>",
           "hovertext": [
            "Afghanistan",
            "Bahrain",
            "Bangladesh",
            "Cambodia",
            "China",
            "Hong Kong, China",
            "India",
            "Indonesia",
            "Iran",
            "Iraq",
            "Israel",
            "Japan",
            "Jordan",
            "Korea, Dem. Rep.",
            "Korea, Rep.",
            "Kuwait",
            "Lebanon",
            "Malaysia",
            "Mongolia",
            "Myanmar",
            "Nepal",
            "Oman",
            "Pakistan",
            "Philippines",
            "Saudi Arabia",
            "Singapore",
            "Sri Lanka",
            "Syria",
            "Taiwan",
            "Thailand",
            "Vietnam",
            "West Bank and Gaza",
            "Yemen, Rep."
           ],
           "legendgroup": "Asia",
           "locations": [
            "AFG",
            "BHR",
            "BGD",
            "KHM",
            "CHN",
            "HKG",
            "IND",
            "IDN",
            "IRN",
            "IRQ",
            "ISR",
            "JPN",
            "JOR",
            "KOR",
            "KOR",
            "KWT",
            "LBN",
            "MYS",
            "MNG",
            "MMR",
            "NPL",
            "OMN",
            "PAK",
            "PHL",
            "SAU",
            "SGP",
            "LKA",
            "SYR",
            "TWN",
            "THA",
            "VNM",
            "PSE",
            "YEM"
           ],
           "marker": {
            "color": "#636efa",
            "size": [
             12881816,
             377967,
             93074406,
             7272485,
             1000281000,
             5264500,
             708000000,
             153343000,
             43072751,
             14173318,
             3858421,
             118454974,
             2347031,
             17647518,
             39326000,
             1497494,
             3086876,
             14441916,
             1756032,
             34680442,
             15796314,
             1301048,
             91462088,
             53456774,
             11254672,
             2651869,
             15410151,
             9410494,
             18501390,
             48827160,
             56142181,
             1425876,
             9657618
            ],
            "sizemode": "area",
            "sizeref": 3296707.74,
            "symbol": "circle"
           },
           "mode": "markers",
           "name": "Asia",
           "showlegend": true,
           "type": "scattergeo"
          },
          {
           "geo": "geo",
           "hovertemplate": "<b>%{hovertext}</b><br><br>continent=Europe<br>year=1982<br>pop=%{marker.size}<br>iso_alpha=%{location}<extra></extra>",
           "hovertext": [
            "Albania",
            "Austria",
            "Belgium",
            "Bosnia and Herzegovina",
            "Bulgaria",
            "Croatia",
            "Czech Republic",
            "Denmark",
            "Finland",
            "France",
            "Germany",
            "Greece",
            "Hungary",
            "Iceland",
            "Ireland",
            "Italy",
            "Montenegro",
            "Netherlands",
            "Norway",
            "Poland",
            "Portugal",
            "Romania",
            "Serbia",
            "Slovak Republic",
            "Slovenia",
            "Spain",
            "Sweden",
            "Switzerland",
            "Turkey",
            "United Kingdom"
           ],
           "legendgroup": "Europe",
           "locations": [
            "ALB",
            "AUT",
            "BEL",
            "BIH",
            "BGR",
            "HRV",
            "CZE",
            "DNK",
            "FIN",
            "FRA",
            "DEU",
            "GRC",
            "HUN",
            "ISL",
            "IRL",
            "ITA",
            "MNE",
            "NLD",
            "NOR",
            "POL",
            "PRT",
            "ROU",
            "SRB",
            "SVK",
            "SVN",
            "ESP",
            "SWE",
            "CHE",
            "TUR",
            "GBR"
           ],
           "marker": {
            "color": "#EF553B",
            "size": [
             2780097,
             7574613,
             9856303,
             4172693,
             8892098,
             4413368,
             10303704,
             5117810,
             4826933,
             54433565,
             78335266,
             9786480,
             10705535,
             233997,
             3480000,
             56535636,
             562548,
             14310401,
             4114787,
             36227381,
             9859650,
             22356726,
             9032824,
             5048043,
             1861252,
             37983310,
             8325260,
             6468126,
             47328791,
             56339704
            ],
            "sizemode": "area",
            "sizeref": 3296707.74,
            "symbol": "circle"
           },
           "mode": "markers",
           "name": "Europe",
           "showlegend": true,
           "type": "scattergeo"
          },
          {
           "geo": "geo",
           "hovertemplate": "<b>%{hovertext}</b><br><br>continent=Africa<br>year=1982<br>pop=%{marker.size}<br>iso_alpha=%{location}<extra></extra>",
           "hovertext": [
            "Algeria",
            "Angola",
            "Benin",
            "Botswana",
            "Burkina Faso",
            "Burundi",
            "Cameroon",
            "Central African Republic",
            "Chad",
            "Comoros",
            "Congo, Dem. Rep.",
            "Congo, Rep.",
            "Cote d'Ivoire",
            "Djibouti",
            "Egypt",
            "Equatorial Guinea",
            "Eritrea",
            "Ethiopia",
            "Gabon",
            "Gambia",
            "Ghana",
            "Guinea",
            "Guinea-Bissau",
            "Kenya",
            "Lesotho",
            "Liberia",
            "Libya",
            "Madagascar",
            "Malawi",
            "Mali",
            "Mauritania",
            "Mauritius",
            "Morocco",
            "Mozambique",
            "Namibia",
            "Niger",
            "Nigeria",
            "Reunion",
            "Rwanda",
            "Sao Tome and Principe",
            "Senegal",
            "Sierra Leone",
            "Somalia",
            "South Africa",
            "Sudan",
            "Swaziland",
            "Tanzania",
            "Togo",
            "Tunisia",
            "Uganda",
            "Zambia",
            "Zimbabwe"
           ],
           "legendgroup": "Africa",
           "locations": [
            "DZA",
            "AGO",
            "BEN",
            "BWA",
            "BFA",
            "BDI",
            "CMR",
            "CAF",
            "TCD",
            "COM",
            "COD",
            "COG",
            "CIV",
            "DJI",
            "EGY",
            "GNQ",
            "ERI",
            "ETH",
            "GAB",
            "GMB",
            "GHA",
            "GIN",
            "GNB",
            "KEN",
            "LSO",
            "LBR",
            "LBY",
            "MDG",
            "MWI",
            "MLI",
            "MRT",
            "MUS",
            "MAR",
            "MOZ",
            "NAM",
            "NER",
            "NGA",
            "REU",
            "RWA",
            "STP",
            "SEN",
            "SLE",
            "SOM",
            "ZAF",
            "SDN",
            "SWZ",
            "TZA",
            "TGO",
            "TUN",
            "UGA",
            "ZMB",
            "ZWE"
           ],
           "marker": {
            "color": "#00cc96",
            "size": [
             20033753,
             7016384,
             3641603,
             970347,
             6634596,
             4580410,
             9250831,
             2476971,
             4875118,
             348643,
             30646495,
             1774735,
             9025951,
             305991,
             45681811,
             285483,
             2637297,
             38111756,
             753874,
             715523,
             11400338,
             4710497,
             825987,
             17661452,
             1411807,
             1956875,
             3344074,
             9171477,
             6502825,
             6998256,
             1622136,
             992040,
             20198730,
             12587223,
             1099010,
             6437188,
             73039376,
             517810,
             5507565,
             98593,
             6147783,
             3464522,
             5828892,
             31140029,
             20367053,
             649901,
             19844382,
             2644765,
             6734098,
             12939400,
             6100407,
             7636524
            ],
            "sizemode": "area",
            "sizeref": 3296707.74,
            "symbol": "circle"
           },
           "mode": "markers",
           "name": "Africa",
           "showlegend": true,
           "type": "scattergeo"
          },
          {
           "geo": "geo",
           "hovertemplate": "<b>%{hovertext}</b><br><br>continent=Americas<br>year=1982<br>pop=%{marker.size}<br>iso_alpha=%{location}<extra></extra>",
           "hovertext": [
            "Argentina",
            "Bolivia",
            "Brazil",
            "Canada",
            "Chile",
            "Colombia",
            "Costa Rica",
            "Cuba",
            "Dominican Republic",
            "Ecuador",
            "El Salvador",
            "Guatemala",
            "Haiti",
            "Honduras",
            "Jamaica",
            "Mexico",
            "Nicaragua",
            "Panama",
            "Paraguay",
            "Peru",
            "Puerto Rico",
            "Trinidad and Tobago",
            "United States",
            "Uruguay",
            "Venezuela"
           ],
           "legendgroup": "Americas",
           "locations": [
            "ARG",
            "BOL",
            "BRA",
            "CAN",
            "CHL",
            "COL",
            "CRI",
            "CUB",
            "DOM",
            "ECU",
            "SLV",
            "GTM",
            "HTI",
            "HND",
            "JAM",
            "MEX",
            "NIC",
            "PAN",
            "PRY",
            "PER",
            "PRI",
            "TTO",
            "USA",
            "URY",
            "VEN"
           ],
           "marker": {
            "color": "#ab63fa",
            "size": [
             29341374,
             5642224,
             128962939,
             25201900,
             11487112,
             27764644,
             2424367,
             9789224,
             5968349,
             8365850,
             4474873,
             6395630,
             5198399,
             3669448,
             2298309,
             71640904,
             2979423,
             2036305,
             3366439,
             18125129,
             3279001,
             1116479,
             232187835,
             2953997,
             15620766
            ],
            "sizemode": "area",
            "sizeref": 3296707.74,
            "symbol": "circle"
           },
           "mode": "markers",
           "name": "Americas",
           "showlegend": true,
           "type": "scattergeo"
          },
          {
           "geo": "geo",
           "hovertemplate": "<b>%{hovertext}</b><br><br>continent=Oceania<br>year=1982<br>pop=%{marker.size}<br>iso_alpha=%{location}<extra></extra>",
           "hovertext": [
            "Australia",
            "New Zealand"
           ],
           "legendgroup": "Oceania",
           "locations": [
            "AUS",
            "NZL"
           ],
           "marker": {
            "color": "#FFA15A",
            "size": [
             15184200,
             3210650
            ],
            "sizemode": "area",
            "sizeref": 3296707.74,
            "symbol": "circle"
           },
           "mode": "markers",
           "name": "Oceania",
           "showlegend": true,
           "type": "scattergeo"
          }
         ],
         "name": "1982"
        },
        {
         "data": [
          {
           "geo": "geo",
           "hovertemplate": "<b>%{hovertext}</b><br><br>continent=Asia<br>year=1987<br>pop=%{marker.size}<br>iso_alpha=%{location}<extra></extra>",
           "hovertext": [
            "Afghanistan",
            "Bahrain",
            "Bangladesh",
            "Cambodia",
            "China",
            "Hong Kong, China",
            "India",
            "Indonesia",
            "Iran",
            "Iraq",
            "Israel",
            "Japan",
            "Jordan",
            "Korea, Dem. Rep.",
            "Korea, Rep.",
            "Kuwait",
            "Lebanon",
            "Malaysia",
            "Mongolia",
            "Myanmar",
            "Nepal",
            "Oman",
            "Pakistan",
            "Philippines",
            "Saudi Arabia",
            "Singapore",
            "Sri Lanka",
            "Syria",
            "Taiwan",
            "Thailand",
            "Vietnam",
            "West Bank and Gaza",
            "Yemen, Rep."
           ],
           "legendgroup": "Asia",
           "locations": [
            "AFG",
            "BHR",
            "BGD",
            "KHM",
            "CHN",
            "HKG",
            "IND",
            "IDN",
            "IRN",
            "IRQ",
            "ISR",
            "JPN",
            "JOR",
            "KOR",
            "KOR",
            "KWT",
            "LBN",
            "MYS",
            "MNG",
            "MMR",
            "NPL",
            "OMN",
            "PAK",
            "PHL",
            "SAU",
            "SGP",
            "LKA",
            "SYR",
            "TWN",
            "THA",
            "VNM",
            "PSE",
            "YEM"
           ],
           "marker": {
            "color": "#636efa",
            "size": [
             13867957,
             454612,
             103764241,
             8371791,
             1084035000,
             5584510,
             788000000,
             169276000,
             51889696,
             16543189,
             4203148,
             122091325,
             2820042,
             19067554,
             41622000,
             1891487,
             3089353,
             16331785,
             2015133,
             38028578,
             17917180,
             1593882,
             105186881,
             60017788,
             14619745,
             2794552,
             16495304,
             11242847,
             19757799,
             52910342,
             62826491,
             1691210,
             11219340
            ],
            "sizemode": "area",
            "sizeref": 3296707.74,
            "symbol": "circle"
           },
           "mode": "markers",
           "name": "Asia",
           "showlegend": true,
           "type": "scattergeo"
          },
          {
           "geo": "geo",
           "hovertemplate": "<b>%{hovertext}</b><br><br>continent=Europe<br>year=1987<br>pop=%{marker.size}<br>iso_alpha=%{location}<extra></extra>",
           "hovertext": [
            "Albania",
            "Austria",
            "Belgium",
            "Bosnia and Herzegovina",
            "Bulgaria",
            "Croatia",
            "Czech Republic",
            "Denmark",
            "Finland",
            "France",
            "Germany",
            "Greece",
            "Hungary",
            "Iceland",
            "Ireland",
            "Italy",
            "Montenegro",
            "Netherlands",
            "Norway",
            "Poland",
            "Portugal",
            "Romania",
            "Serbia",
            "Slovak Republic",
            "Slovenia",
            "Spain",
            "Sweden",
            "Switzerland",
            "Turkey",
            "United Kingdom"
           ],
           "legendgroup": "Europe",
           "locations": [
            "ALB",
            "AUT",
            "BEL",
            "BIH",
            "BGR",
            "HRV",
            "CZE",
            "DNK",
            "FIN",
            "FRA",
            "DEU",
            "GRC",
            "HUN",
            "ISL",
            "IRL",
            "ITA",
            "MNE",
            "NLD",
            "NOR",
            "POL",
            "PRT",
            "ROU",
            "SRB",
            "SVK",
            "SVN",
            "ESP",
            "SWE",
            "CHE",
            "TUR",
            "GBR"
           ],
           "marker": {
            "color": "#EF553B",
            "size": [
             3075321,
             7578903,
             9870200,
             4338977,
             8971958,
             4484310,
             10311597,
             5127024,
             4931729,
             55630100,
             77718298,
             9974490,
             10612740,
             244676,
             3539900,
             56729703,
             569473,
             14665278,
             4186147,
             37740710,
             9915289,
             22686371,
             9230783,
             5199318,
             1945870,
             38880702,
             8421403,
             6649942,
             52881328,
             56981620
            ],
            "sizemode": "area",
            "sizeref": 3296707.74,
            "symbol": "circle"
           },
           "mode": "markers",
           "name": "Europe",
           "showlegend": true,
           "type": "scattergeo"
          },
          {
           "geo": "geo",
           "hovertemplate": "<b>%{hovertext}</b><br><br>continent=Africa<br>year=1987<br>pop=%{marker.size}<br>iso_alpha=%{location}<extra></extra>",
           "hovertext": [
            "Algeria",
            "Angola",
            "Benin",
            "Botswana",
            "Burkina Faso",
            "Burundi",
            "Cameroon",
            "Central African Republic",
            "Chad",
            "Comoros",
            "Congo, Dem. Rep.",
            "Congo, Rep.",
            "Cote d'Ivoire",
            "Djibouti",
            "Egypt",
            "Equatorial Guinea",
            "Eritrea",
            "Ethiopia",
            "Gabon",
            "Gambia",
            "Ghana",
            "Guinea",
            "Guinea-Bissau",
            "Kenya",
            "Lesotho",
            "Liberia",
            "Libya",
            "Madagascar",
            "Malawi",
            "Mali",
            "Mauritania",
            "Mauritius",
            "Morocco",
            "Mozambique",
            "Namibia",
            "Niger",
            "Nigeria",
            "Reunion",
            "Rwanda",
            "Sao Tome and Principe",
            "Senegal",
            "Sierra Leone",
            "Somalia",
            "South Africa",
            "Sudan",
            "Swaziland",
            "Tanzania",
            "Togo",
            "Tunisia",
            "Uganda",
            "Zambia",
            "Zimbabwe"
           ],
           "legendgroup": "Africa",
           "locations": [
            "DZA",
            "AGO",
            "BEN",
            "BWA",
            "BFA",
            "BDI",
            "CMR",
            "CAF",
            "TCD",
            "COM",
            "COD",
            "COG",
            "CIV",
            "DJI",
            "EGY",
            "GNQ",
            "ERI",
            "ETH",
            "GAB",
            "GMB",
            "GHA",
            "GIN",
            "GNB",
            "KEN",
            "LSO",
            "LBR",
            "LBY",
            "MDG",
            "MWI",
            "MLI",
            "MRT",
            "MUS",
            "MAR",
            "MOZ",
            "NAM",
            "NER",
            "NGA",
            "REU",
            "RWA",
            "STP",
            "SEN",
            "SLE",
            "SOM",
            "ZAF",
            "SDN",
            "SWZ",
            "TZA",
            "TGO",
            "TUN",
            "UGA",
            "ZMB",
            "ZWE"
           ],
           "marker": {
            "color": "#00cc96",
            "size": [
             23254956,
             7874230,
             4243788,
             1151184,
             7586551,
             5126023,
             10780667,
             2840009,
             5498955,
             395114,
             35481645,
             2064095,
             10761098,
             311025,
             52799062,
             341244,
             2915959,
             42999530,
             880397,
             848406,
             14168101,
             5650262,
             927524,
             21198082,
             1599200,
             2269414,
             3799845,
             10568642,
             7824747,
             7634008,
             1841240,
             1042663,
             22987397,
             12891952,
             1278184,
             7332638,
             81551520,
             562035,
             6349365,
             110812,
             7171347,
             3868905,
             6921858,
             35933379,
             24725960,
             779348,
             23040630,
             3154264,
             7724976,
             15283050,
             7272406,
             9216418
            ],
            "sizemode": "area",
            "sizeref": 3296707.74,
            "symbol": "circle"
           },
           "mode": "markers",
           "name": "Africa",
           "showlegend": true,
           "type": "scattergeo"
          },
          {
           "geo": "geo",
           "hovertemplate": "<b>%{hovertext}</b><br><br>continent=Americas<br>year=1987<br>pop=%{marker.size}<br>iso_alpha=%{location}<extra></extra>",
           "hovertext": [
            "Argentina",
            "Bolivia",
            "Brazil",
            "Canada",
            "Chile",
            "Colombia",
            "Costa Rica",
            "Cuba",
            "Dominican Republic",
            "Ecuador",
            "El Salvador",
            "Guatemala",
            "Haiti",
            "Honduras",
            "Jamaica",
            "Mexico",
            "Nicaragua",
            "Panama",
            "Paraguay",
            "Peru",
            "Puerto Rico",
            "Trinidad and Tobago",
            "United States",
            "Uruguay",
            "Venezuela"
           ],
           "legendgroup": "Americas",
           "locations": [
            "ARG",
            "BOL",
            "BRA",
            "CAN",
            "CHL",
            "COL",
            "CRI",
            "CUB",
            "DOM",
            "ECU",
            "SLV",
            "GTM",
            "HTI",
            "HND",
            "JAM",
            "MEX",
            "NIC",
            "PAN",
            "PRY",
            "PER",
            "PRI",
            "TTO",
            "USA",
            "URY",
            "VEN"
           ],
           "marker": {
            "color": "#ab63fa",
            "size": [
             31620918,
             6156369,
             142938076,
             26549700,
             12463354,
             30964245,
             2799811,
             10239839,
             6655297,
             9545158,
             4842194,
             7326406,
             5756203,
             4372203,
             2326606,
             80122492,
             3344353,
             2253639,
             3886512,
             20195924,
             3444468,
             1191336,
             242803533,
             3045153,
             17910182
            ],
            "sizemode": "area",
            "sizeref": 3296707.74,
            "symbol": "circle"
           },
           "mode": "markers",
           "name": "Americas",
           "showlegend": true,
           "type": "scattergeo"
          },
          {
           "geo": "geo",
           "hovertemplate": "<b>%{hovertext}</b><br><br>continent=Oceania<br>year=1987<br>pop=%{marker.size}<br>iso_alpha=%{location}<extra></extra>",
           "hovertext": [
            "Australia",
            "New Zealand"
           ],
           "legendgroup": "Oceania",
           "locations": [
            "AUS",
            "NZL"
           ],
           "marker": {
            "color": "#FFA15A",
            "size": [
             16257249,
             3317166
            ],
            "sizemode": "area",
            "sizeref": 3296707.74,
            "symbol": "circle"
           },
           "mode": "markers",
           "name": "Oceania",
           "showlegend": true,
           "type": "scattergeo"
          }
         ],
         "name": "1987"
        },
        {
         "data": [
          {
           "geo": "geo",
           "hovertemplate": "<b>%{hovertext}</b><br><br>continent=Asia<br>year=1992<br>pop=%{marker.size}<br>iso_alpha=%{location}<extra></extra>",
           "hovertext": [
            "Afghanistan",
            "Bahrain",
            "Bangladesh",
            "Cambodia",
            "China",
            "Hong Kong, China",
            "India",
            "Indonesia",
            "Iran",
            "Iraq",
            "Israel",
            "Japan",
            "Jordan",
            "Korea, Dem. Rep.",
            "Korea, Rep.",
            "Kuwait",
            "Lebanon",
            "Malaysia",
            "Mongolia",
            "Myanmar",
            "Nepal",
            "Oman",
            "Pakistan",
            "Philippines",
            "Saudi Arabia",
            "Singapore",
            "Sri Lanka",
            "Syria",
            "Taiwan",
            "Thailand",
            "Vietnam",
            "West Bank and Gaza",
            "Yemen, Rep."
           ],
           "legendgroup": "Asia",
           "locations": [
            "AFG",
            "BHR",
            "BGD",
            "KHM",
            "CHN",
            "HKG",
            "IND",
            "IDN",
            "IRN",
            "IRQ",
            "ISR",
            "JPN",
            "JOR",
            "KOR",
            "KOR",
            "KWT",
            "LBN",
            "MYS",
            "MNG",
            "MMR",
            "NPL",
            "OMN",
            "PAK",
            "PHL",
            "SAU",
            "SGP",
            "LKA",
            "SYR",
            "TWN",
            "THA",
            "VNM",
            "PSE",
            "YEM"
           ],
           "marker": {
            "color": "#636efa",
            "size": [
             16317921,
             529491,
             113704579,
             10150094,
             1164970000,
             5829696,
             872000000,
             184816000,
             60397973,
             17861905,
             4936550,
             124329269,
             3867409,
             20711375,
             43805450,
             1418095,
             3219994,
             18319502,
             2312802,
             40546538,
             20326209,
             1915208,
             120065004,
             67185766,
             16945857,
             3235865,
             17587060,
             13219062,
             20686918,
             56667095,
             69940728,
             2104779,
             13367997
            ],
            "sizemode": "area",
            "sizeref": 3296707.74,
            "symbol": "circle"
           },
           "mode": "markers",
           "name": "Asia",
           "showlegend": true,
           "type": "scattergeo"
          },
          {
           "geo": "geo",
           "hovertemplate": "<b>%{hovertext}</b><br><br>continent=Europe<br>year=1992<br>pop=%{marker.size}<br>iso_alpha=%{location}<extra></extra>",
           "hovertext": [
            "Albania",
            "Austria",
            "Belgium",
            "Bosnia and Herzegovina",
            "Bulgaria",
            "Croatia",
            "Czech Republic",
            "Denmark",
            "Finland",
            "France",
            "Germany",
            "Greece",
            "Hungary",
            "Iceland",
            "Ireland",
            "Italy",
            "Montenegro",
            "Netherlands",
            "Norway",
            "Poland",
            "Portugal",
            "Romania",
            "Serbia",
            "Slovak Republic",
            "Slovenia",
            "Spain",
            "Sweden",
            "Switzerland",
            "Turkey",
            "United Kingdom"
           ],
           "legendgroup": "Europe",
           "locations": [
            "ALB",
            "AUT",
            "BEL",
            "BIH",
            "BGR",
            "HRV",
            "CZE",
            "DNK",
            "FIN",
            "FRA",
            "DEU",
            "GRC",
            "HUN",
            "ISL",
            "IRL",
            "ITA",
            "MNE",
            "NLD",
            "NOR",
            "POL",
            "PRT",
            "ROU",
            "SRB",
            "SVK",
            "SVN",
            "ESP",
            "SWE",
            "CHE",
            "TUR",
            "GBR"
           ],
           "marker": {
            "color": "#EF553B",
            "size": [
             3326498,
             7914969,
             10045622,
             4256013,
             8658506,
             4494013,
             10315702,
             5171393,
             5041039,
             57374179,
             80597764,
             10325429,
             10348684,
             259012,
             3557761,
             56840847,
             621621,
             15174244,
             4286357,
             38370697,
             9927680,
             22797027,
             9826397,
             5302888,
             1999210,
             39549438,
             8718867,
             6995447,
             58179144,
             57866349
            ],
            "sizemode": "area",
            "sizeref": 3296707.74,
            "symbol": "circle"
           },
           "mode": "markers",
           "name": "Europe",
           "showlegend": true,
           "type": "scattergeo"
          },
          {
           "geo": "geo",
           "hovertemplate": "<b>%{hovertext}</b><br><br>continent=Africa<br>year=1992<br>pop=%{marker.size}<br>iso_alpha=%{location}<extra></extra>",
           "hovertext": [
            "Algeria",
            "Angola",
            "Benin",
            "Botswana",
            "Burkina Faso",
            "Burundi",
            "Cameroon",
            "Central African Republic",
            "Chad",
            "Comoros",
            "Congo, Dem. Rep.",
            "Congo, Rep.",
            "Cote d'Ivoire",
            "Djibouti",
            "Egypt",
            "Equatorial Guinea",
            "Eritrea",
            "Ethiopia",
            "Gabon",
            "Gambia",
            "Ghana",
            "Guinea",
            "Guinea-Bissau",
            "Kenya",
            "Lesotho",
            "Liberia",
            "Libya",
            "Madagascar",
            "Malawi",
            "Mali",
            "Mauritania",
            "Mauritius",
            "Morocco",
            "Mozambique",
            "Namibia",
            "Niger",
            "Nigeria",
            "Reunion",
            "Rwanda",
            "Sao Tome and Principe",
            "Senegal",
            "Sierra Leone",
            "Somalia",
            "South Africa",
            "Sudan",
            "Swaziland",
            "Tanzania",
            "Togo",
            "Tunisia",
            "Uganda",
            "Zambia",
            "Zimbabwe"
           ],
           "legendgroup": "Africa",
           "locations": [
            "DZA",
            "AGO",
            "BEN",
            "BWA",
            "BFA",
            "BDI",
            "CMR",
            "CAF",
            "TCD",
            "COM",
            "COD",
            "COG",
            "CIV",
            "DJI",
            "EGY",
            "GNQ",
            "ERI",
            "ETH",
            "GAB",
            "GMB",
            "GHA",
            "GIN",
            "GNB",
            "KEN",
            "LSO",
            "LBR",
            "LBY",
            "MDG",
            "MWI",
            "MLI",
            "MRT",
            "MUS",
            "MAR",
            "MOZ",
            "NAM",
            "NER",
            "NGA",
            "REU",
            "RWA",
            "STP",
            "SEN",
            "SLE",
            "SOM",
            "ZAF",
            "SDN",
            "SWZ",
            "TZA",
            "TGO",
            "TUN",
            "UGA",
            "ZMB",
            "ZWE"
           ],
           "marker": {
            "color": "#00cc96",
            "size": [
             26298373,
             8735988,
             4981671,
             1342614,
             8878303,
             5809236,
             12467171,
             3265124,
             6429417,
             454429,
             41672143,
             2409073,
             12772596,
             384156,
             59402198,
             387838,
             3668440,
             52088559,
             985739,
             1025384,
             16278738,
             6990574,
             1050938,
             25020539,
             1803195,
             1912974,
             4364501,
             12210395,
             10014249,
             8416215,
             2119465,
             1096202,
             25798239,
             13160731,
             1554253,
             8392818,
             93364244,
             622191,
             7290203,
             125911,
             8307920,
             4260884,
             6099799,
             39964159,
             28227588,
             962344,
             26605473,
             3747553,
             8523077,
             18252190,
             8381163,
             10704340
            ],
            "sizemode": "area",
            "sizeref": 3296707.74,
            "symbol": "circle"
           },
           "mode": "markers",
           "name": "Africa",
           "showlegend": true,
           "type": "scattergeo"
          },
          {
           "geo": "geo",
           "hovertemplate": "<b>%{hovertext}</b><br><br>continent=Americas<br>year=1992<br>pop=%{marker.size}<br>iso_alpha=%{location}<extra></extra>",
           "hovertext": [
            "Argentina",
            "Bolivia",
            "Brazil",
            "Canada",
            "Chile",
            "Colombia",
            "Costa Rica",
            "Cuba",
            "Dominican Republic",
            "Ecuador",
            "El Salvador",
            "Guatemala",
            "Haiti",
            "Honduras",
            "Jamaica",
            "Mexico",
            "Nicaragua",
            "Panama",
            "Paraguay",
            "Peru",
            "Puerto Rico",
            "Trinidad and Tobago",
            "United States",
            "Uruguay",
            "Venezuela"
           ],
           "legendgroup": "Americas",
           "locations": [
            "ARG",
            "BOL",
            "BRA",
            "CAN",
            "CHL",
            "COL",
            "CRI",
            "CUB",
            "DOM",
            "ECU",
            "SLV",
            "GTM",
            "HTI",
            "HND",
            "JAM",
            "MEX",
            "NIC",
            "PAN",
            "PRY",
            "PER",
            "PRI",
            "TTO",
            "USA",
            "URY",
            "VEN"
           ],
           "marker": {
            "color": "#ab63fa",
            "size": [
             33958947,
             6893451,
             155975974,
             28523502,
             13572994,
             34202721,
             3173216,
             10723260,
             7351181,
             10748394,
             5274649,
             8486949,
             6326682,
             5077347,
             2378618,
             88111030,
             4017939,
             2484997,
             4483945,
             22430449,
             3585176,
             1183669,
             256894189,
             3149262,
             20265563
            ],
            "sizemode": "area",
            "sizeref": 3296707.74,
            "symbol": "circle"
           },
           "mode": "markers",
           "name": "Americas",
           "showlegend": true,
           "type": "scattergeo"
          },
          {
           "geo": "geo",
           "hovertemplate": "<b>%{hovertext}</b><br><br>continent=Oceania<br>year=1992<br>pop=%{marker.size}<br>iso_alpha=%{location}<extra></extra>",
           "hovertext": [
            "Australia",
            "New Zealand"
           ],
           "legendgroup": "Oceania",
           "locations": [
            "AUS",
            "NZL"
           ],
           "marker": {
            "color": "#FFA15A",
            "size": [
             17481977,
             3437674
            ],
            "sizemode": "area",
            "sizeref": 3296707.74,
            "symbol": "circle"
           },
           "mode": "markers",
           "name": "Oceania",
           "showlegend": true,
           "type": "scattergeo"
          }
         ],
         "name": "1992"
        },
        {
         "data": [
          {
           "geo": "geo",
           "hovertemplate": "<b>%{hovertext}</b><br><br>continent=Asia<br>year=1997<br>pop=%{marker.size}<br>iso_alpha=%{location}<extra></extra>",
           "hovertext": [
            "Afghanistan",
            "Bahrain",
            "Bangladesh",
            "Cambodia",
            "China",
            "Hong Kong, China",
            "India",
            "Indonesia",
            "Iran",
            "Iraq",
            "Israel",
            "Japan",
            "Jordan",
            "Korea, Dem. Rep.",
            "Korea, Rep.",
            "Kuwait",
            "Lebanon",
            "Malaysia",
            "Mongolia",
            "Myanmar",
            "Nepal",
            "Oman",
            "Pakistan",
            "Philippines",
            "Saudi Arabia",
            "Singapore",
            "Sri Lanka",
            "Syria",
            "Taiwan",
            "Thailand",
            "Vietnam",
            "West Bank and Gaza",
            "Yemen, Rep."
           ],
           "legendgroup": "Asia",
           "locations": [
            "AFG",
            "BHR",
            "BGD",
            "KHM",
            "CHN",
            "HKG",
            "IND",
            "IDN",
            "IRN",
            "IRQ",
            "ISR",
            "JPN",
            "JOR",
            "KOR",
            "KOR",
            "KWT",
            "LBN",
            "MYS",
            "MNG",
            "MMR",
            "NPL",
            "OMN",
            "PAK",
            "PHL",
            "SAU",
            "SGP",
            "LKA",
            "SYR",
            "TWN",
            "THA",
            "VNM",
            "PSE",
            "YEM"
           ],
           "marker": {
            "color": "#636efa",
            "size": [
             22227415,
             598561,
             123315288,
             11782962,
             1230075000,
             6495918,
             959000000,
             199278000,
             63327987,
             20775703,
             5531387,
             125956499,
             4526235,
             21585105,
             46173816,
             1765345,
             3430388,
             20476091,
             2494803,
             43247867,
             23001113,
             2283635,
             135564834,
             75012988,
             21229759,
             3802309,
             18698655,
             15081016,
             21628605,
             60216677,
             76048996,
             2826046,
             15826497
            ],
            "sizemode": "area",
            "sizeref": 3296707.74,
            "symbol": "circle"
           },
           "mode": "markers",
           "name": "Asia",
           "showlegend": true,
           "type": "scattergeo"
          },
          {
           "geo": "geo",
           "hovertemplate": "<b>%{hovertext}</b><br><br>continent=Europe<br>year=1997<br>pop=%{marker.size}<br>iso_alpha=%{location}<extra></extra>",
           "hovertext": [
            "Albania",
            "Austria",
            "Belgium",
            "Bosnia and Herzegovina",
            "Bulgaria",
            "Croatia",
            "Czech Republic",
            "Denmark",
            "Finland",
            "France",
            "Germany",
            "Greece",
            "Hungary",
            "Iceland",
            "Ireland",
            "Italy",
            "Montenegro",
            "Netherlands",
            "Norway",
            "Poland",
            "Portugal",
            "Romania",
            "Serbia",
            "Slovak Republic",
            "Slovenia",
            "Spain",
            "Sweden",
            "Switzerland",
            "Turkey",
            "United Kingdom"
           ],
           "legendgroup": "Europe",
           "locations": [
            "ALB",
            "AUT",
            "BEL",
            "BIH",
            "BGR",
            "HRV",
            "CZE",
            "DNK",
            "FIN",
            "FRA",
            "DEU",
            "GRC",
            "HUN",
            "ISL",
            "IRL",
            "ITA",
            "MNE",
            "NLD",
            "NOR",
            "POL",
            "PRT",
            "ROU",
            "SRB",
            "SVK",
            "SVN",
            "ESP",
            "SWE",
            "CHE",
            "TUR",
            "GBR"
           ],
           "marker": {
            "color": "#EF553B",
            "size": [
             3428038,
             8069876,
             10199787,
             3607000,
             8066057,
             4444595,
             10300707,
             5283663,
             5134406,
             58623428,
             82011073,
             10502372,
             10244684,
             271192,
             3667233,
             57479469,
             692651,
             15604464,
             4405672,
             38654957,
             10156415,
             22562458,
             10336594,
             5383010,
             2011612,
             39855442,
             8897619,
             7193761,
             63047647,
             58808266
            ],
            "sizemode": "area",
            "sizeref": 3296707.74,
            "symbol": "circle"
           },
           "mode": "markers",
           "name": "Europe",
           "showlegend": true,
           "type": "scattergeo"
          },
          {
           "geo": "geo",
           "hovertemplate": "<b>%{hovertext}</b><br><br>continent=Africa<br>year=1997<br>pop=%{marker.size}<br>iso_alpha=%{location}<extra></extra>",
           "hovertext": [
            "Algeria",
            "Angola",
            "Benin",
            "Botswana",
            "Burkina Faso",
            "Burundi",
            "Cameroon",
            "Central African Republic",
            "Chad",
            "Comoros",
            "Congo, Dem. Rep.",
            "Congo, Rep.",
            "Cote d'Ivoire",
            "Djibouti",
            "Egypt",
            "Equatorial Guinea",
            "Eritrea",
            "Ethiopia",
            "Gabon",
            "Gambia",
            "Ghana",
            "Guinea",
            "Guinea-Bissau",
            "Kenya",
            "Lesotho",
            "Liberia",
            "Libya",
            "Madagascar",
            "Malawi",
            "Mali",
            "Mauritania",
            "Mauritius",
            "Morocco",
            "Mozambique",
            "Namibia",
            "Niger",
            "Nigeria",
            "Reunion",
            "Rwanda",
            "Sao Tome and Principe",
            "Senegal",
            "Sierra Leone",
            "Somalia",
            "South Africa",
            "Sudan",
            "Swaziland",
            "Tanzania",
            "Togo",
            "Tunisia",
            "Uganda",
            "Zambia",
            "Zimbabwe"
           ],
           "legendgroup": "Africa",
           "locations": [
            "DZA",
            "AGO",
            "BEN",
            "BWA",
            "BFA",
            "BDI",
            "CMR",
            "CAF",
            "TCD",
            "COM",
            "COD",
            "COG",
            "CIV",
            "DJI",
            "EGY",
            "GNQ",
            "ERI",
            "ETH",
            "GAB",
            "GMB",
            "GHA",
            "GIN",
            "GNB",
            "KEN",
            "LSO",
            "LBR",
            "LBY",
            "MDG",
            "MWI",
            "MLI",
            "MRT",
            "MUS",
            "MAR",
            "MOZ",
            "NAM",
            "NER",
            "NGA",
            "REU",
            "RWA",
            "STP",
            "SEN",
            "SLE",
            "SOM",
            "ZAF",
            "SDN",
            "SWZ",
            "TZA",
            "TGO",
            "TUN",
            "UGA",
            "ZMB",
            "ZWE"
           ],
           "marker": {
            "color": "#00cc96",
            "size": [
             29072015,
             9875024,
             6066080,
             1536536,
             10352843,
             6121610,
             14195809,
             3696513,
             7562011,
             527982,
             47798986,
             2800947,
             14625967,
             417908,
             66134291,
             439971,
             4058319,
             59861301,
             1126189,
             1235767,
             18418288,
             8048834,
             1193708,
             28263827,
             1982823,
             2200725,
             4759670,
             14165114,
             10419991,
             9384984,
             2444741,
             1149818,
             28529501,
             16603334,
             1774766,
             9666252,
             106207839,
             684810,
             7212583,
             145608,
             9535314,
             4578212,
             6633514,
             42835005,
             32160729,
             1054486,
             30686889,
             4320890,
             9231669,
             21210254,
             9417789,
             11404948
            ],
            "sizemode": "area",
            "sizeref": 3296707.74,
            "symbol": "circle"
           },
           "mode": "markers",
           "name": "Africa",
           "showlegend": true,
           "type": "scattergeo"
          },
          {
           "geo": "geo",
           "hovertemplate": "<b>%{hovertext}</b><br><br>continent=Americas<br>year=1997<br>pop=%{marker.size}<br>iso_alpha=%{location}<extra></extra>",
           "hovertext": [
            "Argentina",
            "Bolivia",
            "Brazil",
            "Canada",
            "Chile",
            "Colombia",
            "Costa Rica",
            "Cuba",
            "Dominican Republic",
            "Ecuador",
            "El Salvador",
            "Guatemala",
            "Haiti",
            "Honduras",
            "Jamaica",
            "Mexico",
            "Nicaragua",
            "Panama",
            "Paraguay",
            "Peru",
            "Puerto Rico",
            "Trinidad and Tobago",
            "United States",
            "Uruguay",
            "Venezuela"
           ],
           "legendgroup": "Americas",
           "locations": [
            "ARG",
            "BOL",
            "BRA",
            "CAN",
            "CHL",
            "COL",
            "CRI",
            "CUB",
            "DOM",
            "ECU",
            "SLV",
            "GTM",
            "HTI",
            "HND",
            "JAM",
            "MEX",
            "NIC",
            "PAN",
            "PRY",
            "PER",
            "PRI",
            "TTO",
            "USA",
            "URY",
            "VEN"
           ],
           "marker": {
            "color": "#ab63fa",
            "size": [
             36203463,
             7693188,
             168546719,
             30305843,
             14599929,
             37657830,
             3518107,
             10983007,
             7992357,
             11911819,
             5783439,
             9803875,
             6913545,
             5867957,
             2531311,
             95895146,
             4609572,
             2734531,
             5154123,
             24748122,
             3759430,
             1138101,
             272911760,
             3262838,
             22374398
            ],
            "sizemode": "area",
            "sizeref": 3296707.74,
            "symbol": "circle"
           },
           "mode": "markers",
           "name": "Americas",
           "showlegend": true,
           "type": "scattergeo"
          },
          {
           "geo": "geo",
           "hovertemplate": "<b>%{hovertext}</b><br><br>continent=Oceania<br>year=1997<br>pop=%{marker.size}<br>iso_alpha=%{location}<extra></extra>",
           "hovertext": [
            "Australia",
            "New Zealand"
           ],
           "legendgroup": "Oceania",
           "locations": [
            "AUS",
            "NZL"
           ],
           "marker": {
            "color": "#FFA15A",
            "size": [
             18565243,
             3676187
            ],
            "sizemode": "area",
            "sizeref": 3296707.74,
            "symbol": "circle"
           },
           "mode": "markers",
           "name": "Oceania",
           "showlegend": true,
           "type": "scattergeo"
          }
         ],
         "name": "1997"
        },
        {
         "data": [
          {
           "geo": "geo",
           "hovertemplate": "<b>%{hovertext}</b><br><br>continent=Asia<br>year=2002<br>pop=%{marker.size}<br>iso_alpha=%{location}<extra></extra>",
           "hovertext": [
            "Afghanistan",
            "Bahrain",
            "Bangladesh",
            "Cambodia",
            "China",
            "Hong Kong, China",
            "India",
            "Indonesia",
            "Iran",
            "Iraq",
            "Israel",
            "Japan",
            "Jordan",
            "Korea, Dem. Rep.",
            "Korea, Rep.",
            "Kuwait",
            "Lebanon",
            "Malaysia",
            "Mongolia",
            "Myanmar",
            "Nepal",
            "Oman",
            "Pakistan",
            "Philippines",
            "Saudi Arabia",
            "Singapore",
            "Sri Lanka",
            "Syria",
            "Taiwan",
            "Thailand",
            "Vietnam",
            "West Bank and Gaza",
            "Yemen, Rep."
           ],
           "legendgroup": "Asia",
           "locations": [
            "AFG",
            "BHR",
            "BGD",
            "KHM",
            "CHN",
            "HKG",
            "IND",
            "IDN",
            "IRN",
            "IRQ",
            "ISR",
            "JPN",
            "JOR",
            "KOR",
            "KOR",
            "KWT",
            "LBN",
            "MYS",
            "MNG",
            "MMR",
            "NPL",
            "OMN",
            "PAK",
            "PHL",
            "SAU",
            "SGP",
            "LKA",
            "SYR",
            "TWN",
            "THA",
            "VNM",
            "PSE",
            "YEM"
           ],
           "marker": {
            "color": "#636efa",
            "size": [
             25268405,
             656397,
             135656790,
             12926707,
             1280400000,
             6762476,
             1034172547,
             211060000,
             66907826,
             24001816,
             6029529,
             127065841,
             5307470,
             22215365,
             47969150,
             2111561,
             3677780,
             22662365,
             2674234,
             45598081,
             25873917,
             2713462,
             153403524,
             82995088,
             24501530,
             4197776,
             19576783,
             17155814,
             22454239,
             62806748,
             80908147,
             3389578,
             18701257
            ],
            "sizemode": "area",
            "sizeref": 3296707.74,
            "symbol": "circle"
           },
           "mode": "markers",
           "name": "Asia",
           "showlegend": true,
           "type": "scattergeo"
          },
          {
           "geo": "geo",
           "hovertemplate": "<b>%{hovertext}</b><br><br>continent=Europe<br>year=2002<br>pop=%{marker.size}<br>iso_alpha=%{location}<extra></extra>",
           "hovertext": [
            "Albania",
            "Austria",
            "Belgium",
            "Bosnia and Herzegovina",
            "Bulgaria",
            "Croatia",
            "Czech Republic",
            "Denmark",
            "Finland",
            "France",
            "Germany",
            "Greece",
            "Hungary",
            "Iceland",
            "Ireland",
            "Italy",
            "Montenegro",
            "Netherlands",
            "Norway",
            "Poland",
            "Portugal",
            "Romania",
            "Serbia",
            "Slovak Republic",
            "Slovenia",
            "Spain",
            "Sweden",
            "Switzerland",
            "Turkey",
            "United Kingdom"
           ],
           "legendgroup": "Europe",
           "locations": [
            "ALB",
            "AUT",
            "BEL",
            "BIH",
            "BGR",
            "HRV",
            "CZE",
            "DNK",
            "FIN",
            "FRA",
            "DEU",
            "GRC",
            "HUN",
            "ISL",
            "IRL",
            "ITA",
            "MNE",
            "NLD",
            "NOR",
            "POL",
            "PRT",
            "ROU",
            "SRB",
            "SVK",
            "SVN",
            "ESP",
            "SWE",
            "CHE",
            "TUR",
            "GBR"
           ],
           "marker": {
            "color": "#EF553B",
            "size": [
             3508512,
             8148312,
             10311970,
             4165416,
             7661799,
             4481020,
             10256295,
             5374693,
             5193039,
             59925035,
             82350671,
             10603863,
             10083313,
             288030,
             3879155,
             57926999,
             720230,
             16122830,
             4535591,
             38625976,
             10433867,
             22404337,
             10111559,
             5410052,
             2011497,
             40152517,
             8954175,
             7361757,
             67308928,
             59912431
            ],
            "sizemode": "area",
            "sizeref": 3296707.74,
            "symbol": "circle"
           },
           "mode": "markers",
           "name": "Europe",
           "showlegend": true,
           "type": "scattergeo"
          },
          {
           "geo": "geo",
           "hovertemplate": "<b>%{hovertext}</b><br><br>continent=Africa<br>year=2002<br>pop=%{marker.size}<br>iso_alpha=%{location}<extra></extra>",
           "hovertext": [
            "Algeria",
            "Angola",
            "Benin",
            "Botswana",
            "Burkina Faso",
            "Burundi",
            "Cameroon",
            "Central African Republic",
            "Chad",
            "Comoros",
            "Congo, Dem. Rep.",
            "Congo, Rep.",
            "Cote d'Ivoire",
            "Djibouti",
            "Egypt",
            "Equatorial Guinea",
            "Eritrea",
            "Ethiopia",
            "Gabon",
            "Gambia",
            "Ghana",
            "Guinea",
            "Guinea-Bissau",
            "Kenya",
            "Lesotho",
            "Liberia",
            "Libya",
            "Madagascar",
            "Malawi",
            "Mali",
            "Mauritania",
            "Mauritius",
            "Morocco",
            "Mozambique",
            "Namibia",
            "Niger",
            "Nigeria",
            "Reunion",
            "Rwanda",
            "Sao Tome and Principe",
            "Senegal",
            "Sierra Leone",
            "Somalia",
            "South Africa",
            "Sudan",
            "Swaziland",
            "Tanzania",
            "Togo",
            "Tunisia",
            "Uganda",
            "Zambia",
            "Zimbabwe"
           ],
           "legendgroup": "Africa",
           "locations": [
            "DZA",
            "AGO",
            "BEN",
            "BWA",
            "BFA",
            "BDI",
            "CMR",
            "CAF",
            "TCD",
            "COM",
            "COD",
            "COG",
            "CIV",
            "DJI",
            "EGY",
            "GNQ",
            "ERI",
            "ETH",
            "GAB",
            "GMB",
            "GHA",
            "GIN",
            "GNB",
            "KEN",
            "LSO",
            "LBR",
            "LBY",
            "MDG",
            "MWI",
            "MLI",
            "MRT",
            "MUS",
            "MAR",
            "MOZ",
            "NAM",
            "NER",
            "NGA",
            "REU",
            "RWA",
            "STP",
            "SEN",
            "SLE",
            "SOM",
            "ZAF",
            "SDN",
            "SWZ",
            "TZA",
            "TGO",
            "TUN",
            "UGA",
            "ZMB",
            "ZWE"
           ],
           "marker": {
            "color": "#00cc96",
            "size": [
             31287142,
             10866106,
             7026113,
             1630347,
             12251209,
             7021078,
             15929988,
             4048013,
             8835739,
             614382,
             55379852,
             3328795,
             16252726,
             447416,
             73312559,
             495627,
             4414865,
             67946797,
             1299304,
             1457766,
             20550751,
             8807818,
             1332459,
             31386842,
             2046772,
             2814651,
             5368585,
             16473477,
             11824495,
             10580176,
             2828858,
             1200206,
             31167783,
             18473780,
             1972153,
             11140655,
             119901274,
             743981,
             7852401,
             170372,
             10870037,
             5359092,
             7753310,
             44433622,
             37090298,
             1130269,
             34593779,
             4977378,
             9770575,
             24739869,
             10595811,
             11926563
            ],
            "sizemode": "area",
            "sizeref": 3296707.74,
            "symbol": "circle"
           },
           "mode": "markers",
           "name": "Africa",
           "showlegend": true,
           "type": "scattergeo"
          },
          {
           "geo": "geo",
           "hovertemplate": "<b>%{hovertext}</b><br><br>continent=Americas<br>year=2002<br>pop=%{marker.size}<br>iso_alpha=%{location}<extra></extra>",
           "hovertext": [
            "Argentina",
            "Bolivia",
            "Brazil",
            "Canada",
            "Chile",
            "Colombia",
            "Costa Rica",
            "Cuba",
            "Dominican Republic",
            "Ecuador",
            "El Salvador",
            "Guatemala",
            "Haiti",
            "Honduras",
            "Jamaica",
            "Mexico",
            "Nicaragua",
            "Panama",
            "Paraguay",
            "Peru",
            "Puerto Rico",
            "Trinidad and Tobago",
            "United States",
            "Uruguay",
            "Venezuela"
           ],
           "legendgroup": "Americas",
           "locations": [
            "ARG",
            "BOL",
            "BRA",
            "CAN",
            "CHL",
            "COL",
            "CRI",
            "CUB",
            "DOM",
            "ECU",
            "SLV",
            "GTM",
            "HTI",
            "HND",
            "JAM",
            "MEX",
            "NIC",
            "PAN",
            "PRY",
            "PER",
            "PRI",
            "TTO",
            "USA",
            "URY",
            "VEN"
           ],
           "marker": {
            "color": "#ab63fa",
            "size": [
             38331121,
             8445134,
             179914212,
             31902268,
             15497046,
             41008227,
             3834934,
             11226999,
             8650322,
             12921234,
             6353681,
             11178650,
             7607651,
             6677328,
             2664659,
             102479927,
             5146848,
             2990875,
             5884491,
             26769436,
             3859606,
             1101832,
             287675526,
             3363085,
             24287670
            ],
            "sizemode": "area",
            "sizeref": 3296707.74,
            "symbol": "circle"
           },
           "mode": "markers",
           "name": "Americas",
           "showlegend": true,
           "type": "scattergeo"
          },
          {
           "geo": "geo",
           "hovertemplate": "<b>%{hovertext}</b><br><br>continent=Oceania<br>year=2002<br>pop=%{marker.size}<br>iso_alpha=%{location}<extra></extra>",
           "hovertext": [
            "Australia",
            "New Zealand"
           ],
           "legendgroup": "Oceania",
           "locations": [
            "AUS",
            "NZL"
           ],
           "marker": {
            "color": "#FFA15A",
            "size": [
             19546792,
             3908037
            ],
            "sizemode": "area",
            "sizeref": 3296707.74,
            "symbol": "circle"
           },
           "mode": "markers",
           "name": "Oceania",
           "showlegend": true,
           "type": "scattergeo"
          }
         ],
         "name": "2002"
        },
        {
         "data": [
          {
           "geo": "geo",
           "hovertemplate": "<b>%{hovertext}</b><br><br>continent=Asia<br>year=2007<br>pop=%{marker.size}<br>iso_alpha=%{location}<extra></extra>",
           "hovertext": [
            "Afghanistan",
            "Bahrain",
            "Bangladesh",
            "Cambodia",
            "China",
            "Hong Kong, China",
            "India",
            "Indonesia",
            "Iran",
            "Iraq",
            "Israel",
            "Japan",
            "Jordan",
            "Korea, Dem. Rep.",
            "Korea, Rep.",
            "Kuwait",
            "Lebanon",
            "Malaysia",
            "Mongolia",
            "Myanmar",
            "Nepal",
            "Oman",
            "Pakistan",
            "Philippines",
            "Saudi Arabia",
            "Singapore",
            "Sri Lanka",
            "Syria",
            "Taiwan",
            "Thailand",
            "Vietnam",
            "West Bank and Gaza",
            "Yemen, Rep."
           ],
           "legendgroup": "Asia",
           "locations": [
            "AFG",
            "BHR",
            "BGD",
            "KHM",
            "CHN",
            "HKG",
            "IND",
            "IDN",
            "IRN",
            "IRQ",
            "ISR",
            "JPN",
            "JOR",
            "KOR",
            "KOR",
            "KWT",
            "LBN",
            "MYS",
            "MNG",
            "MMR",
            "NPL",
            "OMN",
            "PAK",
            "PHL",
            "SAU",
            "SGP",
            "LKA",
            "SYR",
            "TWN",
            "THA",
            "VNM",
            "PSE",
            "YEM"
           ],
           "marker": {
            "color": "#636efa",
            "size": [
             31889923,
             708573,
             150448339,
             14131858,
             1318683096,
             6980412,
             1110396331,
             223547000,
             69453570,
             27499638,
             6426679,
             127467972,
             6053193,
             23301725,
             49044790,
             2505559,
             3921278,
             24821286,
             2874127,
             47761980,
             28901790,
             3204897,
             169270617,
             91077287,
             27601038,
             4553009,
             20378239,
             19314747,
             23174294,
             65068149,
             85262356,
             4018332,
             22211743
            ],
            "sizemode": "area",
            "sizeref": 3296707.74,
            "symbol": "circle"
           },
           "mode": "markers",
           "name": "Asia",
           "showlegend": true,
           "type": "scattergeo"
          },
          {
           "geo": "geo",
           "hovertemplate": "<b>%{hovertext}</b><br><br>continent=Europe<br>year=2007<br>pop=%{marker.size}<br>iso_alpha=%{location}<extra></extra>",
           "hovertext": [
            "Albania",
            "Austria",
            "Belgium",
            "Bosnia and Herzegovina",
            "Bulgaria",
            "Croatia",
            "Czech Republic",
            "Denmark",
            "Finland",
            "France",
            "Germany",
            "Greece",
            "Hungary",
            "Iceland",
            "Ireland",
            "Italy",
            "Montenegro",
            "Netherlands",
            "Norway",
            "Poland",
            "Portugal",
            "Romania",
            "Serbia",
            "Slovak Republic",
            "Slovenia",
            "Spain",
            "Sweden",
            "Switzerland",
            "Turkey",
            "United Kingdom"
           ],
           "legendgroup": "Europe",
           "locations": [
            "ALB",
            "AUT",
            "BEL",
            "BIH",
            "BGR",
            "HRV",
            "CZE",
            "DNK",
            "FIN",
            "FRA",
            "DEU",
            "GRC",
            "HUN",
            "ISL",
            "IRL",
            "ITA",
            "MNE",
            "NLD",
            "NOR",
            "POL",
            "PRT",
            "ROU",
            "SRB",
            "SVK",
            "SVN",
            "ESP",
            "SWE",
            "CHE",
            "TUR",
            "GBR"
           ],
           "marker": {
            "color": "#EF553B",
            "size": [
             3600523,
             8199783,
             10392226,
             4552198,
             7322858,
             4493312,
             10228744,
             5468120,
             5238460,
             61083916,
             82400996,
             10706290,
             9956108,
             301931,
             4109086,
             58147733,
             684736,
             16570613,
             4627926,
             38518241,
             10642836,
             22276056,
             10150265,
             5447502,
             2009245,
             40448191,
             9031088,
             7554661,
             71158647,
             60776238
            ],
            "sizemode": "area",
            "sizeref": 3296707.74,
            "symbol": "circle"
           },
           "mode": "markers",
           "name": "Europe",
           "showlegend": true,
           "type": "scattergeo"
          },
          {
           "geo": "geo",
           "hovertemplate": "<b>%{hovertext}</b><br><br>continent=Africa<br>year=2007<br>pop=%{marker.size}<br>iso_alpha=%{location}<extra></extra>",
           "hovertext": [
            "Algeria",
            "Angola",
            "Benin",
            "Botswana",
            "Burkina Faso",
            "Burundi",
            "Cameroon",
            "Central African Republic",
            "Chad",
            "Comoros",
            "Congo, Dem. Rep.",
            "Congo, Rep.",
            "Cote d'Ivoire",
            "Djibouti",
            "Egypt",
            "Equatorial Guinea",
            "Eritrea",
            "Ethiopia",
            "Gabon",
            "Gambia",
            "Ghana",
            "Guinea",
            "Guinea-Bissau",
            "Kenya",
            "Lesotho",
            "Liberia",
            "Libya",
            "Madagascar",
            "Malawi",
            "Mali",
            "Mauritania",
            "Mauritius",
            "Morocco",
            "Mozambique",
            "Namibia",
            "Niger",
            "Nigeria",
            "Reunion",
            "Rwanda",
            "Sao Tome and Principe",
            "Senegal",
            "Sierra Leone",
            "Somalia",
            "South Africa",
            "Sudan",
            "Swaziland",
            "Tanzania",
            "Togo",
            "Tunisia",
            "Uganda",
            "Zambia",
            "Zimbabwe"
           ],
           "legendgroup": "Africa",
           "locations": [
            "DZA",
            "AGO",
            "BEN",
            "BWA",
            "BFA",
            "BDI",
            "CMR",
            "CAF",
            "TCD",
            "COM",
            "COD",
            "COG",
            "CIV",
            "DJI",
            "EGY",
            "GNQ",
            "ERI",
            "ETH",
            "GAB",
            "GMB",
            "GHA",
            "GIN",
            "GNB",
            "KEN",
            "LSO",
            "LBR",
            "LBY",
            "MDG",
            "MWI",
            "MLI",
            "MRT",
            "MUS",
            "MAR",
            "MOZ",
            "NAM",
            "NER",
            "NGA",
            "REU",
            "RWA",
            "STP",
            "SEN",
            "SLE",
            "SOM",
            "ZAF",
            "SDN",
            "SWZ",
            "TZA",
            "TGO",
            "TUN",
            "UGA",
            "ZMB",
            "ZWE"
           ],
           "marker": {
            "color": "#00cc96",
            "size": [
             33333216,
             12420476,
             8078314,
             1639131,
             14326203,
             8390505,
             17696293,
             4369038,
             10238807,
             710960,
             64606759,
             3800610,
             18013409,
             496374,
             80264543,
             551201,
             4906585,
             76511887,
             1454867,
             1688359,
             22873338,
             9947814,
             1472041,
             35610177,
             2012649,
             3193942,
             6036914,
             19167654,
             13327079,
             12031795,
             3270065,
             1250882,
             33757175,
             19951656,
             2055080,
             12894865,
             135031164,
             798094,
             8860588,
             199579,
             12267493,
             6144562,
             9118773,
             43997828,
             42292929,
             1133066,
             38139640,
             5701579,
             10276158,
             29170398,
             11746035,
             12311143
            ],
            "sizemode": "area",
            "sizeref": 3296707.74,
            "symbol": "circle"
           },
           "mode": "markers",
           "name": "Africa",
           "showlegend": true,
           "type": "scattergeo"
          },
          {
           "geo": "geo",
           "hovertemplate": "<b>%{hovertext}</b><br><br>continent=Americas<br>year=2007<br>pop=%{marker.size}<br>iso_alpha=%{location}<extra></extra>",
           "hovertext": [
            "Argentina",
            "Bolivia",
            "Brazil",
            "Canada",
            "Chile",
            "Colombia",
            "Costa Rica",
            "Cuba",
            "Dominican Republic",
            "Ecuador",
            "El Salvador",
            "Guatemala",
            "Haiti",
            "Honduras",
            "Jamaica",
            "Mexico",
            "Nicaragua",
            "Panama",
            "Paraguay",
            "Peru",
            "Puerto Rico",
            "Trinidad and Tobago",
            "United States",
            "Uruguay",
            "Venezuela"
           ],
           "legendgroup": "Americas",
           "locations": [
            "ARG",
            "BOL",
            "BRA",
            "CAN",
            "CHL",
            "COL",
            "CRI",
            "CUB",
            "DOM",
            "ECU",
            "SLV",
            "GTM",
            "HTI",
            "HND",
            "JAM",
            "MEX",
            "NIC",
            "PAN",
            "PRY",
            "PER",
            "PRI",
            "TTO",
            "USA",
            "URY",
            "VEN"
           ],
           "marker": {
            "color": "#ab63fa",
            "size": [
             40301927,
             9119152,
             190010647,
             33390141,
             16284741,
             44227550,
             4133884,
             11416987,
             9319622,
             13755680,
             6939688,
             12572928,
             8502814,
             7483763,
             2780132,
             108700891,
             5675356,
             3242173,
             6667147,
             28674757,
             3942491,
             1056608,
             301139947,
             3447496,
             26084662
            ],
            "sizemode": "area",
            "sizeref": 3296707.74,
            "symbol": "circle"
           },
           "mode": "markers",
           "name": "Americas",
           "showlegend": true,
           "type": "scattergeo"
          },
          {
           "geo": "geo",
           "hovertemplate": "<b>%{hovertext}</b><br><br>continent=Oceania<br>year=2007<br>pop=%{marker.size}<br>iso_alpha=%{location}<extra></extra>",
           "hovertext": [
            "Australia",
            "New Zealand"
           ],
           "legendgroup": "Oceania",
           "locations": [
            "AUS",
            "NZL"
           ],
           "marker": {
            "color": "#FFA15A",
            "size": [
             20434176,
             4115771
            ],
            "sizemode": "area",
            "sizeref": 3296707.74,
            "symbol": "circle"
           },
           "mode": "markers",
           "name": "Oceania",
           "showlegend": true,
           "type": "scattergeo"
          }
         ],
         "name": "2007"
        }
       ],
       "layout": {
        "geo": {
         "center": {},
         "domain": {
          "x": [
           0,
           1
          ],
          "y": [
           0,
           1
          ]
         },
         "projection": {
          "type": "natural earth"
         }
        },
        "legend": {
         "itemsizing": "constant",
         "title": {
          "text": "continent"
         },
         "tracegroupgap": 0
        },
        "margin": {
         "t": 60
        },
        "sliders": [
         {
          "active": 0,
          "currentvalue": {
           "prefix": "year="
          },
          "len": 0.9,
          "pad": {
           "b": 10,
           "t": 60
          },
          "steps": [
           {
            "args": [
             [
              "1952"
             ],
             {
              "frame": {
               "duration": 0,
               "redraw": true
              },
              "fromcurrent": true,
              "mode": "immediate",
              "transition": {
               "duration": 0,
               "easing": "linear"
              }
             }
            ],
            "label": "1952",
            "method": "animate"
           },
           {
            "args": [
             [
              "1957"
             ],
             {
              "frame": {
               "duration": 0,
               "redraw": true
              },
              "fromcurrent": true,
              "mode": "immediate",
              "transition": {
               "duration": 0,
               "easing": "linear"
              }
             }
            ],
            "label": "1957",
            "method": "animate"
           },
           {
            "args": [
             [
              "1962"
             ],
             {
              "frame": {
               "duration": 0,
               "redraw": true
              },
              "fromcurrent": true,
              "mode": "immediate",
              "transition": {
               "duration": 0,
               "easing": "linear"
              }
             }
            ],
            "label": "1962",
            "method": "animate"
           },
           {
            "args": [
             [
              "1967"
             ],
             {
              "frame": {
               "duration": 0,
               "redraw": true
              },
              "fromcurrent": true,
              "mode": "immediate",
              "transition": {
               "duration": 0,
               "easing": "linear"
              }
             }
            ],
            "label": "1967",
            "method": "animate"
           },
           {
            "args": [
             [
              "1972"
             ],
             {
              "frame": {
               "duration": 0,
               "redraw": true
              },
              "fromcurrent": true,
              "mode": "immediate",
              "transition": {
               "duration": 0,
               "easing": "linear"
              }
             }
            ],
            "label": "1972",
            "method": "animate"
           },
           {
            "args": [
             [
              "1977"
             ],
             {
              "frame": {
               "duration": 0,
               "redraw": true
              },
              "fromcurrent": true,
              "mode": "immediate",
              "transition": {
               "duration": 0,
               "easing": "linear"
              }
             }
            ],
            "label": "1977",
            "method": "animate"
           },
           {
            "args": [
             [
              "1982"
             ],
             {
              "frame": {
               "duration": 0,
               "redraw": true
              },
              "fromcurrent": true,
              "mode": "immediate",
              "transition": {
               "duration": 0,
               "easing": "linear"
              }
             }
            ],
            "label": "1982",
            "method": "animate"
           },
           {
            "args": [
             [
              "1987"
             ],
             {
              "frame": {
               "duration": 0,
               "redraw": true
              },
              "fromcurrent": true,
              "mode": "immediate",
              "transition": {
               "duration": 0,
               "easing": "linear"
              }
             }
            ],
            "label": "1987",
            "method": "animate"
           },
           {
            "args": [
             [
              "1992"
             ],
             {
              "frame": {
               "duration": 0,
               "redraw": true
              },
              "fromcurrent": true,
              "mode": "immediate",
              "transition": {
               "duration": 0,
               "easing": "linear"
              }
             }
            ],
            "label": "1992",
            "method": "animate"
           },
           {
            "args": [
             [
              "1997"
             ],
             {
              "frame": {
               "duration": 0,
               "redraw": true
              },
              "fromcurrent": true,
              "mode": "immediate",
              "transition": {
               "duration": 0,
               "easing": "linear"
              }
             }
            ],
            "label": "1997",
            "method": "animate"
           },
           {
            "args": [
             [
              "2002"
             ],
             {
              "frame": {
               "duration": 0,
               "redraw": true
              },
              "fromcurrent": true,
              "mode": "immediate",
              "transition": {
               "duration": 0,
               "easing": "linear"
              }
             }
            ],
            "label": "2002",
            "method": "animate"
           },
           {
            "args": [
             [
              "2007"
             ],
             {
              "frame": {
               "duration": 0,
               "redraw": true
              },
              "fromcurrent": true,
              "mode": "immediate",
              "transition": {
               "duration": 0,
               "easing": "linear"
              }
             }
            ],
            "label": "2007",
            "method": "animate"
           }
          ],
          "x": 0.1,
          "xanchor": "left",
          "y": 0,
          "yanchor": "top"
         }
        ],
        "template": {
         "data": {
          "bar": [
           {
            "error_x": {
             "color": "#2a3f5f"
            },
            "error_y": {
             "color": "#2a3f5f"
            },
            "marker": {
             "line": {
              "color": "#E5ECF6",
              "width": 0.5
             },
             "pattern": {
              "fillmode": "overlay",
              "size": 10,
              "solidity": 0.2
             }
            },
            "type": "bar"
           }
          ],
          "barpolar": [
           {
            "marker": {
             "line": {
              "color": "#E5ECF6",
              "width": 0.5
             },
             "pattern": {
              "fillmode": "overlay",
              "size": 10,
              "solidity": 0.2
             }
            },
            "type": "barpolar"
           }
          ],
          "carpet": [
           {
            "aaxis": {
             "endlinecolor": "#2a3f5f",
             "gridcolor": "white",
             "linecolor": "white",
             "minorgridcolor": "white",
             "startlinecolor": "#2a3f5f"
            },
            "baxis": {
             "endlinecolor": "#2a3f5f",
             "gridcolor": "white",
             "linecolor": "white",
             "minorgridcolor": "white",
             "startlinecolor": "#2a3f5f"
            },
            "type": "carpet"
           }
          ],
          "choropleth": [
           {
            "colorbar": {
             "outlinewidth": 0,
             "ticks": ""
            },
            "type": "choropleth"
           }
          ],
          "contour": [
           {
            "colorbar": {
             "outlinewidth": 0,
             "ticks": ""
            },
            "colorscale": [
             [
              0,
              "#0d0887"
             ],
             [
              0.1111111111111111,
              "#46039f"
             ],
             [
              0.2222222222222222,
              "#7201a8"
             ],
             [
              0.3333333333333333,
              "#9c179e"
             ],
             [
              0.4444444444444444,
              "#bd3786"
             ],
             [
              0.5555555555555556,
              "#d8576b"
             ],
             [
              0.6666666666666666,
              "#ed7953"
             ],
             [
              0.7777777777777778,
              "#fb9f3a"
             ],
             [
              0.8888888888888888,
              "#fdca26"
             ],
             [
              1,
              "#f0f921"
             ]
            ],
            "type": "contour"
           }
          ],
          "contourcarpet": [
           {
            "colorbar": {
             "outlinewidth": 0,
             "ticks": ""
            },
            "type": "contourcarpet"
           }
          ],
          "heatmap": [
           {
            "colorbar": {
             "outlinewidth": 0,
             "ticks": ""
            },
            "colorscale": [
             [
              0,
              "#0d0887"
             ],
             [
              0.1111111111111111,
              "#46039f"
             ],
             [
              0.2222222222222222,
              "#7201a8"
             ],
             [
              0.3333333333333333,
              "#9c179e"
             ],
             [
              0.4444444444444444,
              "#bd3786"
             ],
             [
              0.5555555555555556,
              "#d8576b"
             ],
             [
              0.6666666666666666,
              "#ed7953"
             ],
             [
              0.7777777777777778,
              "#fb9f3a"
             ],
             [
              0.8888888888888888,
              "#fdca26"
             ],
             [
              1,
              "#f0f921"
             ]
            ],
            "type": "heatmap"
           }
          ],
          "heatmapgl": [
           {
            "colorbar": {
             "outlinewidth": 0,
             "ticks": ""
            },
            "colorscale": [
             [
              0,
              "#0d0887"
             ],
             [
              0.1111111111111111,
              "#46039f"
             ],
             [
              0.2222222222222222,
              "#7201a8"
             ],
             [
              0.3333333333333333,
              "#9c179e"
             ],
             [
              0.4444444444444444,
              "#bd3786"
             ],
             [
              0.5555555555555556,
              "#d8576b"
             ],
             [
              0.6666666666666666,
              "#ed7953"
             ],
             [
              0.7777777777777778,
              "#fb9f3a"
             ],
             [
              0.8888888888888888,
              "#fdca26"
             ],
             [
              1,
              "#f0f921"
             ]
            ],
            "type": "heatmapgl"
           }
          ],
          "histogram": [
           {
            "marker": {
             "pattern": {
              "fillmode": "overlay",
              "size": 10,
              "solidity": 0.2
             }
            },
            "type": "histogram"
           }
          ],
          "histogram2d": [
           {
            "colorbar": {
             "outlinewidth": 0,
             "ticks": ""
            },
            "colorscale": [
             [
              0,
              "#0d0887"
             ],
             [
              0.1111111111111111,
              "#46039f"
             ],
             [
              0.2222222222222222,
              "#7201a8"
             ],
             [
              0.3333333333333333,
              "#9c179e"
             ],
             [
              0.4444444444444444,
              "#bd3786"
             ],
             [
              0.5555555555555556,
              "#d8576b"
             ],
             [
              0.6666666666666666,
              "#ed7953"
             ],
             [
              0.7777777777777778,
              "#fb9f3a"
             ],
             [
              0.8888888888888888,
              "#fdca26"
             ],
             [
              1,
              "#f0f921"
             ]
            ],
            "type": "histogram2d"
           }
          ],
          "histogram2dcontour": [
           {
            "colorbar": {
             "outlinewidth": 0,
             "ticks": ""
            },
            "colorscale": [
             [
              0,
              "#0d0887"
             ],
             [
              0.1111111111111111,
              "#46039f"
             ],
             [
              0.2222222222222222,
              "#7201a8"
             ],
             [
              0.3333333333333333,
              "#9c179e"
             ],
             [
              0.4444444444444444,
              "#bd3786"
             ],
             [
              0.5555555555555556,
              "#d8576b"
             ],
             [
              0.6666666666666666,
              "#ed7953"
             ],
             [
              0.7777777777777778,
              "#fb9f3a"
             ],
             [
              0.8888888888888888,
              "#fdca26"
             ],
             [
              1,
              "#f0f921"
             ]
            ],
            "type": "histogram2dcontour"
           }
          ],
          "mesh3d": [
           {
            "colorbar": {
             "outlinewidth": 0,
             "ticks": ""
            },
            "type": "mesh3d"
           }
          ],
          "parcoords": [
           {
            "line": {
             "colorbar": {
              "outlinewidth": 0,
              "ticks": ""
             }
            },
            "type": "parcoords"
           }
          ],
          "pie": [
           {
            "automargin": true,
            "type": "pie"
           }
          ],
          "scatter": [
           {
            "fillpattern": {
             "fillmode": "overlay",
             "size": 10,
             "solidity": 0.2
            },
            "type": "scatter"
           }
          ],
          "scatter3d": [
           {
            "line": {
             "colorbar": {
              "outlinewidth": 0,
              "ticks": ""
             }
            },
            "marker": {
             "colorbar": {
              "outlinewidth": 0,
              "ticks": ""
             }
            },
            "type": "scatter3d"
           }
          ],
          "scattercarpet": [
           {
            "marker": {
             "colorbar": {
              "outlinewidth": 0,
              "ticks": ""
             }
            },
            "type": "scattercarpet"
           }
          ],
          "scattergeo": [
           {
            "marker": {
             "colorbar": {
              "outlinewidth": 0,
              "ticks": ""
             }
            },
            "type": "scattergeo"
           }
          ],
          "scattergl": [
           {
            "marker": {
             "colorbar": {
              "outlinewidth": 0,
              "ticks": ""
             }
            },
            "type": "scattergl"
           }
          ],
          "scattermapbox": [
           {
            "marker": {
             "colorbar": {
              "outlinewidth": 0,
              "ticks": ""
             }
            },
            "type": "scattermapbox"
           }
          ],
          "scatterpolar": [
           {
            "marker": {
             "colorbar": {
              "outlinewidth": 0,
              "ticks": ""
             }
            },
            "type": "scatterpolar"
           }
          ],
          "scatterpolargl": [
           {
            "marker": {
             "colorbar": {
              "outlinewidth": 0,
              "ticks": ""
             }
            },
            "type": "scatterpolargl"
           }
          ],
          "scatterternary": [
           {
            "marker": {
             "colorbar": {
              "outlinewidth": 0,
              "ticks": ""
             }
            },
            "type": "scatterternary"
           }
          ],
          "surface": [
           {
            "colorbar": {
             "outlinewidth": 0,
             "ticks": ""
            },
            "colorscale": [
             [
              0,
              "#0d0887"
             ],
             [
              0.1111111111111111,
              "#46039f"
             ],
             [
              0.2222222222222222,
              "#7201a8"
             ],
             [
              0.3333333333333333,
              "#9c179e"
             ],
             [
              0.4444444444444444,
              "#bd3786"
             ],
             [
              0.5555555555555556,
              "#d8576b"
             ],
             [
              0.6666666666666666,
              "#ed7953"
             ],
             [
              0.7777777777777778,
              "#fb9f3a"
             ],
             [
              0.8888888888888888,
              "#fdca26"
             ],
             [
              1,
              "#f0f921"
             ]
            ],
            "type": "surface"
           }
          ],
          "table": [
           {
            "cells": {
             "fill": {
              "color": "#EBF0F8"
             },
             "line": {
              "color": "white"
             }
            },
            "header": {
             "fill": {
              "color": "#C8D4E3"
             },
             "line": {
              "color": "white"
             }
            },
            "type": "table"
           }
          ]
         },
         "layout": {
          "annotationdefaults": {
           "arrowcolor": "#2a3f5f",
           "arrowhead": 0,
           "arrowwidth": 1
          },
          "autotypenumbers": "strict",
          "coloraxis": {
           "colorbar": {
            "outlinewidth": 0,
            "ticks": ""
           }
          },
          "colorscale": {
           "diverging": [
            [
             0,
             "#8e0152"
            ],
            [
             0.1,
             "#c51b7d"
            ],
            [
             0.2,
             "#de77ae"
            ],
            [
             0.3,
             "#f1b6da"
            ],
            [
             0.4,
             "#fde0ef"
            ],
            [
             0.5,
             "#f7f7f7"
            ],
            [
             0.6,
             "#e6f5d0"
            ],
            [
             0.7,
             "#b8e186"
            ],
            [
             0.8,
             "#7fbc41"
            ],
            [
             0.9,
             "#4d9221"
            ],
            [
             1,
             "#276419"
            ]
           ],
           "sequential": [
            [
             0,
             "#0d0887"
            ],
            [
             0.1111111111111111,
             "#46039f"
            ],
            [
             0.2222222222222222,
             "#7201a8"
            ],
            [
             0.3333333333333333,
             "#9c179e"
            ],
            [
             0.4444444444444444,
             "#bd3786"
            ],
            [
             0.5555555555555556,
             "#d8576b"
            ],
            [
             0.6666666666666666,
             "#ed7953"
            ],
            [
             0.7777777777777778,
             "#fb9f3a"
            ],
            [
             0.8888888888888888,
             "#fdca26"
            ],
            [
             1,
             "#f0f921"
            ]
           ],
           "sequentialminus": [
            [
             0,
             "#0d0887"
            ],
            [
             0.1111111111111111,
             "#46039f"
            ],
            [
             0.2222222222222222,
             "#7201a8"
            ],
            [
             0.3333333333333333,
             "#9c179e"
            ],
            [
             0.4444444444444444,
             "#bd3786"
            ],
            [
             0.5555555555555556,
             "#d8576b"
            ],
            [
             0.6666666666666666,
             "#ed7953"
            ],
            [
             0.7777777777777778,
             "#fb9f3a"
            ],
            [
             0.8888888888888888,
             "#fdca26"
            ],
            [
             1,
             "#f0f921"
            ]
           ]
          },
          "colorway": [
           "#636efa",
           "#EF553B",
           "#00cc96",
           "#ab63fa",
           "#FFA15A",
           "#19d3f3",
           "#FF6692",
           "#B6E880",
           "#FF97FF",
           "#FECB52"
          ],
          "font": {
           "color": "#2a3f5f"
          },
          "geo": {
           "bgcolor": "white",
           "lakecolor": "white",
           "landcolor": "#E5ECF6",
           "showlakes": true,
           "showland": true,
           "subunitcolor": "white"
          },
          "hoverlabel": {
           "align": "left"
          },
          "hovermode": "closest",
          "mapbox": {
           "style": "light"
          },
          "paper_bgcolor": "white",
          "plot_bgcolor": "#E5ECF6",
          "polar": {
           "angularaxis": {
            "gridcolor": "white",
            "linecolor": "white",
            "ticks": ""
           },
           "bgcolor": "#E5ECF6",
           "radialaxis": {
            "gridcolor": "white",
            "linecolor": "white",
            "ticks": ""
           }
          },
          "scene": {
           "xaxis": {
            "backgroundcolor": "#E5ECF6",
            "gridcolor": "white",
            "gridwidth": 2,
            "linecolor": "white",
            "showbackground": true,
            "ticks": "",
            "zerolinecolor": "white"
           },
           "yaxis": {
            "backgroundcolor": "#E5ECF6",
            "gridcolor": "white",
            "gridwidth": 2,
            "linecolor": "white",
            "showbackground": true,
            "ticks": "",
            "zerolinecolor": "white"
           },
           "zaxis": {
            "backgroundcolor": "#E5ECF6",
            "gridcolor": "white",
            "gridwidth": 2,
            "linecolor": "white",
            "showbackground": true,
            "ticks": "",
            "zerolinecolor": "white"
           }
          },
          "shapedefaults": {
           "line": {
            "color": "#2a3f5f"
           }
          },
          "ternary": {
           "aaxis": {
            "gridcolor": "white",
            "linecolor": "white",
            "ticks": ""
           },
           "baxis": {
            "gridcolor": "white",
            "linecolor": "white",
            "ticks": ""
           },
           "bgcolor": "#E5ECF6",
           "caxis": {
            "gridcolor": "white",
            "linecolor": "white",
            "ticks": ""
           }
          },
          "title": {
           "x": 0.05
          },
          "xaxis": {
           "automargin": true,
           "gridcolor": "white",
           "linecolor": "white",
           "ticks": "",
           "title": {
            "standoff": 15
           },
           "zerolinecolor": "white",
           "zerolinewidth": 2
          },
          "yaxis": {
           "automargin": true,
           "gridcolor": "white",
           "linecolor": "white",
           "ticks": "",
           "title": {
            "standoff": 15
           },
           "zerolinecolor": "white",
           "zerolinewidth": 2
          }
         }
        },
        "updatemenus": [
         {
          "buttons": [
           {
            "args": [
             null,
             {
              "frame": {
               "duration": 500,
               "redraw": true
              },
              "fromcurrent": true,
              "mode": "immediate",
              "transition": {
               "duration": 500,
               "easing": "linear"
              }
             }
            ],
            "label": "&#9654;",
            "method": "animate"
           },
           {
            "args": [
             [
              null
             ],
             {
              "frame": {
               "duration": 0,
               "redraw": true
              },
              "fromcurrent": true,
              "mode": "immediate",
              "transition": {
               "duration": 0,
               "easing": "linear"
              }
             }
            ],
            "label": "&#9724;",
            "method": "animate"
           }
          ],
          "direction": "left",
          "pad": {
           "r": 10,
           "t": 70
          },
          "showactive": false,
          "type": "buttons",
          "x": 0.1,
          "xanchor": "right",
          "y": 0,
          "yanchor": "top"
         }
        ]
       }
      }
     },
     "metadata": {},
     "output_type": "display_data"
    }
   ],
   "source": [
    "'''df = px.data.gapminder()\n",
    "fig = px.scatter_geo(df, locations=\"iso_alpha\", color=\"continent\",\n",
    "                     hover_name=\"country\", size=\"pop\",\n",
    "                     animation_frame=\"year\",\n",
    "                     projection=\"natural earth\")\n",
    "fig.show()\n",
    "import plotly.graph_objects as go\n",
    "df = pd.read_csv('https://raw.githubusercontent.com/plotly/datasets/master/2014_us_cities.csv')\n",
    "df = df.head(10)\n",
    "df\n",
    "'''"
   ]
  },
  {
   "cell_type": "code",
   "execution_count": null,
   "metadata": {},
   "outputs": [],
   "source": [
    "'''import plotly.express as px\n",
    "df = px.data.gapminder()\n",
    "fig = px.scatter_geo(df, locations=\"iso_alpha\", color=\"continent\",\n",
    "                     hover_name=\"country\", size=\"pop\",\n",
    "                     animation_frame=\"year\",\n",
    "                     projection=\"natural earth\")\n",
    "fig.show()'''"
   ]
  },
  {
   "cell_type": "code",
   "execution_count": null,
   "metadata": {},
   "outputs": [],
   "source": [
    "df_se = pd.read_csv('twitter_seattle_data.csv')\n"
   ]
  },
  {
   "cell_type": "code",
   "execution_count": null,
   "metadata": {},
   "outputs": [],
   "source": [
    "df_se['Date'] = pd.to_datetime(df_se['Date'])\n",
    "dates = pd.Series(df_se['Date'], dtype = 'datetime64[ns]')\n",
    "dates_only = dates.dt.date\n"
   ]
  },
  {
   "cell_type": "code",
   "execution_count": null,
   "metadata": {},
   "outputs": [],
   "source": [
    "df_tw = pd.read_csv('analyzed_tweet_merged.csv')"
   ]
  },
  {
   "cell_type": "code",
   "execution_count": 94,
   "metadata": {},
   "outputs": [
    {
     "data": {
      "text/plain": [
       "New York City    2468\n",
       "Los Angeles      2328\n",
       "Chicago          2008\n",
       "Seattle          1655\n",
       "Name: city, dtype: int64"
      ]
     },
     "execution_count": 94,
     "metadata": {},
     "output_type": "execute_result"
    }
   ],
   "source": [
    "df_tw['city'].value_counts()"
   ]
  },
  {
   "cell_type": "code",
   "execution_count": 115,
   "metadata": {},
   "outputs": [
    {
     "data": {
      "text/plain": [
       "Negative    1176\n",
       "Neutral      422\n",
       "Positive      57\n",
       "Name: sentiment, dtype: int64"
      ]
     },
     "execution_count": 115,
     "metadata": {},
     "output_type": "execute_result"
    }
   ],
   "source": [
    "df_ny = df_tw[df_tw['city'] == 'Seattle']\n",
    "df_ny['sentiment'].value_counts()"
   ]
  },
  {
   "cell_type": "code",
   "execution_count": 146,
   "metadata": {},
   "outputs": [],
   "source": [
    "data = {'name': ['New York City', 'Chicago', 'Los Angeles', 'Seattle'],\n",
    "        'lat': [40.7128, 41.8781, 34.052235, 47.608013],\n",
    "        'lon': [-74.006, -87.6298, -118.243683, -122.335167],\n",
    "        'pop': [108*5, 112*5, 75*5, 57*5]\n",
    "        }\n",
    "df = pd.DataFrame(data)\n"
   ]
  },
  {
   "cell_type": "code",
   "execution_count": 153,
   "metadata": {},
   "outputs": [
    {
     "data": {
      "application/vnd.plotly.v1+json": {
       "config": {
        "plotlyServerURL": "https://plot.ly"
       },
       "data": [
        {
         "lat": [
          40.7128
         ],
         "locationmode": "USA-states",
         "lon": [
          -74.006
         ],
         "marker": {
          "color": "royalblue",
          "line": {
           "color": "rgb(40,40,40)",
           "width": 0.5
          },
          "size": [
           540
          ],
          "sizemode": "area"
         },
         "name": "0 - 1",
         "text": [
          "New York City<br>Number of positive tweets 108.0"
         ],
         "type": "scattergeo"
        },
        {
         "lat": [
          41.8781
         ],
         "locationmode": "USA-states",
         "lon": [
          -87.6298
         ],
         "marker": {
          "color": "crimson",
          "line": {
           "color": "rgb(40,40,40)",
           "width": 0.5
          },
          "size": [
           560
          ],
          "sizemode": "area"
         },
         "name": "1 - 2",
         "text": [
          "Chicago<br>Number of positive tweets 112.0"
         ],
         "type": "scattergeo"
        },
        {
         "lat": [
          34.052235,
          47.608013
         ],
         "locationmode": "USA-states",
         "lon": [
          -118.243683,
          -122.335167
         ],
         "marker": {
          "color": "orange",
          "line": {
           "color": "rgb(40,40,40)",
           "width": 0.5
          },
          "size": [
           375,
           285
          ],
          "sizemode": "area"
         },
         "name": "2 - 4",
         "text": [
          "Los Angeles<br>Number of positive tweets 75.0",
          "Seattle<br>Number of positive tweets 57.0"
         ],
         "type": "scattergeo"
        }
       ],
       "layout": {
        "geo": {
         "landcolor": "rgb(217, 217, 217)",
         "scope": "usa"
        },
        "showlegend": true,
        "template": {
         "data": {
          "bar": [
           {
            "error_x": {
             "color": "#2a3f5f"
            },
            "error_y": {
             "color": "#2a3f5f"
            },
            "marker": {
             "line": {
              "color": "#E5ECF6",
              "width": 0.5
             },
             "pattern": {
              "fillmode": "overlay",
              "size": 10,
              "solidity": 0.2
             }
            },
            "type": "bar"
           }
          ],
          "barpolar": [
           {
            "marker": {
             "line": {
              "color": "#E5ECF6",
              "width": 0.5
             },
             "pattern": {
              "fillmode": "overlay",
              "size": 10,
              "solidity": 0.2
             }
            },
            "type": "barpolar"
           }
          ],
          "carpet": [
           {
            "aaxis": {
             "endlinecolor": "#2a3f5f",
             "gridcolor": "white",
             "linecolor": "white",
             "minorgridcolor": "white",
             "startlinecolor": "#2a3f5f"
            },
            "baxis": {
             "endlinecolor": "#2a3f5f",
             "gridcolor": "white",
             "linecolor": "white",
             "minorgridcolor": "white",
             "startlinecolor": "#2a3f5f"
            },
            "type": "carpet"
           }
          ],
          "choropleth": [
           {
            "colorbar": {
             "outlinewidth": 0,
             "ticks": ""
            },
            "type": "choropleth"
           }
          ],
          "contour": [
           {
            "colorbar": {
             "outlinewidth": 0,
             "ticks": ""
            },
            "colorscale": [
             [
              0,
              "#0d0887"
             ],
             [
              0.1111111111111111,
              "#46039f"
             ],
             [
              0.2222222222222222,
              "#7201a8"
             ],
             [
              0.3333333333333333,
              "#9c179e"
             ],
             [
              0.4444444444444444,
              "#bd3786"
             ],
             [
              0.5555555555555556,
              "#d8576b"
             ],
             [
              0.6666666666666666,
              "#ed7953"
             ],
             [
              0.7777777777777778,
              "#fb9f3a"
             ],
             [
              0.8888888888888888,
              "#fdca26"
             ],
             [
              1,
              "#f0f921"
             ]
            ],
            "type": "contour"
           }
          ],
          "contourcarpet": [
           {
            "colorbar": {
             "outlinewidth": 0,
             "ticks": ""
            },
            "type": "contourcarpet"
           }
          ],
          "heatmap": [
           {
            "colorbar": {
             "outlinewidth": 0,
             "ticks": ""
            },
            "colorscale": [
             [
              0,
              "#0d0887"
             ],
             [
              0.1111111111111111,
              "#46039f"
             ],
             [
              0.2222222222222222,
              "#7201a8"
             ],
             [
              0.3333333333333333,
              "#9c179e"
             ],
             [
              0.4444444444444444,
              "#bd3786"
             ],
             [
              0.5555555555555556,
              "#d8576b"
             ],
             [
              0.6666666666666666,
              "#ed7953"
             ],
             [
              0.7777777777777778,
              "#fb9f3a"
             ],
             [
              0.8888888888888888,
              "#fdca26"
             ],
             [
              1,
              "#f0f921"
             ]
            ],
            "type": "heatmap"
           }
          ],
          "heatmapgl": [
           {
            "colorbar": {
             "outlinewidth": 0,
             "ticks": ""
            },
            "colorscale": [
             [
              0,
              "#0d0887"
             ],
             [
              0.1111111111111111,
              "#46039f"
             ],
             [
              0.2222222222222222,
              "#7201a8"
             ],
             [
              0.3333333333333333,
              "#9c179e"
             ],
             [
              0.4444444444444444,
              "#bd3786"
             ],
             [
              0.5555555555555556,
              "#d8576b"
             ],
             [
              0.6666666666666666,
              "#ed7953"
             ],
             [
              0.7777777777777778,
              "#fb9f3a"
             ],
             [
              0.8888888888888888,
              "#fdca26"
             ],
             [
              1,
              "#f0f921"
             ]
            ],
            "type": "heatmapgl"
           }
          ],
          "histogram": [
           {
            "marker": {
             "pattern": {
              "fillmode": "overlay",
              "size": 10,
              "solidity": 0.2
             }
            },
            "type": "histogram"
           }
          ],
          "histogram2d": [
           {
            "colorbar": {
             "outlinewidth": 0,
             "ticks": ""
            },
            "colorscale": [
             [
              0,
              "#0d0887"
             ],
             [
              0.1111111111111111,
              "#46039f"
             ],
             [
              0.2222222222222222,
              "#7201a8"
             ],
             [
              0.3333333333333333,
              "#9c179e"
             ],
             [
              0.4444444444444444,
              "#bd3786"
             ],
             [
              0.5555555555555556,
              "#d8576b"
             ],
             [
              0.6666666666666666,
              "#ed7953"
             ],
             [
              0.7777777777777778,
              "#fb9f3a"
             ],
             [
              0.8888888888888888,
              "#fdca26"
             ],
             [
              1,
              "#f0f921"
             ]
            ],
            "type": "histogram2d"
           }
          ],
          "histogram2dcontour": [
           {
            "colorbar": {
             "outlinewidth": 0,
             "ticks": ""
            },
            "colorscale": [
             [
              0,
              "#0d0887"
             ],
             [
              0.1111111111111111,
              "#46039f"
             ],
             [
              0.2222222222222222,
              "#7201a8"
             ],
             [
              0.3333333333333333,
              "#9c179e"
             ],
             [
              0.4444444444444444,
              "#bd3786"
             ],
             [
              0.5555555555555556,
              "#d8576b"
             ],
             [
              0.6666666666666666,
              "#ed7953"
             ],
             [
              0.7777777777777778,
              "#fb9f3a"
             ],
             [
              0.8888888888888888,
              "#fdca26"
             ],
             [
              1,
              "#f0f921"
             ]
            ],
            "type": "histogram2dcontour"
           }
          ],
          "mesh3d": [
           {
            "colorbar": {
             "outlinewidth": 0,
             "ticks": ""
            },
            "type": "mesh3d"
           }
          ],
          "parcoords": [
           {
            "line": {
             "colorbar": {
              "outlinewidth": 0,
              "ticks": ""
             }
            },
            "type": "parcoords"
           }
          ],
          "pie": [
           {
            "automargin": true,
            "type": "pie"
           }
          ],
          "scatter": [
           {
            "fillpattern": {
             "fillmode": "overlay",
             "size": 10,
             "solidity": 0.2
            },
            "type": "scatter"
           }
          ],
          "scatter3d": [
           {
            "line": {
             "colorbar": {
              "outlinewidth": 0,
              "ticks": ""
             }
            },
            "marker": {
             "colorbar": {
              "outlinewidth": 0,
              "ticks": ""
             }
            },
            "type": "scatter3d"
           }
          ],
          "scattercarpet": [
           {
            "marker": {
             "colorbar": {
              "outlinewidth": 0,
              "ticks": ""
             }
            },
            "type": "scattercarpet"
           }
          ],
          "scattergeo": [
           {
            "marker": {
             "colorbar": {
              "outlinewidth": 0,
              "ticks": ""
             }
            },
            "type": "scattergeo"
           }
          ],
          "scattergl": [
           {
            "marker": {
             "colorbar": {
              "outlinewidth": 0,
              "ticks": ""
             }
            },
            "type": "scattergl"
           }
          ],
          "scattermapbox": [
           {
            "marker": {
             "colorbar": {
              "outlinewidth": 0,
              "ticks": ""
             }
            },
            "type": "scattermapbox"
           }
          ],
          "scatterpolar": [
           {
            "marker": {
             "colorbar": {
              "outlinewidth": 0,
              "ticks": ""
             }
            },
            "type": "scatterpolar"
           }
          ],
          "scatterpolargl": [
           {
            "marker": {
             "colorbar": {
              "outlinewidth": 0,
              "ticks": ""
             }
            },
            "type": "scatterpolargl"
           }
          ],
          "scatterternary": [
           {
            "marker": {
             "colorbar": {
              "outlinewidth": 0,
              "ticks": ""
             }
            },
            "type": "scatterternary"
           }
          ],
          "surface": [
           {
            "colorbar": {
             "outlinewidth": 0,
             "ticks": ""
            },
            "colorscale": [
             [
              0,
              "#0d0887"
             ],
             [
              0.1111111111111111,
              "#46039f"
             ],
             [
              0.2222222222222222,
              "#7201a8"
             ],
             [
              0.3333333333333333,
              "#9c179e"
             ],
             [
              0.4444444444444444,
              "#bd3786"
             ],
             [
              0.5555555555555556,
              "#d8576b"
             ],
             [
              0.6666666666666666,
              "#ed7953"
             ],
             [
              0.7777777777777778,
              "#fb9f3a"
             ],
             [
              0.8888888888888888,
              "#fdca26"
             ],
             [
              1,
              "#f0f921"
             ]
            ],
            "type": "surface"
           }
          ],
          "table": [
           {
            "cells": {
             "fill": {
              "color": "#EBF0F8"
             },
             "line": {
              "color": "white"
             }
            },
            "header": {
             "fill": {
              "color": "#C8D4E3"
             },
             "line": {
              "color": "white"
             }
            },
            "type": "table"
           }
          ]
         },
         "layout": {
          "annotationdefaults": {
           "arrowcolor": "#2a3f5f",
           "arrowhead": 0,
           "arrowwidth": 1
          },
          "autotypenumbers": "strict",
          "coloraxis": {
           "colorbar": {
            "outlinewidth": 0,
            "ticks": ""
           }
          },
          "colorscale": {
           "diverging": [
            [
             0,
             "#8e0152"
            ],
            [
             0.1,
             "#c51b7d"
            ],
            [
             0.2,
             "#de77ae"
            ],
            [
             0.3,
             "#f1b6da"
            ],
            [
             0.4,
             "#fde0ef"
            ],
            [
             0.5,
             "#f7f7f7"
            ],
            [
             0.6,
             "#e6f5d0"
            ],
            [
             0.7,
             "#b8e186"
            ],
            [
             0.8,
             "#7fbc41"
            ],
            [
             0.9,
             "#4d9221"
            ],
            [
             1,
             "#276419"
            ]
           ],
           "sequential": [
            [
             0,
             "#0d0887"
            ],
            [
             0.1111111111111111,
             "#46039f"
            ],
            [
             0.2222222222222222,
             "#7201a8"
            ],
            [
             0.3333333333333333,
             "#9c179e"
            ],
            [
             0.4444444444444444,
             "#bd3786"
            ],
            [
             0.5555555555555556,
             "#d8576b"
            ],
            [
             0.6666666666666666,
             "#ed7953"
            ],
            [
             0.7777777777777778,
             "#fb9f3a"
            ],
            [
             0.8888888888888888,
             "#fdca26"
            ],
            [
             1,
             "#f0f921"
            ]
           ],
           "sequentialminus": [
            [
             0,
             "#0d0887"
            ],
            [
             0.1111111111111111,
             "#46039f"
            ],
            [
             0.2222222222222222,
             "#7201a8"
            ],
            [
             0.3333333333333333,
             "#9c179e"
            ],
            [
             0.4444444444444444,
             "#bd3786"
            ],
            [
             0.5555555555555556,
             "#d8576b"
            ],
            [
             0.6666666666666666,
             "#ed7953"
            ],
            [
             0.7777777777777778,
             "#fb9f3a"
            ],
            [
             0.8888888888888888,
             "#fdca26"
            ],
            [
             1,
             "#f0f921"
            ]
           ]
          },
          "colorway": [
           "#636efa",
           "#EF553B",
           "#00cc96",
           "#ab63fa",
           "#FFA15A",
           "#19d3f3",
           "#FF6692",
           "#B6E880",
           "#FF97FF",
           "#FECB52"
          ],
          "font": {
           "color": "#2a3f5f"
          },
          "geo": {
           "bgcolor": "white",
           "lakecolor": "white",
           "landcolor": "#E5ECF6",
           "showlakes": true,
           "showland": true,
           "subunitcolor": "white"
          },
          "hoverlabel": {
           "align": "left"
          },
          "hovermode": "closest",
          "mapbox": {
           "style": "light"
          },
          "paper_bgcolor": "white",
          "plot_bgcolor": "#E5ECF6",
          "polar": {
           "angularaxis": {
            "gridcolor": "white",
            "linecolor": "white",
            "ticks": ""
           },
           "bgcolor": "#E5ECF6",
           "radialaxis": {
            "gridcolor": "white",
            "linecolor": "white",
            "ticks": ""
           }
          },
          "scene": {
           "xaxis": {
            "backgroundcolor": "#E5ECF6",
            "gridcolor": "white",
            "gridwidth": 2,
            "linecolor": "white",
            "showbackground": true,
            "ticks": "",
            "zerolinecolor": "white"
           },
           "yaxis": {
            "backgroundcolor": "#E5ECF6",
            "gridcolor": "white",
            "gridwidth": 2,
            "linecolor": "white",
            "showbackground": true,
            "ticks": "",
            "zerolinecolor": "white"
           },
           "zaxis": {
            "backgroundcolor": "#E5ECF6",
            "gridcolor": "white",
            "gridwidth": 2,
            "linecolor": "white",
            "showbackground": true,
            "ticks": "",
            "zerolinecolor": "white"
           }
          },
          "shapedefaults": {
           "line": {
            "color": "#2a3f5f"
           }
          },
          "ternary": {
           "aaxis": {
            "gridcolor": "white",
            "linecolor": "white",
            "ticks": ""
           },
           "baxis": {
            "gridcolor": "white",
            "linecolor": "white",
            "ticks": ""
           },
           "bgcolor": "#E5ECF6",
           "caxis": {
            "gridcolor": "white",
            "linecolor": "white",
            "ticks": ""
           }
          },
          "title": {
           "x": 0.05
          },
          "xaxis": {
           "automargin": true,
           "gridcolor": "white",
           "linecolor": "white",
           "ticks": "",
           "title": {
            "standoff": 15
           },
           "zerolinecolor": "white",
           "zerolinewidth": 2
          },
          "yaxis": {
           "automargin": true,
           "gridcolor": "white",
           "linecolor": "white",
           "ticks": "",
           "title": {
            "standoff": 15
           },
           "zerolinecolor": "white",
           "zerolinewidth": 2
          }
         }
        },
        "title": {
         "text": "Number of positive tweets"
        }
       }
      }
     },
     "metadata": {},
     "output_type": "display_data"
    }
   ],
   "source": [
    "\n",
    "\n",
    "df['text'] = df['name'] + '<br>Number of positive tweets '+ (df['pop']/5).astype(str)\n",
    "limits = [(0,1),(1,2),(2,4)]\n",
    "colors = [\"royalblue\",\"crimson\",\"orange\"]\n",
    "cities = []\n",
    "\n",
    "\n",
    "fig = go.Figure()\n",
    "\n",
    "for i in range(len(limits)):\n",
    "    lim = limits[i]\n",
    "    df_sub = df[lim[0]:lim[1]]\n",
    "    fig.add_trace(go.Scattergeo(\n",
    "        locationmode = 'USA-states',\n",
    "        lon = df_sub['lon'],\n",
    "        lat = df_sub['lat'],\n",
    "        text = df_sub['text'],\n",
    "        marker = dict(\n",
    "            size = df_sub['pop'],\n",
    "            color = colors[i],\n",
    "            line_color='rgb(40,40,40)',\n",
    "            line_width=0.5,\n",
    "            sizemode = 'area'\n",
    "        ),\n",
    "        name = '{0} - {1}'.format(lim[0],lim[1])))\n",
    "\n",
    "fig.update_layout(\n",
    "        title_text = 'Number of positive tweets',\n",
    "        showlegend = True,\n",
    "        geo = dict(\n",
    "            scope = 'usa',\n",
    "            landcolor = 'rgb(217, 217, 217)',\n",
    "        )\n",
    "    )\n",
    "\n",
    "fig.show()"
   ]
  },
  {
   "cell_type": "code",
   "execution_count": null,
   "metadata": {},
   "outputs": [],
   "source": [
    "fig.update_layout(\n",
    "      title_text = '20-24 years old abortion rate',\n",
    "      title_font_family=\"Times New Roman\",\n",
    "      title_font_size = 30,\n",
    "      title_font_color=\"black\", \n",
    "      title_x=0.45, \n",
    "         )"
   ]
  }
 ],
 "metadata": {
  "kernelspec": {
   "display_name": "base",
   "language": "python",
   "name": "python3"
  },
  "language_info": {
   "codemirror_mode": {
    "name": "ipython",
    "version": 3
   },
   "file_extension": ".py",
   "mimetype": "text/x-python",
   "name": "python",
   "nbconvert_exporter": "python",
   "pygments_lexer": "ipython3",
   "version": "3.9.12"
  },
  "orig_nbformat": 4,
  "vscode": {
   "interpreter": {
    "hash": "a9a31ad95cd51040274d8bb1b21c4af075d951a883a6fae9ef0ae5472db3364d"
   }
  }
 },
 "nbformat": 4,
 "nbformat_minor": 2
}
